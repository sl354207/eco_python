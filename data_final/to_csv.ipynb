{
 "cells": [
  {
   "cell_type": "code",
   "execution_count": null,
   "metadata": {},
   "outputs": [],
   "source": [
    "import pandas as pd\n",
    "import numpy as np\n",
    "import json\n",
    "\n",
    "pd.set_option(\"display.max_columns\", None)\n",
    "# pd.set_option('display.max_rows', 100)\n",
    "# pd.set_option('display.max_seq_items', 100)\n",
    "\n",
    "# 400 meter coordinate accuracy\n",
    "# 1923 earliest year"
   ]
  },
  {
   "cell_type": "code",
   "execution_count": null,
   "metadata": {},
   "outputs": [],
   "source": [
    "# read in cleaned andmerged data\n",
    "df_path = input(\"Enter the file path: \")\n",
    "\n",
    "df = pd.read_parquet(df_path)\n"
   ]
  },
  {
   "cell_type": "code",
   "execution_count": null,
   "metadata": {},
   "outputs": [],
   "source": [
    "# df_1 = df from rows 0 to 100000\n",
    "# df_2 = df from rows 100000 to 200000\n",
    "# df_3 = df from rows 200000 to 300000\n",
    "# df_4 = df from rows 300000 to end of df\n",
    "\n",
    "df_1 = df.iloc[:100000]\n",
    "df_2 = df.iloc[100000:200000]\n",
    "df_3 = df.iloc[200000:300000]\n",
    "df_4 = df.iloc[300000:]"
   ]
  },
  {
   "cell_type": "code",
   "execution_count": null,
   "metadata": {},
   "outputs": [],
   "source": [
    "# df_path = input(\"Enter the file path: \")\n",
    "# df.to_csv(df_path, chunksize=1000000, index=False)\n",
    "\n",
    "# file too big for json\n",
    "# df.to_json(df_path, orient=\"records\", force_ascii=False)"
   ]
  },
  {
   "cell_type": "code",
   "execution_count": null,
   "metadata": {},
   "outputs": [],
   "source": [
    "# holder_dictionary = df.to_dict(orient='records')\n",
    "\n",
    "# df_path = input(\"Enter the file path: \")\n",
    "\n",
    "\n",
    "# with open(df_path, 'w') as outfile:\n",
    "#     json.dump(holder_dictionary, outfile)\n"
   ]
  }
 ],
 "metadata": {
  "kernelspec": {
   "display_name": "eco",
   "language": "python",
   "name": "python3"
  },
  "language_info": {
   "codemirror_mode": {
    "name": "ipython",
    "version": 3
   },
   "file_extension": ".py",
   "mimetype": "text/x-python",
   "name": "python",
   "nbconvert_exporter": "python",
   "pygments_lexer": "ipython3",
   "version": "3.9.7"
  },
  "orig_nbformat": 4
 },
 "nbformat": 4,
 "nbformat_minor": 2
}
