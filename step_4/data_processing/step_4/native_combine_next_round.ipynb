{
 "cells": [
  {
   "cell_type": "code",
   "execution_count": null,
   "metadata": {},
   "outputs": [],
   "source": [
    "import pandas as pd\n",
    "\n",
    "# PART 1 - ALREADY BEEN CHECKLISTED IN COMBINE_ALL"
   ]
  },
  {
   "cell_type": "code",
   "execution_count": null,
   "metadata": {},
   "outputs": [],
   "source": [
    "species = pd.read_csv(\"/media/muskrat/T7 Shield/eco_data/v4/db_exports/species.csv\")\n",
    "\n",
    "species"
   ]
  },
  {
   "cell_type": "code",
   "execution_count": null,
   "metadata": {},
   "outputs": [],
   "source": [
    "native = pd.read_parquet(\n",
    "    \"/media/muskrat/T7 Shield/eco_data/v4/combined/native_checklisted_v2.parquet\"\n",
    ")\n",
    "\n",
    "native"
   ]
  },
  {
   "cell_type": "code",
   "execution_count": null,
   "metadata": {},
   "outputs": [],
   "source": [
    "# create new_native dataframe that contains the rows in native that are not in species\n",
    "new_native = native[~native[\"scientific_name\"].isin(species[\"scientific_name\"])]\n",
    "\n",
    "new_native"
   ]
  },
  {
   "cell_type": "code",
   "execution_count": null,
   "metadata": {},
   "outputs": [],
   "source": [
    "test = pd.merge(\n",
    "    new_native,\n",
    "    species,\n",
    "    on=\"scientific_name\",\n",
    "    how=\"inner\",\n",
    ")\n",
    "\n",
    "test"
   ]
  },
  {
   "cell_type": "code",
   "execution_count": null,
   "metadata": {},
   "outputs": [],
   "source": [
    "old_species = species[~species.scientific_name.isin(native.scientific_name)]\n",
    "\n",
    "old_species"
   ]
  },
  {
   "cell_type": "code",
   "execution_count": null,
   "metadata": {},
   "outputs": [],
   "source": [
    "native_and_species = pd.merge(native, species, on=\"scientific_name\", how=\"inner\")\n",
    "\n",
    "native_and_species"
   ]
  },
  {
   "cell_type": "code",
   "execution_count": null,
   "metadata": {},
   "outputs": [],
   "source": [
    "native_and_species[\"observed_ecoregions\"].iloc[0][0]"
   ]
  },
  {
   "cell_type": "code",
   "execution_count": null,
   "metadata": {},
   "outputs": [],
   "source": [
    "for i in range(len(native_and_species)):\n",
    "    native_and_species[\"observed_ecoregions\"].iloc[i] = (\n",
    "        native_and_species[\"observed_ecoregions\"]\n",
    "        .iloc[i]\n",
    "        .replace('[\"', \"\")\n",
    "        .replace('\"]', \"\")\n",
    "        .split('\",\"')\n",
    "    )\n",
    "\n",
    "\n",
    "native_and_species"
   ]
  },
  {
   "cell_type": "code",
   "execution_count": null,
   "metadata": {},
   "outputs": [],
   "source": [
    "# find rows from native_and_species where native_ecoregions_y is not na\n",
    "\n",
    "old_native_ecoregions = native_and_species[\n",
    "    ~native_and_species[\"native_ecoregions_y\"].isna()\n",
    "]\n",
    "\n",
    "old_native_ecoregions"
   ]
  },
  {
   "cell_type": "code",
   "execution_count": null,
   "metadata": {},
   "outputs": [],
   "source": [
    "for i in range(len(old_native_ecoregions)):\n",
    "    old_native_ecoregions[\"native_ecoregions_y\"].iloc[i] = (\n",
    "        old_native_ecoregions[\"native_ecoregions_y\"]\n",
    "        .iloc[i]\n",
    "        .replace('[\"', \"\")\n",
    "        .replace('\"]', \"\")\n",
    "        .split('\",\"')\n",
    "    )\n",
    "\n",
    "old_native_ecoregions"
   ]
  },
  {
   "cell_type": "code",
   "execution_count": null,
   "metadata": {},
   "outputs": [],
   "source": [
    "# find rows from old_native_ecoregions where native_ecoregions_y equals observed_ecoregions\n",
    "\n",
    "native_observed = old_native_ecoregions[\n",
    "    old_native_ecoregions[\"native_ecoregions_y\"]\n",
    "    == old_native_ecoregions[\"observed_ecoregions\"]\n",
    "]\n",
    "\n",
    "native_observed"
   ]
  },
  {
   "cell_type": "code",
   "execution_count": null,
   "metadata": {},
   "outputs": [],
   "source": [
    "# replace observed_ecoregions in old_native_ecoregions with native_ecoregions_x\n",
    "\n",
    "native_observed[\"observed_ecoregions\"] = native_observed[\"native_ecoregions_x\"]\n",
    "\n",
    "native_observed"
   ]
  },
  {
   "cell_type": "code",
   "execution_count": null,
   "metadata": {},
   "outputs": [],
   "source": [
    "# drop native_ecoregions_y, kingdom_x, phylum_x, class_x, order_x, family_x, genus_x from native_observed\n",
    "\n",
    "native_observed = native_observed.drop(\n",
    "    [\n",
    "        \"native_ecoregions_y\",\n",
    "        \"kingdom_x\",\n",
    "        \"phylum_x\",\n",
    "        \"class_x\",\n",
    "        \"order_x\",\n",
    "        \"family_x\",\n",
    "        \"genus_x\",\n",
    "    ],\n",
    "    axis=1,\n",
    ")\n",
    "\n",
    "native_observed"
   ]
  },
  {
   "cell_type": "code",
   "execution_count": null,
   "metadata": {},
   "outputs": [],
   "source": [
    "# rename native_ecoregions_x to native_ecoregions, kingdom_y to kingdom, phylum_y to phylum, class_y to class, order_y to order, family_y to family, genus_y to genus in native_observed\n",
    "\n",
    "native_observed = native_observed.rename(\n",
    "    columns={\n",
    "        \"native_ecoregions_x\": \"native_ecoregions\",\n",
    "        \"kingdom_y\": \"kingdom\",\n",
    "        \"phylum_y\": \"phylum\",\n",
    "        \"class_y\": \"class\",\n",
    "        \"order_y\": \"order\",\n",
    "        \"family_y\": \"family\",\n",
    "        \"genus_y\": \"genus\",\n",
    "    }\n",
    ")\n",
    "\n",
    "native_observed"
   ]
  },
  {
   "cell_type": "code",
   "execution_count": null,
   "metadata": {},
   "outputs": [],
   "source": [
    "# remove rows from old_native_ecoregions that are in native_observed\n",
    "\n",
    "old_native_ecoregions = old_native_ecoregions[\n",
    "    ~old_native_ecoregions[\"scientific_name\"].isin(native_observed[\"scientific_name\"])\n",
    "]\n",
    "\n",
    "old_native_ecoregions"
   ]
  },
  {
   "cell_type": "code",
   "execution_count": null,
   "metadata": {},
   "outputs": [],
   "source": [
    "# drop native_ecoregions_y, kingdom_x, phylum_x, class_x, order_x, family_x, genus_x from old_native_ecoregions\n",
    "\n",
    "old_native_ecoregions = old_native_ecoregions.drop(\n",
    "    [\n",
    "        \"native_ecoregions_y\",\n",
    "        \"kingdom_x\",\n",
    "        \"phylum_x\",\n",
    "        \"class_x\",\n",
    "        \"order_x\",\n",
    "        \"family_x\",\n",
    "        \"genus_x\",\n",
    "    ],\n",
    "    axis=1,\n",
    ")\n",
    "\n",
    "old_native_ecoregions"
   ]
  },
  {
   "cell_type": "code",
   "execution_count": null,
   "metadata": {},
   "outputs": [],
   "source": [
    "# rename native_ecoregions_x to native_ecoregions, kingdom_y to kingdom, phylum_y to phylum, class_y to class, order_y to order, family_y to family, genus_y to genus in old_native_ecoregions\n",
    "\n",
    "old_native_ecoregions = old_native_ecoregions.rename(\n",
    "    columns={\n",
    "        \"native_ecoregions_x\": \"native_ecoregions\",\n",
    "        \"kingdom_y\": \"kingdom\",\n",
    "        \"phylum_y\": \"phylum\",\n",
    "        \"class_y\": \"class\",\n",
    "        \"order_y\": \"order\",\n",
    "        \"family_y\": \"family\",\n",
    "        \"genus_y\": \"genus\",\n",
    "    }\n",
    ")\n",
    "\n",
    "old_native_ecoregions"
   ]
  },
  {
   "cell_type": "code",
   "execution_count": null,
   "metadata": {},
   "outputs": [],
   "source": [
    "# concat native_observed and old_native_ecoregions\n",
    "\n",
    "old_native_ecoregions = pd.concat([native_observed, old_native_ecoregions])\n",
    "\n",
    "old_native_ecoregions"
   ]
  },
  {
   "cell_type": "code",
   "execution_count": null,
   "metadata": {},
   "outputs": [],
   "source": [
    "# remove old_native_ecoregions from native_and_species\n",
    "\n",
    "native_and_species = native_and_species[\n",
    "    ~native_and_species[\"scientific_name\"].isin(\n",
    "        old_native_ecoregions[\"scientific_name\"]\n",
    "    )\n",
    "]\n",
    "\n",
    "native_and_species"
   ]
  },
  {
   "cell_type": "code",
   "execution_count": null,
   "metadata": {},
   "outputs": [],
   "source": [
    "# drop native_ecoregions_y, kingdom_x, phylum_x, class_x, order_x, family_x, genus_x from native_and_species\n",
    "\n",
    "native_and_species = native_and_species.drop(\n",
    "    [\n",
    "        \"native_ecoregions_y\",\n",
    "        \"kingdom_x\",\n",
    "        \"phylum_x\",\n",
    "        \"class_x\",\n",
    "        \"order_x\",\n",
    "        \"family_x\",\n",
    "        \"genus_x\",\n",
    "    ],\n",
    "    axis=1,\n",
    ")\n",
    "\n",
    "native_and_species"
   ]
  },
  {
   "cell_type": "code",
   "execution_count": null,
   "metadata": {},
   "outputs": [],
   "source": [
    "# rename native_ecoregions_x to native_ecoregions, kingdom_y to kingdom, phylum_y to phylum, class_y to class, order_y to order, family_y to family, genus_y to genus in native_and_species\n",
    "\n",
    "native_and_species = native_and_species.rename(\n",
    "    columns={\n",
    "        \"native_ecoregions_x\": \"native_ecoregions\",\n",
    "        \"kingdom_y\": \"kingdom\",\n",
    "        \"phylum_y\": \"phylum\",\n",
    "        \"class_y\": \"class\",\n",
    "        \"order_y\": \"order\",\n",
    "        \"family_y\": \"family\",\n",
    "        \"genus_y\": \"genus\",\n",
    "    }\n",
    ")\n",
    "\n",
    "native_and_species"
   ]
  },
  {
   "cell_type": "code",
   "execution_count": null,
   "metadata": {},
   "outputs": [],
   "source": [
    "# concat native_and_species and old_native_ecoregions\n",
    "\n",
    "native_and_species = pd.concat([native_and_species, old_native_ecoregions])\n",
    "\n",
    "native_and_species"
   ]
  },
  {
   "cell_type": "code",
   "execution_count": null,
   "metadata": {},
   "outputs": [],
   "source": [
    "# check for duplicates in scientific_name of native_and_species\n",
    "\n",
    "native_and_species[\n",
    "    native_and_species.duplicated(subset=[\"scientific_name\"], keep=False)\n",
    "]"
   ]
  },
  {
   "cell_type": "code",
   "execution_count": null,
   "metadata": {},
   "outputs": [],
   "source": [
    "native_and_species.to_parquet(\n",
    "    \"/media/muskrat/T7 Shield/eco_data/v4/combined/in_native_and_species.parquet\"\n",
    ")"
   ]
  },
  {
   "cell_type": "code",
   "execution_count": null,
   "metadata": {},
   "outputs": [],
   "source": [
    "# create column in new_native called observed_ecoregions and make it's value equal to native_ecoregions\n",
    "\n",
    "new_native[\"observed_ecoregions\"] = new_native[\"native_ecoregions\"]\n",
    "\n",
    "new_native"
   ]
  },
  {
   "cell_type": "code",
   "execution_count": null,
   "metadata": {},
   "outputs": [],
   "source": [
    "new_native.to_parquet(\n",
    "    \"/media/muskrat/T7 Shield/eco_data/v4/combined/new_native_species.parquet\"\n",
    ")"
   ]
  },
  {
   "cell_type": "code",
   "execution_count": null,
   "metadata": {},
   "outputs": [],
   "source": [
    "for i in range(len(old_species)):\n",
    "    old_species[\"observed_ecoregions\"].iloc[i] = (\n",
    "        old_species[\"observed_ecoregions\"]\n",
    "        .iloc[i]\n",
    "        .replace('[\"', \"\")\n",
    "        .replace('\"]', \"\")\n",
    "        .split('\",\"')\n",
    "    )\n",
    "\n",
    "\n",
    "old_species"
   ]
  },
  {
   "cell_type": "code",
   "execution_count": null,
   "metadata": {},
   "outputs": [],
   "source": [
    "old_species[\"observed_ecoregions\"].iloc[0][0]"
   ]
  },
  {
   "cell_type": "code",
   "execution_count": null,
   "metadata": {},
   "outputs": [],
   "source": [
    "old_species[\"native_ecoregions\"].iloc[21][0]"
   ]
  },
  {
   "cell_type": "code",
   "execution_count": null,
   "metadata": {},
   "outputs": [],
   "source": [
    "type(old_species[\"native_ecoregions\"].iloc[1])"
   ]
  },
  {
   "cell_type": "code",
   "execution_count": null,
   "metadata": {},
   "outputs": [],
   "source": [
    "# if old_species['native_ecoregions'].iloc[21] == '[]':\n",
    "#     print('true')\n",
    "\n",
    "if type(old_species[\"native_ecoregions\"].iloc[13025]) == float:\n",
    "    print(\"true\")"
   ]
  },
  {
   "cell_type": "code",
   "execution_count": null,
   "metadata": {},
   "outputs": [],
   "source": [
    "for i in range(len(old_species)):\n",
    "    if type(old_species[\"native_ecoregions\"].iloc[i]) == float:\n",
    "        old_species[\"native_ecoregions\"].iloc[i] = None\n",
    "    elif old_species[\"native_ecoregions\"].iloc[i] == [\"[]\"]:\n",
    "        old_species[\"native_ecoregions\"].iloc[i] = None\n",
    "    else:\n",
    "        old_species[\"native_ecoregions\"].iloc[i] = (\n",
    "            old_species[\"native_ecoregions\"]\n",
    "            .iloc[i]\n",
    "            .replace('[\"', \"\")\n",
    "            .replace('\"]', \"\")\n",
    "            .split('\",\"')\n",
    "        )\n",
    "\n",
    "\n",
    "old_species"
   ]
  },
  {
   "cell_type": "code",
   "execution_count": null,
   "metadata": {},
   "outputs": [],
   "source": [
    "old_species.to_parquet(\n",
    "    \"/media/muskrat/T7 Shield/eco_data/v4/combined/old_species.parquet\"\n",
    ")"
   ]
  },
  {
   "cell_type": "code",
   "execution_count": null,
   "metadata": {},
   "outputs": [],
   "source": [
    "# PART 2 - AFTER SPECIES TYPE FOR NEW NATIVE"
   ]
  },
  {
   "cell_type": "code",
   "execution_count": null,
   "metadata": {},
   "outputs": [],
   "source": [
    "new = pd.read_parquet(\n",
    "    \"/media/muskrat/T7 Shield/eco_data/v4/combined/new_native_species_categorized.parquet\"\n",
    ")\n",
    "\n",
    "old = pd.read_parquet(\n",
    "    \"/media/muskrat/T7 Shield/eco_data/v4/combined/old_species.parquet\"\n",
    ")\n",
    "\n",
    "both = pd.read_parquet(\n",
    "    \"/media/muskrat/T7 Shield/eco_data/v4/combined/in_native_and_species.parquet\"\n",
    ")"
   ]
  },
  {
   "cell_type": "code",
   "execution_count": null,
   "metadata": {},
   "outputs": [],
   "source": [
    "combined = pd.concat([new, old, both])"
   ]
  },
  {
   "cell_type": "code",
   "execution_count": null,
   "metadata": {},
   "outputs": [],
   "source": [
    "# check for duplicates in scientific_name of combined\n",
    "\n",
    "combined[combined.duplicated(subset=[\"scientific_name\"], keep=False)]"
   ]
  },
  {
   "cell_type": "code",
   "execution_count": null,
   "metadata": {},
   "outputs": [],
   "source": [
    "# check if any row of observed_ecoregions is null\n",
    "\n",
    "combined[combined[\"observed_ecoregions\"].isnull()]"
   ]
  },
  {
   "cell_type": "code",
   "execution_count": null,
   "metadata": {},
   "outputs": [],
   "source": [
    "# check if any row of observed_ecoregions length is 0\n",
    "\n",
    "combined[combined[\"observed_ecoregions\"].str.len() == 0]"
   ]
  },
  {
   "cell_type": "code",
   "execution_count": null,
   "metadata": {},
   "outputs": [],
   "source": [
    "combined.to_parquet(\"\")"
   ]
  },
  {
   "cell_type": "code",
   "execution_count": null,
   "metadata": {},
   "outputs": [],
   "source": [
    "species = pd.read_json(\n",
    "    \"/media/muskrat/T7 Shield/eco_data/v4/combined/final/native_round_2.json\"\n",
    ")\n",
    "\n",
    "species"
   ]
  },
  {
   "cell_type": "code",
   "execution_count": null,
   "metadata": {},
   "outputs": [],
   "source": [
    "ecoregions = pd.read_json(\n",
    "    \"/media/muskrat/T7 Shield/eco_data/v4/combined/final/ecoregions_updated_species_count.json\"\n",
    ")\n",
    "\n",
    "ecoregions"
   ]
  }
 ],
 "metadata": {
  "kernelspec": {
   "display_name": "eco",
   "language": "python",
   "name": "python3"
  },
  "language_info": {
   "codemirror_mode": {
    "name": "ipython",
    "version": 3
   },
   "file_extension": ".py",
   "mimetype": "text/x-python",
   "name": "python",
   "nbconvert_exporter": "python",
   "pygments_lexer": "ipython3",
   "version": "3.9.7"
  }
 },
 "nbformat": 4,
 "nbformat_minor": 2
}
