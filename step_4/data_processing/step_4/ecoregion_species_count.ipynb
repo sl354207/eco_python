{
 "cells": [
  {
   "cell_type": "code",
   "execution_count": null,
   "metadata": {},
   "outputs": [],
   "source": [
    "# 400 meter coordinate accuracy\n",
    "# 1923 earliest year\n",
    "import pandas as pd\n",
    "\n",
    "pd.set_option(\"display.max_columns\", None)\n",
    "# pd.set_option('display.max_rows', None)\n",
    "# pd.set_option('display.max_columns', None)\n",
    "# pd.set_option('display.width', None)\n",
    "# pd.set_option('display.max_colwidth', None)"
   ]
  },
  {
   "cell_type": "code",
   "execution_count": null,
   "metadata": {},
   "outputs": [],
   "source": [
    "species_path = input(\"Enter the file path: \")\n",
    "\n",
    "species = pd.read_parquet(species_path)\n",
    "# species = pd.read_json(species_path)"
   ]
  },
  {
   "cell_type": "code",
   "execution_count": null,
   "metadata": {},
   "outputs": [],
   "source": [
    "species"
   ]
  },
  {
   "cell_type": "code",
   "execution_count": null,
   "metadata": {},
   "outputs": [],
   "source": [
    "ecoregions_path = input(\"Enter the file path: \")\n",
    "\n",
    "# ecoregions = pd.read_csv(ecoregions_path)\n",
    "ecoregions = pd.read_json(ecoregions_path)"
   ]
  },
  {
   "cell_type": "code",
   "execution_count": null,
   "metadata": {},
   "outputs": [],
   "source": [
    "ecoregions"
   ]
  },
  {
   "cell_type": "code",
   "execution_count": null,
   "metadata": {},
   "outputs": [],
   "source": [
    "new_ecoregions = pd.read_csv(\n",
    "    \"/media/muskrat/T7 Shield/eco_data/v3/db_exports/ecoregions.csv\"\n",
    ")\n",
    "\n",
    "new_ecoregions"
   ]
  },
  {
   "cell_type": "code",
   "execution_count": null,
   "metadata": {},
   "outputs": [],
   "source": [
    "final_ecoregions = pd.merge(new_ecoregions, ecoregions, on=\"unique_id\", how=\"left\")\n",
    "\n",
    "final_ecoregions"
   ]
  },
  {
   "cell_type": "code",
   "execution_count": null,
   "metadata": {},
   "outputs": [],
   "source": [
    "# drop columns _id, name_y, TYPE_y, coordinates_y\n",
    "\n",
    "final_ecoregions.drop(\n",
    "    columns=[\"_id\", \"name_y\", \"TYPE_y\", \"coordinates_y\"], inplace=True\n",
    ")\n",
    "# rename columns name_x to name, TYPE_x to TYPE, coordinates_x to coordinates\n",
    "final_ecoregions = final_ecoregions.rename(\n",
    "    columns={\"name_x\": \"name\", \"TYPE_x\": \"TYPE\", \"coordinates_x\": \"coordinates\"}\n",
    ")\n",
    "\n",
    "final_ecoregions"
   ]
  },
  {
   "cell_type": "code",
   "execution_count": null,
   "metadata": {},
   "outputs": [],
   "source": [
    "ecoregions = final_ecoregions\n",
    "\n",
    "ecoregions"
   ]
  },
  {
   "cell_type": "code",
   "execution_count": null,
   "metadata": {},
   "outputs": [],
   "source": [
    "# reset index of species and ecoregions\n",
    "species.reset_index(drop=True, inplace=True)\n",
    "ecoregions.reset_index(drop=True, inplace=True)"
   ]
  },
  {
   "cell_type": "code",
   "execution_count": null,
   "metadata": {},
   "outputs": [],
   "source": [
    "# drop species_count and _id column from ecoregions\n",
    "\n",
    "ecoregions = ecoregions.drop([\"species_count\", \"_id\"], axis=1)\n",
    "\n",
    "ecoregions"
   ]
  },
  {
   "cell_type": "code",
   "execution_count": null,
   "metadata": {},
   "outputs": [],
   "source": [
    "# rename column observed_ecoregion to unique_id in species\n",
    "\n",
    "species = species.rename(columns={\"observed_ecoregions\": \"unique_id\"})\n",
    "\n",
    "species"
   ]
  },
  {
   "cell_type": "code",
   "execution_count": null,
   "metadata": {},
   "outputs": [],
   "source": [
    "rankedArray = []\n",
    "for i in range(len(species)):\n",
    "    result = species.loc[i]\n",
    "    rankedResult = {}\n",
    "    for curr in result[\"unique_id\"]:\n",
    "        rankedResult[curr] = rankedResult.get(curr, 0) + 1\n",
    "    rankedArray.append(rankedResult)\n",
    "\n",
    "rankedObject = {}\n",
    "for item in rankedArray:\n",
    "    for key in item:\n",
    "        if key not in rankedObject:\n",
    "            rankedObject[key] = item[key]\n",
    "        else:\n",
    "            rankedObject[key] += item[key]"
   ]
  },
  {
   "cell_type": "code",
   "execution_count": null,
   "metadata": {},
   "outputs": [],
   "source": [
    "ranked_df = pd.DataFrame.from_dict(\n",
    "    rankedObject, orient=\"index\", columns=[\"species_count\"]\n",
    ")\n",
    "\n",
    "ranked_df[\"unique_id\"] = ranked_df.index\n",
    "\n",
    "# drop row where unique_id = '497' LOOK INTO WHY!!!(might be ranked array logic bug) LOOKED INTO - THERE IS NO ECOREGION WITH THAT ID\n",
    "ranked_df = ranked_df[ranked_df[\"unique_id\"] != \"497\"]"
   ]
  },
  {
   "cell_type": "code",
   "execution_count": null,
   "metadata": {},
   "outputs": [],
   "source": [
    "ecoregions[\"unique_id\"] = ecoregions[\"unique_id\"].astype(str)\n",
    "\n",
    "ecoregions = pd.merge(\n",
    "    ecoregions, ranked_df, on=\"unique_id\", how=\"outer\", indicator=True\n",
    ")"
   ]
  },
  {
   "cell_type": "code",
   "execution_count": null,
   "metadata": {},
   "outputs": [],
   "source": [
    "# replace nan with 0 in species_count column\n",
    "ecoregions[\"species_count\"] = ecoregions[\"species_count\"].fillna(0)\n",
    "\n",
    "# create a column for ranked_df called species_rank that ranks species by count, 1 being the highest\n",
    "# ecoregions[\"species_rank\"] = ecoregions[\"species_count\"].rank(\n",
    "#     ascending=False, method=\"first\"\n",
    "# )"
   ]
  },
  {
   "cell_type": "code",
   "execution_count": null,
   "metadata": {},
   "outputs": [],
   "source": [
    "ecoregions"
   ]
  },
  {
   "cell_type": "code",
   "execution_count": null,
   "metadata": {},
   "outputs": [],
   "source": [
    "# ecoregions.drop([\"_merge\", \"_id\"], axis=1, inplace=True)\n",
    "ecoregions.drop([\"_merge\"], axis=1, inplace=True)\n",
    "\n",
    "# drop row where unique_id = '<NA>'\n",
    "ecoregions = ecoregions[ecoregions[\"unique_id\"] != \"<NA>\"]\n",
    "\n",
    "ecoregions"
   ]
  },
  {
   "cell_type": "code",
   "execution_count": null,
   "metadata": {},
   "outputs": [],
   "source": [
    "# drop index from ecoregions\n",
    "ecoregions.reset_index(drop=True, inplace=True)"
   ]
  },
  {
   "cell_type": "code",
   "execution_count": null,
   "metadata": {},
   "outputs": [],
   "source": [
    "# convert species_count column to int\n",
    "ecoregions[\"species_count\"] = ecoregions[\"species_count\"].astype(int)"
   ]
  },
  {
   "cell_type": "code",
   "execution_count": null,
   "metadata": {},
   "outputs": [],
   "source": [
    "ecoregions"
   ]
  },
  {
   "cell_type": "code",
   "execution_count": null,
   "metadata": {},
   "outputs": [],
   "source": [
    "# REMOVE QUOTATION MARKS AROUND COORDINATES. EASIER TO DO IN TEXT EDITOR MAYBE"
   ]
  },
  {
   "cell_type": "code",
   "execution_count": null,
   "metadata": {},
   "outputs": [],
   "source": [
    "df_path = input(\"Enter the file path: \")\n",
    "ecoregions.to_json(df_path, orient=\"records\", force_ascii=False)"
   ]
  }
 ],
 "metadata": {
  "kernelspec": {
   "display_name": "eco",
   "language": "python",
   "name": "python3"
  },
  "language_info": {
   "codemirror_mode": {
    "name": "ipython",
    "version": 3
   },
   "file_extension": ".py",
   "mimetype": "text/x-python",
   "name": "python",
   "nbconvert_exporter": "python",
   "pygments_lexer": "ipython3",
   "version": "3.9.13"
  },
  "orig_nbformat": 4
 },
 "nbformat": 4,
 "nbformat_minor": 2
}
