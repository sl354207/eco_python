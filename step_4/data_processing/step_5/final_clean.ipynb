{
 "cells": [
  {
   "cell_type": "code",
   "execution_count": null,
   "metadata": {},
   "outputs": [],
   "source": [
    "import pandas as pd"
   ]
  },
  {
   "cell_type": "code",
   "execution_count": null,
   "metadata": {},
   "outputs": [],
   "source": [
    "df_path = input(\"Enter the file path: \")\n",
    "\n",
    "df = pd.read_parquet(df_path)"
   ]
  },
  {
   "cell_type": "code",
   "execution_count": null,
   "metadata": {},
   "outputs": [],
   "source": [
    "df"
   ]
  },
  {
   "cell_type": "code",
   "execution_count": null,
   "metadata": {},
   "outputs": [],
   "source": [
    "# find duplicates in scientific_name column\n",
    "df[df.duplicated(\"scientific_name\")]"
   ]
  },
  {
   "cell_type": "code",
   "execution_count": null,
   "metadata": {},
   "outputs": [],
   "source": [
    "# find rows where scientific_name does not equal 2 words\n",
    "scientific = df[df[\"scientific_name\"].str.count(\" \") != 1]\n",
    "\n",
    "scientific"
   ]
  },
  {
   "cell_type": "code",
   "execution_count": null,
   "metadata": {},
   "outputs": [],
   "source": [
    "# remove rows where scientific_name does not equal 2 words\n",
    "df = df[df[\"scientific_name\"].str.count(\" \") == 1]"
   ]
  },
  {
   "cell_type": "code",
   "execution_count": null,
   "metadata": {},
   "outputs": [],
   "source": [
    "# find rows where kingdom does not equal 1 word\n",
    "kingdom = df[df[\"kingdom\"].str.count(\" \") > 0]\n",
    "\n",
    "kingdom"
   ]
  },
  {
   "cell_type": "code",
   "execution_count": null,
   "metadata": {},
   "outputs": [],
   "source": [
    "# replace kingdom value incertae sedis with kingdom value Bacteria\n",
    "df[\"kingdom\"].replace(to_replace=\"incertae sedis\", value=\"Bacteria\", inplace=True)"
   ]
  },
  {
   "cell_type": "code",
   "execution_count": null,
   "metadata": {},
   "outputs": [],
   "source": [
    "# find rows where kingdom does not equal 1 word\n",
    "phylum = df[df[\"phylum\"].str.count(\" \") != 0]\n",
    "\n",
    "phylum"
   ]
  },
  {
   "cell_type": "code",
   "execution_count": null,
   "metadata": {},
   "outputs": [],
   "source": [
    "# find rows where kingdom does not equal 1 word\n",
    "class_1 = df[df[\"class\"].str.count(\" \") != 0]\n",
    "\n",
    "class_1"
   ]
  },
  {
   "cell_type": "code",
   "execution_count": null,
   "metadata": {},
   "outputs": [],
   "source": [
    "# find rows where kingdom does not equal 1 word\n",
    "order = df[df[\"order\"].str.count(\" \") != 0]\n",
    "\n",
    "order"
   ]
  },
  {
   "cell_type": "code",
   "execution_count": null,
   "metadata": {},
   "outputs": [],
   "source": [
    "# find rows where kingdom does not equal 1 word\n",
    "family = df[df[\"family\"].str.count(\" \") != 0]\n",
    "\n",
    "family"
   ]
  },
  {
   "cell_type": "code",
   "execution_count": null,
   "metadata": {},
   "outputs": [],
   "source": [
    "# find rows where kingdom does not equal 1 word\n",
    "genus = df[df[\"genus\"].str.count(\" \") > 0]\n",
    "\n",
    "genus"
   ]
  },
  {
   "cell_type": "code",
   "execution_count": null,
   "metadata": {},
   "outputs": [],
   "source": [
    "# find rows in scientific_name that contain special characters excluding -\n",
    "special_scientific_name = df[df[\"scientific_name\"].str.contains(\"[^a-zA-Z0-9- ]\")]\n",
    "\n",
    "special_scientific_name"
   ]
  },
  {
   "cell_type": "code",
   "execution_count": null,
   "metadata": {},
   "outputs": [],
   "source": [
    "# find rows in scientific_name that contain special characters excluding - skipping None values\n",
    "special_kingdom = df[\n",
    "    df[\"kingdom\"].str.contains(\"[^a-zA-Z0-9- ]\") & df[\"kingdom\"].notnull()\n",
    "]\n",
    "\n",
    "special_kingdom"
   ]
  },
  {
   "cell_type": "code",
   "execution_count": null,
   "metadata": {},
   "outputs": [],
   "source": [
    "# find rows in scientific_name that contain special characters excluding - skipping None values\n",
    "special_phylum = df[\n",
    "    df[\"phylum\"].str.contains(\"[^a-zA-Z0-9- ]\") & df[\"phylum\"].notnull()\n",
    "]\n",
    "\n",
    "special_phylum"
   ]
  },
  {
   "cell_type": "code",
   "execution_count": null,
   "metadata": {},
   "outputs": [],
   "source": [
    "# find rows in scientific_name that contain special characters excluding - skipping None values\n",
    "special_class = df[df[\"class\"].str.contains(\"[^a-zA-Z0-9- ]\") & df[\"class\"].notnull()]\n",
    "\n",
    "special_class"
   ]
  },
  {
   "cell_type": "code",
   "execution_count": null,
   "metadata": {},
   "outputs": [],
   "source": [
    "# find rows in scientific_name that contain special characters excluding - skipping None values\n",
    "special_order = df[df[\"order\"].str.contains(\"[^a-zA-Z0-9- ]\") & df[\"order\"].notnull()]\n",
    "\n",
    "special_order"
   ]
  },
  {
   "cell_type": "code",
   "execution_count": null,
   "metadata": {},
   "outputs": [],
   "source": [
    "# find rows in scientific_name that contain special characters excluding - skipping None values\n",
    "special_family = df[\n",
    "    df[\"family\"].str.contains(\"[^a-zA-Z0-9- ]\") & df[\"family\"].notnull()\n",
    "]\n",
    "\n",
    "special_family"
   ]
  },
  {
   "cell_type": "code",
   "execution_count": null,
   "metadata": {},
   "outputs": [],
   "source": [
    "# find rows in scientific_name that contain special characters excluding - skipping None values\n",
    "special_genus = df[df[\"genus\"].str.contains(\"[^a-zA-Z0-9- ]\") & df[\"genus\"].notnull()]\n",
    "\n",
    "special_genus"
   ]
  },
  {
   "cell_type": "code",
   "execution_count": null,
   "metadata": {},
   "outputs": [],
   "source": [
    "# find rows in common_name that contain special characters excluding - and ' skipping None values\n",
    "special_common_name = df[\n",
    "    df[\"common_name\"].str.contains(\"[^a-zA-Z0-9-' ]\") & df[\"common_name\"].notnull()\n",
    "]\n",
    "\n",
    "special_common_name"
   ]
  },
  {
   "cell_type": "code",
   "execution_count": null,
   "metadata": {},
   "outputs": [],
   "source": [
    "# remove common_name in rows with following index: 326623, 296419, 280009, 247333, 197160, 166917, 154546, 82219, 48067\n",
    "\n",
    "for i in [326623, 296419, 280009, 247333, 197160, 166917, 154546, 82219, 48067]:\n",
    "    df.loc[i, \"common_name\"] = None"
   ]
  },
  {
   "cell_type": "code",
   "execution_count": null,
   "metadata": {},
   "outputs": [],
   "source": [
    "df.loc[241715, \"common_name\"] = \"Flatclaw hermit crab\"\n",
    "df.loc[241704, \"common_name\"] = \"Longclaw hermit crab\"\n",
    "df.loc[214538, \"common_name\"] = \"Maraj Short-tailed Opossum\"\n",
    "df.loc[197592, \"common_name\"] = \"Gilded Royal River Cruiser\"\n",
    "df.loc[197017, \"common_name\"] = \"Tenta macoma\"\n",
    "df.loc[196242, \"common_name\"] = \"Lewis' yellow-loosestrife\"\n",
    "df.loc[157228, \"common_name\"] = \"African False Tiger\"\n",
    "df.loc[133023, \"common_name\"] = \"northern moon snail\"\n",
    "df.loc[122097, \"common_name\"] = \"Wemmershoek Marsh Heath\"\n",
    "df.loc[116324, \"common_name\"] = \"Sand flea\"\n",
    "df.loc[36620, \"common_name\"] = \"Diamond Pittosporum\""
   ]
  },
  {
   "cell_type": "code",
   "execution_count": null,
   "metadata": {},
   "outputs": [],
   "source": [
    "df"
   ]
  },
  {
   "cell_type": "code",
   "execution_count": null,
   "metadata": {},
   "outputs": [],
   "source": [
    "# find rows where length of observed_ecoregions is 0\n",
    "df[df[\"observed_ecoregions\"].str.len() == 0]\n",
    "\n",
    "# remove rows where length of observed_ecoregions is 0\n",
    "df = df[df[\"observed_ecoregions\"].str.len() != 0]"
   ]
  },
  {
   "cell_type": "code",
   "execution_count": null,
   "metadata": {},
   "outputs": [],
   "source": [
    "# find unique values in list observed_ecoregions\n",
    "unique_observed = []\n",
    "\n",
    "for i in df[\"observed_ecoregions\"]:\n",
    "    # print(i)\n",
    "\n",
    "    for j in i:\n",
    "        unique_observed.append(j)\n",
    "\n",
    "unique_observed = list(set(unique_observed))\n",
    "\n",
    "unique_observed"
   ]
  },
  {
   "cell_type": "code",
   "execution_count": null,
   "metadata": {},
   "outputs": [],
   "source": [
    "# remove values in observed_ecoregions that equal <NA>\n",
    "df[\"observed_ecoregions\"] = df[\"observed_ecoregions\"].apply(\n",
    "    lambda x: x[x != \"<NA>\"] if (\"<NA>\" in x) else x\n",
    ")"
   ]
  },
  {
   "cell_type": "code",
   "execution_count": null,
   "metadata": {},
   "outputs": [],
   "source": [
    "# reset index of df\n",
    "df = df.reset_index(drop=True)"
   ]
  },
  {
   "cell_type": "code",
   "execution_count": null,
   "metadata": {},
   "outputs": [],
   "source": [
    "# find unique values in list observed_ecoregions\n",
    "unique_native = []\n",
    "\n",
    "for i in df[\"native_ecoregions\"]:\n",
    "    # print(i)\n",
    "\n",
    "    for j in i:\n",
    "        unique_native.append(j)\n",
    "\n",
    "unique_native = list(set(unique_native))\n",
    "\n",
    "unique_native\n",
    "\n",
    "# unique_native = []\n",
    "\n",
    "# for i in range(len(df)):\n",
    "#     if df[\"native_ecoregions\"][i] is None:\n",
    "#         continue\n",
    "#     else:\n",
    "#         # temp_df = pd.DataFrame()\n",
    "#         for j in df[\"native_ecoregions\"][i]:\n",
    "#             unique_native.append(j)\n",
    "#             # print(type(j))\n",
    "#             if j == '[]':\n",
    "#                 print(j)\n",
    "\n",
    "\n",
    "# unique_native = list(set(unique_native))\n",
    "\n",
    "# unique_native"
   ]
  },
  {
   "cell_type": "code",
   "execution_count": null,
   "metadata": {},
   "outputs": [],
   "source": [
    "df[\"native_ecoregions\"] = df[\"native_ecoregions\"].apply(\n",
    "    lambda x: x[x != \"<NA>\"] if (\"<NA>\" in x) else x\n",
    ")"
   ]
  },
  {
   "cell_type": "code",
   "execution_count": null,
   "metadata": {},
   "outputs": [],
   "source": [
    "df[\"native_ecoregions\"] = df[\"native_ecoregions\"].apply(\n",
    "    lambda x: x[x != \"[]\"] if (\"[]\" in x) else x\n",
    ")"
   ]
  },
  {
   "cell_type": "code",
   "execution_count": null,
   "metadata": {},
   "outputs": [],
   "source": [
    "unique_freshwater = []\n",
    "\n",
    "for i in df[\"freshwater_ecoregions\"]:\n",
    "    print(i)\n",
    "\n",
    "    for j in i:\n",
    "        unique_freshwater.append(j)\n",
    "\n",
    "unique_freshwater = list(set(unique_freshwater))\n",
    "\n",
    "unique_freshwater"
   ]
  },
  {
   "cell_type": "code",
   "execution_count": null,
   "metadata": {},
   "outputs": [],
   "source": [
    "df"
   ]
  },
  {
   "cell_type": "code",
   "execution_count": null,
   "metadata": {},
   "outputs": [],
   "source": [
    "# convert native_ecoregions values that equal an empty list to None\n",
    "df.loc[df[\"native_ecoregions\"].str.len() == 0, \"native_ecoregions\"] = None\n",
    "\n",
    "# convert freshwater_ecoregions values that equal an empty list to None\n",
    "df.loc[df[\"freshwater_ecoregions\"].str.len() == 0, \"freshwater_ecoregions\"] = None\n",
    "\n",
    "df"
   ]
  },
  {
   "cell_type": "code",
   "execution_count": null,
   "metadata": {},
   "outputs": [],
   "source": [
    "df[\"rights\"] = df[\"rights\"].apply(lambda x: [i for i in x if i is not None])\n",
    "\n",
    "df"
   ]
  },
  {
   "cell_type": "code",
   "execution_count": null,
   "metadata": {},
   "outputs": [],
   "source": [
    "df.loc[df[\"rights\"].str.len() == 0, \"rights\"] = None\n",
    "\n",
    "df"
   ]
  },
  {
   "cell_type": "code",
   "execution_count": null,
   "metadata": {},
   "outputs": [],
   "source": [
    "df = df[\n",
    "    [\n",
    "        \"kingdom\",\n",
    "        \"phylum\",\n",
    "        \"class\",\n",
    "        \"order\",\n",
    "        \"family\",\n",
    "        \"genus\",\n",
    "        \"scientific_name\",\n",
    "        \"observed_ecoregions\",\n",
    "        \"native_ecoregions\",\n",
    "        \"freshwater_ecoregions\",\n",
    "        \"common_name\",\n",
    "        \"species_type\",\n",
    "        \"rights\",\n",
    "    ]\n",
    "]\n",
    "\n",
    "df"
   ]
  },
  {
   "cell_type": "code",
   "execution_count": null,
   "metadata": {},
   "outputs": [],
   "source": [
    "final_path = input(\"Enter the file path: \")\n",
    "\n",
    "df.to_parquet(final_path)"
   ]
  },
  {
   "cell_type": "code",
   "execution_count": null,
   "metadata": {},
   "outputs": [],
   "source": [
    "df.to_json(\"\", orient=\"records\", force_ascii=False)"
   ]
  }
 ],
 "metadata": {
  "kernelspec": {
   "display_name": "eco",
   "language": "python",
   "name": "python3"
  },
  "language_info": {
   "codemirror_mode": {
    "name": "ipython",
    "version": 3
   },
   "file_extension": ".py",
   "mimetype": "text/x-python",
   "name": "python",
   "nbconvert_exporter": "python",
   "pygments_lexer": "ipython3",
   "version": "3.9.13"
  }
 },
 "nbformat": 4,
 "nbformat_minor": 2
}
