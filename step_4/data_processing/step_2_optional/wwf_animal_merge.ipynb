{
 "cells": [
  {
   "cell_type": "code",
   "execution_count": null,
   "metadata": {},
   "outputs": [],
   "source": [
    "import pandas as pd\n",
    "import numpy as np\n",
    "\n",
    "pd.set_option(\"display.max_columns\", None)\n",
    "# pd.set_option('display.max_rows', 100)\n",
    "# pd.set_option('display.max_seq_items', 100)\n",
    "\n",
    "# 400 meter coordinate accuracy\n",
    "# 1923 earliest year"
   ]
  },
  {
   "cell_type": "code",
   "execution_count": null,
   "metadata": {},
   "outputs": [],
   "source": [
    "# read in new_old merged data\n",
    "new_path = input(\"Enter the file path: \")\n",
    "\n",
    "new = pd.read_parquet(new_path)"
   ]
  },
  {
   "cell_type": "code",
   "execution_count": null,
   "metadata": {},
   "outputs": [],
   "source": [
    "# read in wwf clean data\n",
    "wwf_path = input(\"Enter the file path: \")\n",
    "\n",
    "# read in the old species data in json format\n",
    "wwf = pd.read_parquet(wwf_path)"
   ]
  },
  {
   "cell_type": "code",
   "execution_count": null,
   "metadata": {},
   "outputs": [],
   "source": [
    "wwf\n"
   ]
  },
  {
   "cell_type": "code",
   "execution_count": null,
   "metadata": {},
   "outputs": [],
   "source": [
    "# rename usda column species to scientific_name\n",
    "wwf.rename(columns={\"species\": \"scientific_name\"}, inplace=True)"
   ]
  },
  {
   "cell_type": "code",
   "execution_count": null,
   "metadata": {},
   "outputs": [],
   "source": [
    "inner = pd.merge(new, wwf, how=\"inner\", on=[\"scientific_name\"], indicator=True)"
   ]
  },
  {
   "cell_type": "code",
   "execution_count": null,
   "metadata": {},
   "outputs": [],
   "source": [
    "inner\n"
   ]
  },
  {
   "cell_type": "code",
   "execution_count": null,
   "metadata": {},
   "outputs": [],
   "source": [
    "inner[\"combined_id\"] = inner[\"unique_id_x\"].apply(lambda x: x.tolist()) + inner[\n",
    "    \"unique_id_y\"\n",
    "].apply(lambda x: x.tolist())\n"
   ]
  },
  {
   "cell_type": "code",
   "execution_count": null,
   "metadata": {},
   "outputs": [],
   "source": [
    "inner[\"combined_id\"] = inner[\"combined_id\"].apply(set).apply(list)\n"
   ]
  },
  {
   "cell_type": "code",
   "execution_count": null,
   "metadata": {},
   "outputs": [],
   "source": [
    "check_combined_id = inner[[\"unique_id_x\", \"unique_id_y\", \"combined_id\"]]\n"
   ]
  },
  {
   "cell_type": "code",
   "execution_count": null,
   "metadata": {},
   "outputs": [],
   "source": [
    "inner = inner.drop([\"unique_id_x\", \"unique_id_y\"], axis=1)\n",
    "\n",
    "inner.rename(columns={\"combined_id\": \"unique_id\"}, inplace=True)\n",
    "\n",
    "del check_combined_id\n"
   ]
  },
  {
   "cell_type": "code",
   "execution_count": null,
   "metadata": {},
   "outputs": [],
   "source": [
    "inner\n"
   ]
  },
  {
   "cell_type": "code",
   "execution_count": null,
   "metadata": {},
   "outputs": [],
   "source": [
    "# keep columns with less missing values\n",
    "\n",
    "\n",
    "# find sum of missing values in inner['class_x']\n",
    "class_x_missing = inner[\"class_x\"].isna().sum()\n",
    "\n",
    "class_y_missing = inner[\"class_y\"].isna().sum()\n",
    "\n",
    "# drop the class column from inner that contains more missing values\n",
    "if class_x_missing > class_y_missing:\n",
    "    inner = inner.drop([\"class_x\"], axis=1)\n",
    "    inner.rename(columns={\"class_y\": \"class\"}, inplace=True)\n",
    "else:\n",
    "    inner = inner.drop([\"class_y\"], axis=1)\n",
    "    inner.rename(columns={\"class_x\": \"class\"}, inplace=True)\n",
    "\n",
    "# check\n",
    "class_missing = inner[\"class\"].isna().sum()\n",
    "\n",
    "order_x_missing = inner[\"order_x\"].isna().sum()\n",
    "\n",
    "order_y_missing = inner[\"order_y\"].isna().sum()\n",
    "\n",
    "# drop the order column from inner that contains more missing values\n",
    "\n",
    "if order_x_missing > order_y_missing:\n",
    "    inner = inner.drop([\"order_x\"], axis=1)\n",
    "    inner.rename(columns={\"order_y\": \"order\"}, inplace=True)\n",
    "else:\n",
    "    inner = inner.drop([\"order_y\"], axis=1)\n",
    "    inner.rename(columns={\"order_x\": \"order\"}, inplace=True)\n",
    "\n",
    "family_x_missing = inner[\"family_x\"].isna().sum()\n",
    "\n",
    "family_y_missing = inner[\"family_y\"].isna().sum()\n",
    "\n",
    "# drop the family column from inner that contains more missing values\n",
    "\n",
    "if family_x_missing > family_y_missing:\n",
    "    inner = inner.drop([\"family_x\"], axis=1)\n",
    "    inner.rename(columns={\"family_y\": \"family\"}, inplace=True)\n",
    "else:\n",
    "    inner = inner.drop([\"family_y\"], axis=1)\n",
    "    inner.rename(columns={\"family_x\": \"family\"}, inplace=True)"
   ]
  },
  {
   "cell_type": "code",
   "execution_count": null,
   "metadata": {},
   "outputs": [],
   "source": [
    "del (\n",
    "    class_missing,\n",
    "    order_x_missing,\n",
    "    order_y_missing,\n",
    "    family_x_missing,\n",
    "    family_y_missing,\n",
    "    class_x_missing,\n",
    "    class_y_missing,\n",
    ")"
   ]
  },
  {
   "cell_type": "code",
   "execution_count": null,
   "metadata": {},
   "outputs": [],
   "source": [
    "inner"
   ]
  },
  {
   "cell_type": "code",
   "execution_count": null,
   "metadata": {},
   "outputs": [],
   "source": [
    "common_name_x_missing = inner[\"common_name_x\"].isna().sum()\n",
    "\n",
    "common_name_y_missing = inner[\"common_name_y\"].isna().sum()"
   ]
  },
  {
   "cell_type": "code",
   "execution_count": null,
   "metadata": {},
   "outputs": [],
   "source": [
    "if common_name_x_missing > common_name_y_missing:\n",
    "    inner = inner.drop([\"common_name_x\"], axis=1)\n",
    "    inner.rename(columns={\"common_name_y\": \"common_name\"}, inplace=True)\n",
    "else:\n",
    "    inner = inner.drop([\"common_name_y\"], axis=1)\n",
    "    inner.rename(columns={\"common_name_x\": \"common_name\"}, inplace=True)\n",
    "\n",
    "del common_name_x_missing, common_name_y_missing"
   ]
  },
  {
   "cell_type": "code",
   "execution_count": null,
   "metadata": {},
   "outputs": [],
   "source": [
    "inner = inner.drop([\"_merge\"], axis=1)\n"
   ]
  },
  {
   "cell_type": "code",
   "execution_count": null,
   "metadata": {},
   "outputs": [],
   "source": [
    "inner = inner[\n",
    "    [\n",
    "        \"kingdom\",\n",
    "        \"phylum\",\n",
    "        \"class\",\n",
    "        \"order\",\n",
    "        \"family\",\n",
    "        \"genus\",\n",
    "        \"scientific_name\",\n",
    "        \"common_name\",\n",
    "        \"species_type\",\n",
    "        \"unique_id\",\n",
    "        \"rights\",\n",
    "    ]\n",
    "]\n"
   ]
  },
  {
   "cell_type": "code",
   "execution_count": null,
   "metadata": {},
   "outputs": [],
   "source": [
    "outer = pd.merge(new, wwf, how=\"outer\", on=[\"scientific_name\"], indicator=True)\n"
   ]
  },
  {
   "cell_type": "code",
   "execution_count": null,
   "metadata": {},
   "outputs": [],
   "source": [
    "outer"
   ]
  },
  {
   "cell_type": "code",
   "execution_count": null,
   "metadata": {},
   "outputs": [],
   "source": [
    "left = outer.loc[\n",
    "    outer._merge == \"left_only\",\n",
    "    [\n",
    "        \"kingdom\",\n",
    "        \"phylum\",\n",
    "        \"class_x\",\n",
    "        \"order_x\",\n",
    "        \"family_x\",\n",
    "        \"genus\",\n",
    "        \"scientific_name\",\n",
    "        \"common_name_x\",\n",
    "        \"species_type\",\n",
    "        \"unique_id_x\",\n",
    "        \"rights\",\n",
    "    ],\n",
    "]"
   ]
  },
  {
   "cell_type": "code",
   "execution_count": null,
   "metadata": {},
   "outputs": [],
   "source": [
    "left.rename(\n",
    "    columns={\n",
    "        \"class_x\": \"class\",\n",
    "        \"order_x\": \"order\",\n",
    "        \"family_x\": \"family\",\n",
    "        \"unique_id_x\": \"unique_id\",\n",
    "        \"common_name_x\": \"common_name\",\n",
    "    },\n",
    "    inplace=True,\n",
    ")"
   ]
  },
  {
   "cell_type": "code",
   "execution_count": null,
   "metadata": {},
   "outputs": [],
   "source": [
    "left = left[\n",
    "    [\n",
    "        \"kingdom\",\n",
    "        \"phylum\",\n",
    "        \"class\",\n",
    "        \"order\",\n",
    "        \"family\",\n",
    "        \"genus\",\n",
    "        \"scientific_name\",\n",
    "        \"common_name\",\n",
    "        \"species_type\",\n",
    "        \"unique_id\",\n",
    "        \"rights\",\n",
    "    ]\n",
    "]"
   ]
  },
  {
   "cell_type": "code",
   "execution_count": null,
   "metadata": {},
   "outputs": [],
   "source": [
    "right = outer.loc[\n",
    "    outer._merge == \"right_only\",\n",
    "    [\n",
    "        \"kingdom\",\n",
    "        \"phylum\",\n",
    "        \"class_y\",\n",
    "        \"order_y\",\n",
    "        \"family_y\",\n",
    "        \"genus\",\n",
    "        \"scientific_name\",\n",
    "        \"common_name_y\",\n",
    "        \"species_type\",\n",
    "        \"unique_id_y\",\n",
    "        \"rights\",\n",
    "    ],\n",
    "]"
   ]
  },
  {
   "cell_type": "code",
   "execution_count": null,
   "metadata": {},
   "outputs": [],
   "source": [
    "right.rename(\n",
    "    columns={\n",
    "        \"class_y\": \"class\",\n",
    "        \"order_y\": \"order\",\n",
    "        \"family_y\": \"family\",\n",
    "        \"unique_id_y\": \"unique_id\",\n",
    "        \"common_name_y\": \"common_name\",\n",
    "    },\n",
    "    inplace=True,\n",
    ")"
   ]
  },
  {
   "cell_type": "code",
   "execution_count": null,
   "metadata": {},
   "outputs": [],
   "source": [
    "right = right[\n",
    "    [\n",
    "        \"kingdom\",\n",
    "        \"phylum\",\n",
    "        \"class\",\n",
    "        \"order\",\n",
    "        \"family\",\n",
    "        \"genus\",\n",
    "        \"scientific_name\",\n",
    "        \"common_name\",\n",
    "        \"species_type\",\n",
    "        \"unique_id\",\n",
    "        \"rights\",\n",
    "    ]\n",
    "]"
   ]
  },
  {
   "cell_type": "code",
   "execution_count": null,
   "metadata": {},
   "outputs": [],
   "source": [
    "frames = [inner, left, right]\n",
    "\n",
    "# concatenate dataframes\n",
    "final = pd.concat(frames)\n",
    "\n",
    "# reset index\n",
    "final.reset_index(drop=True, inplace=True)"
   ]
  },
  {
   "cell_type": "code",
   "execution_count": null,
   "metadata": {},
   "outputs": [],
   "source": [
    "final\n"
   ]
  },
  {
   "cell_type": "code",
   "execution_count": null,
   "metadata": {},
   "outputs": [],
   "source": [
    "# find unique values in scientific_name column of final\n",
    "species_unique = final[\"scientific_name\"].unique()"
   ]
  },
  {
   "cell_type": "code",
   "execution_count": null,
   "metadata": {},
   "outputs": [],
   "source": [
    "# read cleaned df into a parquet file where user can input the file path\n",
    "df_merge_path = input(\"Enter the file path: \")\n",
    "\n",
    "\n",
    "# write df to parquet file using pandas to_parquet\n",
    "final.to_parquet(df_merge_path)\n"
   ]
  }
 ],
 "metadata": {
  "kernelspec": {
   "display_name": "eco",
   "language": "python",
   "name": "python3"
  },
  "language_info": {
   "codemirror_mode": {
    "name": "ipython",
    "version": 3
   },
   "file_extension": ".py",
   "mimetype": "text/x-python",
   "name": "python",
   "nbconvert_exporter": "python",
   "pygments_lexer": "ipython3",
   "version": "3.9.7"
  },
  "orig_nbformat": 4
 },
 "nbformat": 4,
 "nbformat_minor": 2
}
