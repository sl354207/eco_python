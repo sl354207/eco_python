{
 "cells": [
  {
   "cell_type": "code",
   "execution_count": null,
   "metadata": {},
   "outputs": [],
   "source": [
    "import pandas as pd\n",
    "import os\n",
    "from collections import Counter\n",
    "from functools import reduce\n",
    "from operator import add\n",
    "import numpy as np\n",
    "import matplotlib.pyplot as plt\n",
    "\n",
    "pd.set_option(\"display.max_columns\", None)"
   ]
  },
  {
   "cell_type": "code",
   "execution_count": null,
   "metadata": {},
   "outputs": [],
   "source": [
    "base_path = \"/media/muskrat/T7 Shield/eco_data/v4/occurences/step_4/processing/step_1/spatial_mapping/soil/split_retry_2\""
   ]
  },
  {
   "cell_type": "code",
   "execution_count": null,
   "metadata": {},
   "outputs": [],
   "source": [
    "files = os.listdir(base_path)"
   ]
  },
  {
   "cell_type": "code",
   "execution_count": null,
   "metadata": {},
   "outputs": [],
   "source": [
    "combined = pd.DataFrame()\n",
    "\n",
    "for file in files:\n",
    "    df = pd.read_parquet(f\"{base_path}/{file}\")\n",
    "\n",
    "    combined = pd.concat([combined, df], ignore_index=True, axis=0)"
   ]
  },
  {
   "cell_type": "code",
   "execution_count": null,
   "metadata": {},
   "outputs": [],
   "source": [
    "combined"
   ]
  },
  {
   "cell_type": "code",
   "execution_count": null,
   "metadata": {},
   "outputs": [],
   "source": [
    "df_path = \"/media/muskrat/T7 Shield/eco_data/v4/occurences/step_4/processing/step_1/spatial_mapping/soil/split_retry_2/chunk_0.parquet\"\n",
    "\n",
    "df = pd.read_parquet(df_path)"
   ]
  },
  {
   "cell_type": "code",
   "execution_count": null,
   "metadata": {},
   "outputs": [],
   "source": [
    "df"
   ]
  },
  {
   "cell_type": "code",
   "execution_count": null,
   "metadata": {},
   "outputs": [],
   "source": [
    "# print max length of soil_id column\n",
    "print(f'max id length is {df[\"soil_id\"].str.len().max()}')\n",
    "print(f'max specific length is {df[\"specific_soil_name\"].str.len().max()}')\n",
    "print(f'max dominant length is {df[\"dominant_soil_name\"].str.len().max()}')"
   ]
  },
  {
   "cell_type": "code",
   "execution_count": null,
   "metadata": {},
   "outputs": [],
   "source": [
    "df[\"soil_id\"] = df[\"soil_id\"].apply(lambda x: dict(Counter(x)))\n",
    "df[\"specific_soil_name\"] = df[\"specific_soil_name\"].apply(lambda x: dict(Counter(x)))\n",
    "df[\"dominant_soil_name\"] = df[\"dominant_soil_name\"].apply(lambda x: dict(Counter(x)))"
   ]
  },
  {
   "cell_type": "code",
   "execution_count": null,
   "metadata": {},
   "outputs": [],
   "source": [
    "df"
   ]
  },
  {
   "cell_type": "code",
   "execution_count": null,
   "metadata": {},
   "outputs": [],
   "source": [
    "# print the max number of keys in soil_id column\n",
    "print(f'max id keys is {df[\"soil_id\"].apply(lambda x: len(x.keys())).max()}')\n",
    "print(\n",
    "    f'max specific keys is {df[\"specific_soil_name\"].apply(lambda x: len(x.keys())).max()}'\n",
    ")\n",
    "print(\n",
    "    f'max dominant keys is {df[\"dominant_soil_name\"].apply(lambda x: len(x.keys())).max()}'\n",
    ")"
   ]
  },
  {
   "cell_type": "code",
   "execution_count": null,
   "metadata": {},
   "outputs": [],
   "source": [
    "duplicates = df[df.duplicated(subset=[\"scientific_name\"], keep=False)]\n",
    "\n",
    "duplicates"
   ]
  },
  {
   "cell_type": "code",
   "execution_count": null,
   "metadata": {},
   "outputs": [],
   "source": [
    "combined[\"soil_id\"] = combined[\"soil_id\"].apply(lambda x: dict(Counter(x)))\n",
    "combined[\"specific_soil_name\"] = combined[\"specific_soil_name\"].apply(\n",
    "    lambda x: dict(Counter(x))\n",
    ")\n",
    "combined[\"dominant_soil_name\"] = combined[\"dominant_soil_name\"].apply(\n",
    "    lambda x: dict(Counter(x))\n",
    ")"
   ]
  },
  {
   "cell_type": "code",
   "execution_count": null,
   "metadata": {},
   "outputs": [],
   "source": [
    "combined"
   ]
  },
  {
   "cell_type": "code",
   "execution_count": null,
   "metadata": {},
   "outputs": [],
   "source": [
    "print(f'max id keys is {combined[\"soil_id\"].apply(lambda x: len(x.keys())).max()}')\n",
    "print(\n",
    "    f'max specific keys is {combined[\"specific_soil_name\"].apply(lambda x: len(x.keys())).max()}'\n",
    ")\n",
    "print(\n",
    "    f'max dominant keys is {combined[\"dominant_soil_name\"].apply(lambda x: len(x.keys())).max()}'\n",
    ")"
   ]
  },
  {
   "cell_type": "code",
   "execution_count": null,
   "metadata": {},
   "outputs": [],
   "source": [
    "combined_grouped = combined.groupby(\n",
    "    [\"scientific_name\", \"kingdom\", \"phylum\", \"class\", \"order\", \"family\", \"genus\"],\n",
    "    as_index=False,\n",
    "    dropna=False,\n",
    ")[[\"soil_id\", \"specific_soil_name\", \"dominant_soil_name\"]].agg(\n",
    "    lambda x: reduce(add, (Counter(sublist) for sublist in x))\n",
    ")"
   ]
  },
  {
   "cell_type": "code",
   "execution_count": null,
   "metadata": {},
   "outputs": [],
   "source": [
    "combined_grouped"
   ]
  },
  {
   "cell_type": "code",
   "execution_count": null,
   "metadata": {},
   "outputs": [],
   "source": [
    "print(\n",
    "    f'max id keys is {combined_grouped[\"soil_id\"].apply(lambda x: len(x.keys())).max()}'\n",
    ")\n",
    "print(\n",
    "    f'max specific keys is {combined_grouped[\"specific_soil_name\"].apply(lambda x: len(x.keys())).max()}'\n",
    ")\n",
    "print(\n",
    "    f'max dominant keys is {combined_grouped[\"dominant_soil_name\"].apply(lambda x: len(x.keys())).max()}'\n",
    ")"
   ]
  },
  {
   "cell_type": "code",
   "execution_count": null,
   "metadata": {},
   "outputs": [],
   "source": [
    "# convert soil_id values to dict from Counter\n",
    "combined_grouped[\"soil_id\"] = combined_grouped[\"soil_id\"].apply(\n",
    "    lambda x: dict(Counter(x))\n",
    ")\n",
    "combined_grouped[\"specific_soil_name\"] = combined_grouped[\"specific_soil_name\"].apply(\n",
    "    lambda x: dict(Counter(x))\n",
    ")\n",
    "combined_grouped[\"dominant_soil_name\"] = combined_grouped[\"dominant_soil_name\"].apply(\n",
    "    lambda x: dict(Counter(x))\n",
    ")\n",
    "\n",
    "combined_grouped"
   ]
  },
  {
   "cell_type": "code",
   "execution_count": null,
   "metadata": {},
   "outputs": [],
   "source": [
    "duplicates = combined_grouped[\n",
    "    combined_grouped.duplicated(subset=[\"scientific_name\"], keep=False)\n",
    "]\n",
    "\n",
    "duplicates"
   ]
  },
  {
   "cell_type": "code",
   "execution_count": null,
   "metadata": {},
   "outputs": [],
   "source": [
    "del combined"
   ]
  },
  {
   "cell_type": "code",
   "execution_count": null,
   "metadata": {},
   "outputs": [],
   "source": [
    "combined_grouped.to_json(\n",
    "    \"/media/muskrat/T7 Shield/eco_data/v4/occurences/step_4/processing/step_2/merge/soil_only_merge.json\",\n",
    "    orient=\"records\",\n",
    "    force_ascii=False,\n",
    ")\n",
    "# combined_grouped.to_parquet(\n",
    "#     \"/media/muskrat/T7 Shield/eco_data/v4/occurences/step_4/processing/step_2/merge/soil_only_merge.parquet\"\n",
    "# )"
   ]
  },
  {
   "cell_type": "code",
   "execution_count": null,
   "metadata": {},
   "outputs": [],
   "source": [
    "# plot a bar chart of dominant_soil_name for row 0, where the key are the x axis and the value are the y axis\n",
    "\n",
    "# import matplotlib.pyplot as plt\n",
    "\n",
    "plt.bar(\n",
    "    list(combined_grouped.iloc[18990][\"dominant_soil_name\"].keys()),\n",
    "    list(combined_grouped.iloc[18990][\"dominant_soil_name\"].values()),\n",
    ")\n",
    "# plt.show()\n",
    "\n",
    "# make the x axis labels vertical\n",
    "plt.xticks(rotation=90)\n",
    "plt.show()"
   ]
  },
  {
   "cell_type": "code",
   "execution_count": null,
   "metadata": {},
   "outputs": [],
   "source": [
    "plt.bar(\n",
    "    list(combined_grouped.iloc[18990][\"specific_soil_name\"].keys()),\n",
    "    list(combined_grouped.iloc[18990][\"specific_soil_name\"].values()),\n",
    ")\n",
    "plt.xticks(rotation=90)\n",
    "plt.show()"
   ]
  },
  {
   "cell_type": "code",
   "execution_count": null,
   "metadata": {},
   "outputs": [],
   "source": [
    "plt.bar(\n",
    "    list(combined_grouped.iloc[18990][\"soil_id\"].keys()),\n",
    "    list(combined_grouped.iloc[18990][\"soil_id\"].values()),\n",
    ")\n",
    "plt.xticks(rotation=90)\n",
    "plt.show()"
   ]
  },
  {
   "cell_type": "code",
   "execution_count": null,
   "metadata": {},
   "outputs": [],
   "source": [
    "# find the row index of the row with the most soil_id values\n",
    "\n",
    "combined_grouped[\"soil_id\"].apply(lambda x: len(x.keys())).idxmax()"
   ]
  },
  {
   "cell_type": "code",
   "execution_count": null,
   "metadata": {},
   "outputs": [],
   "source": [
    "# print row 18990\n",
    "combined_grouped.iloc[18990]"
   ]
  },
  {
   "cell_type": "code",
   "execution_count": null,
   "metadata": {},
   "outputs": [],
   "source": [
    "# for row 18990, find the sum of the values in the soil_id column\n",
    "\n",
    "total = sum(combined_grouped.iloc[18990][\"soil_id\"].values())\n",
    "\n",
    "# for row 18990, find the key with the highest value in the soil_id column and store the value in a variable\n",
    "\n",
    "max_value = max(combined_grouped.iloc[18990][\"soil_id\"].values())\n",
    "\n",
    "percentage = (max_value / total) * 100\n",
    "\n",
    "print(f\"percentage is {percentage}\")"
   ]
  },
  {
   "cell_type": "code",
   "execution_count": null,
   "metadata": {},
   "outputs": [],
   "source": [
    "# create a new column called max_soil_id_percentage\n",
    "combined_grouped[\"max_soil_id_percentage\"] = combined_grouped.apply(\n",
    "    lambda x: (max(x[\"soil_id\"].values()) / sum(x[\"soil_id\"].values())) * 100, axis=1\n",
    ")\n",
    "\n",
    "combined_grouped"
   ]
  },
  {
   "cell_type": "code",
   "execution_count": null,
   "metadata": {},
   "outputs": [],
   "source": [
    "combined_grouped[\"max_specific_percentage\"] = combined_grouped.apply(\n",
    "    lambda x: (\n",
    "        max(x[\"specific_soil_name\"].values()) / sum(x[\"specific_soil_name\"].values())\n",
    "    )\n",
    "    * 100,\n",
    "    axis=1,\n",
    ")\n",
    "\n",
    "combined_grouped"
   ]
  },
  {
   "cell_type": "code",
   "execution_count": null,
   "metadata": {},
   "outputs": [],
   "source": [
    "plants_and_fungi = combined_grouped[\n",
    "    (combined_grouped[\"kingdom\"] == \"Plantae\")\n",
    "    | (combined_grouped[\"kingdom\"] == \"Fungi\")\n",
    "]\n",
    "\n",
    "plants_and_fungi"
   ]
  },
  {
   "cell_type": "code",
   "execution_count": null,
   "metadata": {},
   "outputs": [],
   "source": [
    "# create new db called hundred which contains the rows in combined_grouped where the sum of the values in the soil_id column is greater than 100\n",
    "hundred = plants_and_fungi[\n",
    "    plants_and_fungi[\"soil_id\"].apply(lambda x: sum(x.values())) > 100\n",
    "]\n",
    "\n",
    "fifty = plants_and_fungi[\n",
    "    plants_and_fungi[\"soil_id\"].apply(lambda x: sum(x.values())) > 50\n",
    "]\n",
    "\n",
    "twenty = plants_and_fungi[\n",
    "    plants_and_fungi[\"soil_id\"].apply(lambda x: sum(x.values())) > 20\n",
    "]\n",
    "\n",
    "ten = plants_and_fungi[\n",
    "    plants_and_fungi[\"soil_id\"].apply(lambda x: sum(x.values())) > 10\n",
    "]\n",
    "\n",
    "under_ten = plants_and_fungi[\n",
    "    plants_and_fungi[\"soil_id\"].apply(lambda x: sum(x.values())) <= 10\n",
    "]"
   ]
  },
  {
   "cell_type": "code",
   "execution_count": null,
   "metadata": {},
   "outputs": [],
   "source": [
    "hundred_specific = plants_and_fungi[\n",
    "    plants_and_fungi[\"specific_soil_name\"].apply(lambda x: sum(x.values())) > 100\n",
    "]\n",
    "\n",
    "fifty_specific = plants_and_fungi[\n",
    "    plants_and_fungi[\"specific_soil_name\"].apply(lambda x: sum(x.values())) > 50\n",
    "]\n",
    "\n",
    "twenty_specific = plants_and_fungi[\n",
    "    plants_and_fungi[\"specific_soil_name\"].apply(lambda x: sum(x.values())) > 20\n",
    "]\n",
    "\n",
    "ten_specific = plants_and_fungi[\n",
    "    plants_and_fungi[\"specific_soil_name\"].apply(lambda x: sum(x.values())) > 10\n",
    "]\n",
    "\n",
    "under_ten_specific = plants_and_fungi[\n",
    "    plants_and_fungi[\"specific_soil_name\"].apply(lambda x: sum(x.values())) <= 10\n",
    "]"
   ]
  },
  {
   "cell_type": "code",
   "execution_count": null,
   "metadata": {},
   "outputs": [],
   "source": [
    "# plot max_specific_percentage with bin width of 10\n",
    "\n",
    "# import matplotlib.pyplot as plt\n",
    "\n",
    "plt.hist(hundred[\"max_specific_percentage\"], bins=10)\n",
    "plt.show()"
   ]
  },
  {
   "cell_type": "code",
   "execution_count": null,
   "metadata": {},
   "outputs": [],
   "source": [
    "plt.hist(hundred[\"max_soil_id_percentage\"], bins=10)\n",
    "plt.show()"
   ]
  },
  {
   "cell_type": "code",
   "execution_count": null,
   "metadata": {},
   "outputs": [],
   "source": [
    "plt.hist(fifty[\"max_specific_percentage\"], bins=10)\n",
    "plt.show()\n",
    "\n",
    "plt.hist(fifty[\"max_soil_id_percentage\"], bins=10)\n",
    "plt.show()"
   ]
  },
  {
   "cell_type": "code",
   "execution_count": null,
   "metadata": {},
   "outputs": [],
   "source": [
    "plt.hist(twenty[\"max_specific_percentage\"], bins=10)\n",
    "plt.show()\n",
    "\n",
    "plt.hist(twenty[\"max_soil_id_percentage\"], bins=10)\n",
    "plt.show()"
   ]
  },
  {
   "cell_type": "code",
   "execution_count": null,
   "metadata": {},
   "outputs": [],
   "source": [
    "plt.hist(ten[\"max_specific_percentage\"], bins=10)\n",
    "plt.show()\n",
    "\n",
    "plt.hist(ten[\"max_soil_id_percentage\"], bins=10)\n",
    "plt.show()"
   ]
  },
  {
   "cell_type": "code",
   "execution_count": null,
   "metadata": {},
   "outputs": [],
   "source": [
    "# what percentage of values in max_soil_id_percentage in hundred are less than 20\n",
    "\n",
    "print(len(hundred[hundred[\"max_soil_id_percentage\"] < 45]) / len(hundred) * 100)\n",
    "\n",
    "print(len(fifty[fifty[\"max_soil_id_percentage\"] < 25]) / len(fifty) * 100)\n",
    "\n",
    "print(len(twenty[twenty[\"max_soil_id_percentage\"] < 30]) / len(twenty) * 100)\n",
    "\n",
    "print(len(ten[ten[\"max_soil_id_percentage\"] < 30]) / len(ten) * 100)"
   ]
  },
  {
   "cell_type": "code",
   "execution_count": null,
   "metadata": {},
   "outputs": [],
   "source": [
    "print(len(hundred[hundred[\"max_specific_percentage\"] < 40]) / len(hundred) * 100)\n",
    "\n",
    "print(len(fifty[fifty[\"max_specific_percentage\"] < 45]) / len(fifty) * 100)\n",
    "\n",
    "print(len(twenty[twenty[\"max_specific_percentage\"] < 50]) / len(twenty) * 100)\n",
    "\n",
    "print(len(ten[ten[\"max_specific_percentage\"] < 50]) / len(ten) * 100)"
   ]
  },
  {
   "cell_type": "code",
   "execution_count": null,
   "metadata": {},
   "outputs": [],
   "source": [
    "combined_grouped[\"soil_id_key_count\"] = combined_grouped[\"soil_id\"].apply(\n",
    "    lambda x: len(x.keys())\n",
    ")\n",
    "\n",
    "combined_grouped"
   ]
  }
 ],
 "metadata": {
  "kernelspec": {
   "display_name": "eco",
   "language": "python",
   "name": "python3"
  },
  "language_info": {
   "codemirror_mode": {
    "name": "ipython",
    "version": 3
   },
   "file_extension": ".py",
   "mimetype": "text/x-python",
   "name": "python",
   "nbconvert_exporter": "python",
   "pygments_lexer": "ipython3",
   "version": "3.9.13"
  }
 },
 "nbformat": 4,
 "nbformat_minor": 2
}
