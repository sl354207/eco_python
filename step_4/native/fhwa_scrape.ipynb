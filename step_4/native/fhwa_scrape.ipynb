{
 "cells": [
  {
   "cell_type": "code",
   "execution_count": null,
   "metadata": {},
   "outputs": [],
   "source": [
    "import requests\n",
    "import pandas as pd\n",
    "import time"
   ]
  },
  {
   "cell_type": "code",
   "execution_count": null,
   "metadata": {},
   "outputs": [],
   "source": [
    "# http://www.nativerevegetation.org/era/ExportPlant?countyID=1\n",
    "# http://www.nativerevegetation.org/era/ExportPlant?countyID=3108\n",
    "# for i in range(1, 3109):\n",
    "\n",
    "for i in range(1, 3109, 1):\n",
    "    time.sleep(10)\n",
    "    url = f\"http://www.nativerevegetation.org/era/ExportPlant?countyID={i}\"\n",
    "    response = requests.get(url, stream=True)\n",
    "\n",
    "    if response.status_code != 200:\n",
    "        print(url)\n",
    "        print(response.status_code)\n",
    "        # print(response.headers)\n",
    "\n",
    "    if response.status_code == 200:\n",
    "        with open(\n",
    "            f\"/UPDATE_FILE_PATH/scraped/{i}.zip\",\n",
    "            mode=\"wb\",\n",
    "        ) as file:\n",
    "            for chunk in response.iter_content(chunk_size=10 * 1024):\n",
    "                file.write(chunk)\n",
    "\n",
    "        print(f\"Downloaded {i}.zip\")"
   ]
  },
  {
   "cell_type": "code",
   "execution_count": null,
   "metadata": {},
   "outputs": [],
   "source": [
    "for i in range(1, 3109, 1):\n",
    "\n",
    "    url = f\"http://www.nativerevegetation.org/era/ExportPlant?countyID={i}\"\n",
    "\n",
    "    print(url)"
   ]
  }
 ],
 "metadata": {
  "kernelspec": {
   "display_name": "eco",
   "language": "python",
   "name": "python3"
  },
  "language_info": {
   "codemirror_mode": {
    "name": "ipython",
    "version": 3
   },
   "file_extension": ".py",
   "mimetype": "text/x-python",
   "name": "python",
   "nbconvert_exporter": "python",
   "pygments_lexer": "ipython3",
   "version": "3.9.7"
  }
 },
 "nbformat": 4,
 "nbformat_minor": 2
}
