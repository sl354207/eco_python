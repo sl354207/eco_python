{
 "cells": [
  {
   "cell_type": "code",
   "execution_count": null,
   "metadata": {},
   "outputs": [],
   "source": [
    "import pandas as pd\n",
    "\n",
    "import os"
   ]
  },
  {
   "cell_type": "code",
   "execution_count": null,
   "metadata": {},
   "outputs": [],
   "source": [
    "base_path = input(\"Enter the base path: \")\n",
    "\n",
    "# find all the file names in the directory\n",
    "# files = os.listdir(base_path)\n",
    "files = os.listdir(base_path)\n",
    "\n",
    "\n",
    "# read each file into a dataframe\n",
    "checked = pd.DataFrame()\n",
    "for file in files:\n",
    "\n",
    "    df = pd.read_parquet(f\"{base_path}/{file}\")\n",
    "\n",
    "    checked = checked.append(df)\n",
    "\n",
    "checked"
   ]
  },
  {
   "cell_type": "code",
   "execution_count": null,
   "metadata": {},
   "outputs": [],
   "source": [
    "pre_finished = pd.read_parquet(\"\")\n",
    "\n",
    "pre_finished"
   ]
  },
  {
   "cell_type": "code",
   "execution_count": null,
   "metadata": {},
   "outputs": [],
   "source": [
    "# concat checked and pre_finished\n",
    "\n",
    "final = pd.concat([checked, pre_finished])\n",
    "\n",
    "final[\"database\"] = \"little\"\n",
    "\n",
    "final"
   ]
  },
  {
   "cell_type": "code",
   "execution_count": null,
   "metadata": {},
   "outputs": [],
   "source": [
    "final.to_parquet(\"\")"
   ]
  }
 ],
 "metadata": {
  "language_info": {
   "name": "python"
  }
 },
 "nbformat": 4,
 "nbformat_minor": 2
}
