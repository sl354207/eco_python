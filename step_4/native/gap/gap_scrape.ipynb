{
 "cells": [
  {
   "cell_type": "code",
   "execution_count": null,
   "metadata": {},
   "outputs": [],
   "source": [
    "from bs4 import BeautifulSoup\n",
    "import requests\n",
    "import pandas as pd\n",
    "import time"
   ]
  },
  {
   "cell_type": "code",
   "execution_count": null,
   "metadata": {},
   "outputs": [],
   "source": [
    "# from page https://gapanalysis.usgs.gov/apps/species-data-download/ retrieve all of the urls inside anchor tags inside td tag with headers=\"th_range\"\n",
    "\n",
    "url = \"https://gapanalysis.usgs.gov/apps/species-data-download/\"\n",
    "\n",
    "page = requests.get(url)\n",
    "\n",
    "soup = BeautifulSoup(page.content, \"html.parser\")\n",
    "\n",
    "tds = soup.findAll(\"td\", {\"headers\": \"th_range\"})"
   ]
  },
  {
   "cell_type": "code",
   "execution_count": null,
   "metadata": {},
   "outputs": [],
   "source": [
    "urls = []\n",
    "for td in tds:\n",
    "    # create list that contains all of the urls\n",
    "    urls.append(td.a[\"href\"])"
   ]
  },
  {
   "cell_type": "code",
   "execution_count": null,
   "metadata": {},
   "outputs": [],
   "source": [
    "for i in range(0, len(urls), 1):\n",
    "    time.sleep(10)\n",
    "    response = requests.get(urls[i], stream=True)\n",
    "\n",
    "    if response.status_code != 200:\n",
    "        print(urls[i])\n",
    "        print(response)\n",
    "\n",
    "    if response.status_code == 200:\n",
    "        with open(\n",
    "            f\"/UPDATED_FILE_PATH/{i}.zip\",\n",
    "            mode=\"wb\",\n",
    "        ) as file:\n",
    "            for chunk in response.iter_content(chunk_size=10 * 1024):\n",
    "                file.write(chunk)\n",
    "\n",
    "        print(f\"Downloaded {i}.zip\")"
   ]
  }
 ],
 "metadata": {
  "kernelspec": {
   "display_name": "eco",
   "language": "python",
   "name": "python3"
  },
  "language_info": {
   "codemirror_mode": {
    "name": "ipython",
    "version": 3
   },
   "file_extension": ".py",
   "mimetype": "text/x-python",
   "name": "python",
   "nbconvert_exporter": "python",
   "pygments_lexer": "ipython3",
   "version": "3.9.7"
  }
 },
 "nbformat": 4,
 "nbformat_minor": 2
}
