{
 "cells": [
  {
   "cell_type": "code",
   "execution_count": null,
   "metadata": {},
   "outputs": [],
   "source": [
    "import geopandas as gpd\n",
    "import pandas as pd\n",
    "\n",
    "import os"
   ]
  },
  {
   "cell_type": "code",
   "execution_count": null,
   "metadata": {},
   "outputs": [],
   "source": [
    "base_path = input(\"Enter the base path: \")\n",
    "\n",
    "# find all the file names in the directory\n",
    "# files = os.listdir(base_path)\n",
    "files = os.listdir(base_path)\n",
    "\n",
    "\n",
    "# read each file into a dataframe\n",
    "total = pd.DataFrame()\n",
    "for file in files:\n",
    "\n",
    "    df = pd.read_parquet(f\"{base_path}/{file}\")\n",
    "\n",
    "    total = total.append(df)\n",
    "\n",
    "total"
   ]
  },
  {
   "cell_type": "code",
   "execution_count": null,
   "metadata": {},
   "outputs": [],
   "source": [
    "# for each row of total find the unique_id\n",
    "check = pd.DataFrame()\n",
    "for i in range(0, len(total), 1):\n",
    "\n",
    "    unique_id = total[\"unique_id\"].values[i]\n",
    "\n",
    "    if unique_id[0] == \"check\":\n",
    "\n",
    "        check = check.append(total.iloc[i])\n",
    "\n",
    "    # print(check)\n",
    "\n",
    "check"
   ]
  },
  {
   "cell_type": "code",
   "execution_count": null,
   "metadata": {},
   "outputs": [],
   "source": [
    "final = total[~total[\"unique_id\"].isin(check[\"unique_id\"])]\n",
    "\n",
    "final"
   ]
  },
  {
   "cell_type": "code",
   "execution_count": null,
   "metadata": {},
   "outputs": [],
   "source": [
    "final_path = input(\"Enter the final file path: \")\n",
    "\n",
    "final.to_parquet(final_path)"
   ]
  },
  {
   "cell_type": "code",
   "execution_count": null,
   "metadata": {},
   "outputs": [],
   "source": [
    "check_path = input(\"Enter the check file path: \")\n",
    "\n",
    "check.to_parquet(check_path)"
   ]
  }
 ],
 "metadata": {
  "kernelspec": {
   "display_name": "eco",
   "language": "python",
   "name": "python3"
  },
  "language_info": {
   "codemirror_mode": {
    "name": "ipython",
    "version": 3
   },
   "file_extension": ".py",
   "mimetype": "text/x-python",
   "name": "python",
   "nbconvert_exporter": "python",
   "pygments_lexer": "ipython3",
   "version": "3.9.7"
  }
 },
 "nbformat": 4,
 "nbformat_minor": 2
}
