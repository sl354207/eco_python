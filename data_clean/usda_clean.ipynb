{
 "cells": [
  {
   "cell_type": "code",
   "execution_count": 1,
   "metadata": {},
   "outputs": [],
   "source": [
    "import pandas as pd\n",
    "import numpy as np\n",
    "\n",
    "pd.set_option(\"display.max_columns\", None)\n",
    "pd.set_option(\"display.max_rows\", None)\n",
    "# pd.set_option('display.max_columns', None)\n",
    "# pd.set_option('display.width', None)\n",
    "# pd.set_option('display.max_colwidth', None)\n",
    "\n",
    "# 400 meter coordinate accuracy\n",
    "# 1923 earliest year"
   ]
  },
  {
   "cell_type": "code",
   "execution_count": 2,
   "metadata": {},
   "outputs": [],
   "source": [
    "# read in us_plants_full_essential\n",
    "df_path = input(\"Enter the file path: \")\n",
    "\n",
    "df = pd.read_parquet(df_path)\n"
   ]
  },
  {
   "cell_type": "code",
   "execution_count": 3,
   "metadata": {},
   "outputs": [],
   "source": [
    "# find na values in df\n",
    "species_na = df[\"Scientific Name\"].isna().sum()\n",
    "\n",
    "unique_na = df[\"unique_id\"].isna().sum()"
   ]
  },
  {
   "cell_type": "code",
   "execution_count": null,
   "metadata": {},
   "outputs": [],
   "source": [
    "# drop rows in df where species, unique_id is NA\n",
    "df.dropna(subset=[\"species\", \"unique_id\"], inplace=True)\n"
   ]
  },
  {
   "cell_type": "code",
   "execution_count": 3,
   "metadata": {},
   "outputs": [],
   "source": [
    "# convert column names\n",
    "df.rename(\n",
    "    columns={\n",
    "        \"Scientific Name\": \"species\",\n",
    "        \"Plant Type\": \"species_type\",\n",
    "        \"Common Name\": \"common_name\",\n",
    "        \"Plant Family\": \"family\",\n",
    "    },\n",
    "    inplace=True,\n",
    ")\n"
   ]
  },
  {
   "cell_type": "code",
   "execution_count": 4,
   "metadata": {},
   "outputs": [],
   "source": [
    "species_unique = df.species.unique()"
   ]
  },
  {
   "cell_type": "code",
   "execution_count": 5,
   "metadata": {},
   "outputs": [],
   "source": [
    "species_values = np.array([len(word.split()) for word in species_unique])\n",
    "\n",
    "# find the max value in species_values\n",
    "max_value = np.max(species_values)"
   ]
  },
  {
   "cell_type": "code",
   "execution_count": 6,
   "metadata": {},
   "outputs": [],
   "source": [
    "# if value at index i in species_values is greater than 2, add the value at the same index in species_unique to a new list\n",
    "species_2 = []\n",
    "for i in range(len(species_values)):\n",
    "    if species_values[i] > 2:\n",
    "        species_2.append(species_unique[i])"
   ]
  },
  {
   "cell_type": "code",
   "execution_count": 7,
   "metadata": {},
   "outputs": [],
   "source": [
    "# remove the rows in df that contain the values in species_2\n",
    "df = df[~df.species.isin(species_2)]"
   ]
  },
  {
   "cell_type": "code",
   "execution_count": 8,
   "metadata": {},
   "outputs": [],
   "source": [
    "# recheck\n",
    "species_unique = df[\"species\"].unique()"
   ]
  },
  {
   "cell_type": "code",
   "execution_count": 9,
   "metadata": {},
   "outputs": [],
   "source": [
    "species_values = np.array([len(word.split()) for word in species_unique])\n",
    "\n",
    "\n",
    "max_value = np.max(species_values)"
   ]
  },
  {
   "cell_type": "code",
   "execution_count": 10,
   "metadata": {},
   "outputs": [],
   "source": [
    "# remove the rows in df where df.species equals ×Elyhordeum schaackianum or ×Elyleymus aleuticus\n",
    "\n",
    "df = df[~df.species.isin([\"×Elyhordeum schaackianum\", \"×Elyleymus aleuticus\"])]"
   ]
  },
  {
   "cell_type": "code",
   "execution_count": null,
   "metadata": {},
   "outputs": [],
   "source": [
    "# REMOVE VALUES FROM SPECIES WHOSE SCIENTIFIC NAME HAS A 1 CHARACTER WORD AS SECOND WORD\n",
    "\n",
    "# use regex to determine if second word in string is 1 character long\n",
    "# \\b(\\w+)\\s(\\w{1})$\n",
    "\n",
    "\n",
    "# CHECK FOR NON LETTER CHARACTERS IN SCIENTIFIC NAME AND COMMON NAME (AND REMOVE?)\n",
    "\n",
    "# [^A-Za-z\\s] (possibly exlude dash as well by adding - after s in regex)\n",
    "# also specifically check for [] and () in common names\n",
    "# [[\\[\\]()]\n",
    "\n",
    "# CHECK FOR AND REMOVE? SCIENTIFIC NAME THAT CONTAINS SP- IN IT\n",
    "# sp-"
   ]
  },
  {
   "cell_type": "code",
   "execution_count": 11,
   "metadata": {},
   "outputs": [],
   "source": [
    "# find unique values of species_type\n",
    "species_type_unique = df[\"species_type\"].unique()"
   ]
  },
  {
   "cell_type": "code",
   "execution_count": 12,
   "metadata": {},
   "outputs": [],
   "source": [
    "# replace df.species_type values of Tree or Shrub with tree_shrub\n",
    "df[\"species_type\"].replace([\"Tree\", \"Shrub\"], \"tree_shrub\", inplace=True)\n"
   ]
  },
  {
   "cell_type": "code",
   "execution_count": 14,
   "metadata": {},
   "outputs": [],
   "source": [
    "df[\"species_type\"].replace([\"Fern\", \"Fern Ally\"], \"other_plants\", inplace=True)\n",
    "\n",
    "df[\"species_type\"].replace(\"Wildflower\", \"wildflower\", inplace=True)\n",
    "\n",
    "df[\"species_type\"].replace(\"Vine\", \"vine\", inplace=True)\n",
    "\n",
    "df[\"species_type\"].replace(\"Graminoid\", \"graminoid\", inplace=True)"
   ]
  },
  {
   "cell_type": "code",
   "execution_count": 15,
   "metadata": {},
   "outputs": [],
   "source": [
    "# recheck\n",
    "species_type_unique = df[\"species_type\"].unique()"
   ]
  },
  {
   "cell_type": "code",
   "execution_count": 17,
   "metadata": {},
   "outputs": [],
   "source": [
    "# read cleaned df into a parquet file where user can input the file path\n",
    "df_path = input(\"Enter the file path: \")\n",
    "df.to_parquet(df_path)\n"
   ]
  }
 ],
 "metadata": {
  "kernelspec": {
   "display_name": "eco",
   "language": "python",
   "name": "python3"
  },
  "language_info": {
   "codemirror_mode": {
    "name": "ipython",
    "version": 3
   },
   "file_extension": ".py",
   "mimetype": "text/x-python",
   "name": "python",
   "nbconvert_exporter": "python",
   "pygments_lexer": "ipython3",
   "version": "3.9.7"
  },
  "orig_nbformat": 4
 },
 "nbformat": 4,
 "nbformat_minor": 2
}
