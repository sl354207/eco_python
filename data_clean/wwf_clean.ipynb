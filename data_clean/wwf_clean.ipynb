{
 "cells": [
  {
   "cell_type": "code",
   "execution_count": null,
   "metadata": {},
   "outputs": [],
   "source": [
    "import pandas as pd\n",
    "import numpy as np\n",
    "\n",
    "pd.set_option(\"display.max_columns\", None)\n",
    "pd.set_option(\"display.max_rows\", None)\n",
    "# pd.set_option('display.max_columns', None)\n",
    "# pd.set_option('display.width', None)\n",
    "# pd.set_option('display.max_colwidth', None)\n",
    "\n",
    "# 400 meter coordinate accuracy\n",
    "# 1923 earliest year\n"
   ]
  },
  {
   "cell_type": "code",
   "execution_count": null,
   "metadata": {},
   "outputs": [],
   "source": [
    "# read in wwf_full_essential\n",
    "df_path = input(\"Enter the file path: \")\n",
    "\n",
    "df = pd.read_parquet(df_path)"
   ]
  },
  {
   "cell_type": "code",
   "execution_count": null,
   "metadata": {},
   "outputs": [],
   "source": [
    "# read out column names\n",
    "print(df.columns)\n"
   ]
  },
  {
   "cell_type": "code",
   "execution_count": null,
   "metadata": {},
   "outputs": [],
   "source": [
    "# convert column names\n",
    "df.rename(\n",
    "    columns={\n",
    "        \"Scientific_Name\": \"species\",\n",
    "        \"ORDER_DESC\": \"order\",\n",
    "        \"COMMON_NAME\": \"common_name\",\n",
    "        \"FAMILY\": \"family\",\n",
    "        \"CLASS\": \"class\",\n",
    "    },\n",
    "    inplace=True,\n",
    ")\n"
   ]
  },
  {
   "cell_type": "code",
   "execution_count": null,
   "metadata": {},
   "outputs": [],
   "source": [
    "# find na values in df\n",
    "species_na = df[\"species\"].isna().sum()\n",
    "unique_na = df[\"unique_id\"].isna().sum()"
   ]
  },
  {
   "cell_type": "code",
   "execution_count": null,
   "metadata": {},
   "outputs": [],
   "source": [
    "# drop rows in df where species, unique_id is NA\n",
    "df.dropna(subset=[\"species\", \"unique_id\"], inplace=True)\n"
   ]
  },
  {
   "cell_type": "code",
   "execution_count": null,
   "metadata": {},
   "outputs": [],
   "source": [
    "species_unique = df.species.unique()"
   ]
  },
  {
   "cell_type": "code",
   "execution_count": null,
   "metadata": {},
   "outputs": [],
   "source": [
    "species_values = np.array([len(word.split()) for word in species_unique])\n",
    "\n",
    "# find the max value in species_values\n",
    "max_value = np.max(species_values)"
   ]
  },
  {
   "cell_type": "code",
   "execution_count": null,
   "metadata": {},
   "outputs": [],
   "source": [
    "# if value at index i in species_values is greater than 2, add the value at the same index in species_unique to a new list\n",
    "species_2 = []\n",
    "for i in range(len(species_values)):\n",
    "    if species_values[i] > 2:\n",
    "        species_2.append(species_unique[i])\n"
   ]
  },
  {
   "cell_type": "code",
   "execution_count": null,
   "metadata": {},
   "outputs": [],
   "source": [
    "# remove the rows in df that contain the values in species_2\n",
    "df = df[~df.species.isin(species_2)]"
   ]
  },
  {
   "cell_type": "code",
   "execution_count": null,
   "metadata": {},
   "outputs": [],
   "source": [
    "# recheck\n",
    "species_unique = df[\"species\"].unique()"
   ]
  },
  {
   "cell_type": "code",
   "execution_count": null,
   "metadata": {},
   "outputs": [],
   "source": [
    "species_values = np.array([len(word.split()) for word in species_unique])\n",
    "\n",
    "\n",
    "max_value = np.max(species_values)\n"
   ]
  },
  {
   "cell_type": "code",
   "execution_count": null,
   "metadata": {},
   "outputs": [],
   "source": [
    "#  read cleaned df into a parquet file where user can input the file path\n",
    "df_path = input(\"Enter the file path: \")\n",
    "df.to_parquet(df_path)"
   ]
  }
 ],
 "metadata": {
  "kernelspec": {
   "display_name": "eco",
   "language": "python",
   "name": "python3"
  },
  "language_info": {
   "codemirror_mode": {
    "name": "ipython",
    "version": 3
   },
   "file_extension": ".py",
   "mimetype": "text/x-python",
   "name": "python",
   "nbconvert_exporter": "python",
   "pygments_lexer": "ipython3",
   "version": "3.9.7"
  },
  "orig_nbformat": 4
 },
 "nbformat": 4,
 "nbformat_minor": 2
}
