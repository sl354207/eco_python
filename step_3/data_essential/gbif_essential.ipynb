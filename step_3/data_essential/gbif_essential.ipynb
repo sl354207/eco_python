{
 "cells": [
  {
   "cell_type": "code",
   "execution_count": null,
   "metadata": {},
   "outputs": [],
   "source": [
    "import pandas as pd\n",
    "import vaex\n",
    "\n",
    "pd.set_option(\"display.max_columns\", None)\n",
    "# pd.set_option('display.max_rows', 100)\n",
    "# pd.set_option('display.max_seq_items', 100)\n",
    "\n",
    "# 400 meter coordinate accuracy - 20 for soil\n",
    "# 1924 earliest year"
   ]
  },
  {
   "cell_type": "code",
   "execution_count": null,
   "metadata": {},
   "outputs": [],
   "source": [
    "# read in gbif_init\n",
    "df_path = input(\"Enter the file path: \")\n",
    "\n",
    "# df = vaex.open(df_path)\n",
    "df = pd.read_parquet(df_path)"
   ]
  },
  {
   "cell_type": "code",
   "execution_count": null,
   "metadata": {},
   "outputs": [],
   "source": [
    "df"
   ]
  },
  {
   "cell_type": "code",
   "execution_count": null,
   "metadata": {},
   "outputs": [],
   "source": [
    "# remove rows where coordinateUncertaintyInMeters is > 20\n",
    "df = df[df[\"coordinateUncertaintyInMeters\"] <= 20]\n",
    "\n",
    "df"
   ]
  },
  {
   "cell_type": "code",
   "execution_count": null,
   "metadata": {},
   "outputs": [],
   "source": [
    "# double check earliest year of record\n",
    "year_unique = df[\"year\"].unique()"
   ]
  },
  {
   "cell_type": "code",
   "execution_count": null,
   "metadata": {},
   "outputs": [],
   "source": [
    "coordinate_unique = df[\"coordinateUncertaintyInMeters\"].unique()"
   ]
  },
  {
   "cell_type": "code",
   "execution_count": null,
   "metadata": {},
   "outputs": [],
   "source": [
    "# remove values that aren't numbers\n",
    "df = df[df.coordinateUncertaintyInMeters != \"da86174a-a605-43a4-a5e8-53d484152cd3\"]"
   ]
  },
  {
   "cell_type": "code",
   "execution_count": null,
   "metadata": {},
   "outputs": [],
   "source": [
    "df = df[df.coordinateUncertaintyInMeters != \"2023-07-06T12:41:54.635Z\"]"
   ]
  },
  {
   "cell_type": "code",
   "execution_count": null,
   "metadata": {},
   "outputs": [],
   "source": [
    "# convert column coordinateUncertaintyInMeters to float\n",
    "df[\"coordinateUncertaintyInMeters\"] = df[\"coordinateUncertaintyInMeters\"].astype(\n",
    "    \"float64\"\n",
    ")"
   ]
  },
  {
   "cell_type": "code",
   "execution_count": null,
   "metadata": {},
   "outputs": [],
   "source": [
    "# find the highest number in the coordinateUncertaintyInMeters column using vaex.max and store the result in a new variable\n",
    "max_uncertainty_in_meters = df[\"coordinateUncertaintyInMeters\"].max()\n",
    "\n",
    "max_uncertainty_in_meters"
   ]
  },
  {
   "cell_type": "code",
   "execution_count": null,
   "metadata": {},
   "outputs": [],
   "source": [
    "min_uncertainty_in_meters = df[\"coordinateUncertaintyInMeters\"].min()\n",
    "\n",
    "min_uncertainty_in_meters"
   ]
  },
  {
   "cell_type": "code",
   "execution_count": null,
   "metadata": {},
   "outputs": [],
   "source": [
    "# count the number of na values in column species\n",
    "species_na = df[\"species\"].isna().sum()\n",
    "\n",
    "latitude_na = df[\"decimalLatitude\"].isna().sum()\n",
    "\n",
    "longitude_na = df[\"decimalLongitude\"].isna().sum()\n",
    "\n",
    "coordinate_na = df[\"coordinateUncertaintyInMeters\"].isna().sum()\n",
    "\n",
    "print(species_na, latitude_na, longitude_na, coordinate_na)"
   ]
  },
  {
   "cell_type": "code",
   "execution_count": null,
   "metadata": {},
   "outputs": [],
   "source": [
    "df = df.dropna(\n",
    "    subset=[\n",
    "        \"species\",\n",
    "        \"decimalLatitude\",\n",
    "        \"decimalLongitude\",\n",
    "        \"coordinateUncertaintyInMeters\",\n",
    "        \"year\",\n",
    "    ]\n",
    ")"
   ]
  },
  {
   "cell_type": "code",
   "execution_count": null,
   "metadata": {},
   "outputs": [],
   "source": [
    "species_na = df[\"species\"].isna().sum()\n",
    "\n",
    "latitude_na = df[\"decimalLatitude\"].isna().sum()\n",
    "\n",
    "longitude_na = df[\"decimalLongitude\"].isna().sum()\n",
    "\n",
    "coordinate_na = df[\"coordinateUncertaintyInMeters\"].isna().sum()\n",
    "\n",
    "print(species_na, latitude_na, longitude_na, coordinate_na)"
   ]
  },
  {
   "cell_type": "code",
   "execution_count": null,
   "metadata": {},
   "outputs": [],
   "source": [
    "df[\"decimalLatitude\"] = df[\"decimalLatitude\"].astype(\"float64\")"
   ]
  },
  {
   "cell_type": "code",
   "execution_count": null,
   "metadata": {},
   "outputs": [],
   "source": [
    "max_lat = df[\"decimalLatitude\"].max()\n",
    "\n",
    "min_lat = df[\"decimalLatitude\"].min()\n",
    "\n",
    "print(max_lat, min_lat)"
   ]
  },
  {
   "cell_type": "code",
   "execution_count": null,
   "metadata": {},
   "outputs": [],
   "source": [
    "df[\"decimalLongitude\"] = df[\"decimalLongitude\"].astype(\"float64\")"
   ]
  },
  {
   "cell_type": "code",
   "execution_count": null,
   "metadata": {},
   "outputs": [],
   "source": [
    "max_long = df[\"decimalLongitude\"].max()\n",
    "\n",
    "min_long = df[\"decimalLongitude\"].min()\n",
    "\n",
    "print(max_long, min_long)"
   ]
  },
  {
   "cell_type": "code",
   "execution_count": null,
   "metadata": {},
   "outputs": [],
   "source": [
    "# print value of rightsHolder in first row\n",
    "df[\"rightsHolder\"].iloc[0]"
   ]
  },
  {
   "cell_type": "code",
   "execution_count": null,
   "metadata": {},
   "outputs": [],
   "source": [
    "df[\"rights\"] = None\n",
    "\n",
    "df"
   ]
  },
  {
   "cell_type": "code",
   "execution_count": null,
   "metadata": {},
   "outputs": [],
   "source": [
    "rights_holder_unique = df[\"rightsHolder\"].unique()\n",
    "\n",
    "print(rights_holder_unique)"
   ]
  },
  {
   "cell_type": "code",
   "execution_count": null,
   "metadata": {},
   "outputs": [],
   "source": [
    "# for i in range(len(df)):\n",
    "#     if df['rightsHolder'].iloc[i] == None:\n",
    "#         df['rights'].iloc[i] = None\n",
    "#     else:\n",
    "#         if df['license'].iloc[i] == None:\n",
    "#             df['rights'].iloc[i] = df['rightsHolder'].iloc[i]\n",
    "#         else:\n",
    "#             df['rights'].iloc[i] = df['rightsHolder'].iloc[i] + ',' + df['license'].iloc[i]\n",
    "\n",
    "\n",
    "def merge_columns(row):\n",
    "    if pd.isnull(row[\"rightsHolder\"]):\n",
    "        return row[\"rightsHolder\"]\n",
    "\n",
    "    else:\n",
    "        return row[\"rightsHolder\"] + \", \" + row[\"license\"]\n",
    "\n",
    "\n",
    "# apply the function to the dataframe\n",
    "df[\"rights\"] = df.apply(merge_columns, axis=1)\n",
    "\n",
    "df"
   ]
  },
  {
   "cell_type": "code",
   "execution_count": null,
   "metadata": {},
   "outputs": [],
   "source": [
    "rights_unique = df[\"rights\"].unique()\n",
    "\n",
    "rights_unique"
   ]
  },
  {
   "cell_type": "code",
   "execution_count": null,
   "metadata": {},
   "outputs": [],
   "source": []
  },
  {
   "cell_type": "code",
   "execution_count": null,
   "metadata": {},
   "outputs": [],
   "source": [
    "# create a new variable that only contains the columns kingdom, phylum, class, order, family, genus, species, decimalLatitude, decimalLongitude, license, and rightsHolder\n",
    "df_essential = df[\n",
    "    [\n",
    "        \"kingdom\",\n",
    "        \"phylum\",\n",
    "        \"class\",\n",
    "        \"order\",\n",
    "        \"family\",\n",
    "        \"genus\",\n",
    "        \"species\",\n",
    "        \"decimalLatitude\",\n",
    "        \"decimalLongitude\",\n",
    "        \"rights\",\n",
    "    ]\n",
    "]\n",
    "\n",
    "df_essential"
   ]
  },
  {
   "cell_type": "code",
   "execution_count": null,
   "metadata": {},
   "outputs": [],
   "source": [
    "# read df_essential into a parquet file where user can input the file path\n",
    "df_essential_path = input(\"Enter the file path: \")\n",
    "df_essential.export_parquet(df_essential_path)"
   ]
  }
 ],
 "metadata": {
  "kernelspec": {
   "display_name": "eco",
   "language": "python",
   "name": "python3"
  },
  "language_info": {
   "codemirror_mode": {
    "name": "ipython",
    "version": 3
   },
   "file_extension": ".py",
   "mimetype": "text/x-python",
   "name": "python",
   "nbconvert_exporter": "python",
   "pygments_lexer": "ipython3",
   "version": "3.9.7"
  },
  "orig_nbformat": 4
 },
 "nbformat": 4,
 "nbformat_minor": 2
}
