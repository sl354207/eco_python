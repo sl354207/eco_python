{
 "cells": [
  {
   "cell_type": "code",
   "execution_count": 1,
   "metadata": {},
   "outputs": [],
   "source": [
    "import pandas as pd\n",
    "import geopandas as gpd\n",
    "import vaex\n",
    "import numpy as np\n",
    "\n",
    "pd.set_option(\"display.max_columns\", None)\n",
    "pd.set_option(\"display.max_rows\", None)\n",
    "# pd.set_option('display.max_columns', None)\n",
    "# pd.set_option('display.width', None)\n",
    "# pd.set_option('display.max_colwidth', None)\n",
    "\n",
    "# 400 meter coordinate accuracy\n",
    "# 1923 earliest year"
   ]
  },
  {
   "cell_type": "code",
   "execution_count": 2,
   "metadata": {},
   "outputs": [],
   "source": [
    "df_essential_path = input(\"Enter the file path: \")\n",
    "\n",
    "df_essential = vaex.open(df_essential_path)"
   ]
  },
  {
   "cell_type": "code",
   "execution_count": null,
   "metadata": {},
   "outputs": [],
   "source": [
    "df_essential.describe()"
   ]
  },
  {
   "cell_type": "code",
   "execution_count": 4,
   "metadata": {},
   "outputs": [],
   "source": [
    "df_essential = df_essential.dropna(\n",
    "    column_names=[\n",
    "        \"decimalLatitude\",\n",
    "        \"decimalLongitude\",\n",
    "        \"coordinateUncertaintyInMeters\",\n",
    "        \"geodeticDatum\",\n",
    "        \"species\",\n",
    "        \"date_year\",\n",
    "        \"basisOfRecord\",\n",
    "    ]\n",
    ")\n"
   ]
  },
  {
   "cell_type": "code",
   "execution_count": null,
   "metadata": {},
   "outputs": [],
   "source": [
    "df_essential.describe()\n"
   ]
  },
  {
   "cell_type": "code",
   "execution_count": null,
   "metadata": {},
   "outputs": [],
   "source": [
    "df_essential.geodeticDatum.value_counts()"
   ]
  },
  {
   "cell_type": "code",
   "execution_count": 5,
   "metadata": {},
   "outputs": [],
   "source": [
    "df_essential = df_essential[\n",
    "    df_essential.geodeticDatum.isin(\n",
    "        [\"EPSG:4326\", \"EPSG:4326 WGS84\", \"EPSG: 4326 WGS 84\", \"WGS84_EPSG:4326\"]\n",
    "    )\n",
    "]\n"
   ]
  },
  {
   "cell_type": "code",
   "execution_count": null,
   "metadata": {},
   "outputs": [],
   "source": [
    "# find unique years in df_essential\n",
    "years = df_essential[\"date_year\"].unique()"
   ]
  },
  {
   "cell_type": "code",
   "execution_count": 6,
   "metadata": {},
   "outputs": [],
   "source": [
    "# for some reason have to extract to new df to continue filtering\n",
    "df_essential = df_essential.extract()"
   ]
  },
  {
   "cell_type": "code",
   "execution_count": 7,
   "metadata": {},
   "outputs": [],
   "source": [
    "df_essential[\"date_year\"] = df_essential[\"date_year\"].astype(\"float32\")\n",
    "\n",
    "df_essential[\"coordinateUncertaintyInMeters\"] = df_essential[\n",
    "    \"coordinateUncertaintyInMeters\"\n",
    "].astype(\"float32\")\n"
   ]
  },
  {
   "cell_type": "code",
   "execution_count": 8,
   "metadata": {},
   "outputs": [],
   "source": [
    "df_essential = df_essential[df_essential.date_year >= 1923]"
   ]
  },
  {
   "cell_type": "code",
   "execution_count": 9,
   "metadata": {},
   "outputs": [],
   "source": [
    "max_year = df_essential[\"date_year\"].max()\n",
    "\n",
    "min_year = df_essential[\"date_year\"].min()\n"
   ]
  },
  {
   "cell_type": "code",
   "execution_count": 10,
   "metadata": {},
   "outputs": [],
   "source": [
    "df_essential = df_essential[df_essential.coordinateUncertaintyInMeters <= 400]"
   ]
  },
  {
   "cell_type": "code",
   "execution_count": 11,
   "metadata": {},
   "outputs": [],
   "source": [
    "max_meter = df_essential[\"coordinateUncertaintyInMeters\"].max()\n",
    "\n",
    "min_meter = df_essential[\"coordinateUncertaintyInMeters\"].min()"
   ]
  },
  {
   "cell_type": "code",
   "execution_count": null,
   "metadata": {},
   "outputs": [],
   "source": [
    "basis = df_essential[\"basisOfRecord\"].unique()"
   ]
  },
  {
   "cell_type": "code",
   "execution_count": 12,
   "metadata": {},
   "outputs": [],
   "source": [
    "df_essential = df_essential[\n",
    "    df_essential.basisOfRecord.isin(\n",
    "        [\"HumanObservation\", \"MachineObservation\", \"Occurrence\"]\n",
    "    )\n",
    "]"
   ]
  },
  {
   "cell_type": "code",
   "execution_count": null,
   "metadata": {},
   "outputs": [],
   "source": [
    "df_essential[\"basisOfRecord\"].value_counts()"
   ]
  },
  {
   "cell_type": "code",
   "execution_count": null,
   "metadata": {},
   "outputs": [],
   "source": [
    "df_essential[\"flags\"].value_counts()"
   ]
  },
  {
   "cell_type": "code",
   "execution_count": 13,
   "metadata": {},
   "outputs": [],
   "source": [
    "df_essential = df_essential[\n",
    "    \"kingdom\",\n",
    "    \"phylum\",\n",
    "    \"class\",\n",
    "    \"order\",\n",
    "    \"family\",\n",
    "    \"genus\",\n",
    "    \"species\",\n",
    "    \"decimalLatitude\",\n",
    "    \"decimalLongitude\",\n",
    "    \"license\",\n",
    "    \"rightsHolder\",\n",
    "]\n"
   ]
  },
  {
   "cell_type": "code",
   "execution_count": null,
   "metadata": {},
   "outputs": [],
   "source": [
    "df_essential.describe()"
   ]
  },
  {
   "cell_type": "code",
   "execution_count": 14,
   "metadata": {},
   "outputs": [],
   "source": [
    "species_unique = df_essential.species.unique()"
   ]
  },
  {
   "cell_type": "code",
   "execution_count": 15,
   "metadata": {},
   "outputs": [],
   "source": [
    "species_values = np.array([len(word.split()) for word in species_unique])\n",
    "\n",
    "# find the max value in species_values\n",
    "max_value = np.max(species_values)"
   ]
  },
  {
   "cell_type": "code",
   "execution_count": 16,
   "metadata": {},
   "outputs": [],
   "source": [
    "# if value at index i in species_values is greater than 2, add the value at the same index in species_unique to a new list\n",
    "species_2 = []\n",
    "for i in range(len(species_values)):\n",
    "    if species_values[i] > 2:\n",
    "        species_2.append(species_unique[i])"
   ]
  },
  {
   "cell_type": "code",
   "execution_count": 17,
   "metadata": {},
   "outputs": [],
   "source": [
    "# remove values from species that are greater than 2\n",
    "\n",
    "for i in range(len(species_2)):\n",
    "    df_essential = df_essential[df_essential.species != species_2[i]]"
   ]
  },
  {
   "cell_type": "code",
   "execution_count": 18,
   "metadata": {},
   "outputs": [],
   "source": [
    "df_essential = df_essential.extract()\n"
   ]
  },
  {
   "cell_type": "code",
   "execution_count": 19,
   "metadata": {},
   "outputs": [],
   "source": [
    "# recheck\n",
    "species_unique = df_essential[\"species\"].unique()\n"
   ]
  },
  {
   "cell_type": "code",
   "execution_count": 20,
   "metadata": {},
   "outputs": [],
   "source": [
    "species_values = np.array([len(word.split()) for word in species_unique])\n",
    "\n",
    "\n",
    "max_value = np.max(species_values)\n"
   ]
  },
  {
   "cell_type": "code",
   "execution_count": null,
   "metadata": {},
   "outputs": [],
   "source": [
    "df_essential[\"license\"].value_counts()"
   ]
  },
  {
   "cell_type": "code",
   "execution_count": 22,
   "metadata": {},
   "outputs": [],
   "source": [
    "license = df_essential[\"license\"].unique()\n"
   ]
  },
  {
   "cell_type": "code",
   "execution_count": 32,
   "metadata": {},
   "outputs": [],
   "source": [
    "license_removal = [\n",
    "    \"Copyright Frank Garita Alpízar. No use without permission.\",\n",
    "    \"Copyright Ma. Eugenia Rodríguez Vázquez. No use without permission.\",\n",
    "    \"Copyright Whales of Guerrero (contact: Katherina Audley). No use without permission.\",\n",
    "    \"Copyright Rémi Bigonneau. No use without permission.\",\n",
    "    \"Copyright Nico Ransome. No use without permission.\",\n",
    "    \"Copyright Russian Cetacean Habitat Project. No use without permission.\",\n",
    "    \"Copyright Jodi Frediani. No use without permission.\",\n",
    "    \"Copyright Adam A. Pack. No use without permission.\",\n",
    "    \"Copyright Tory Kallman. No use without permission.\",\n",
    "    \"Copyright Tasli Shaw. No use without permission.\",\n",
    "    \"Copyright Amy Kennedy. No use without permission.\",\n",
    "]"
   ]
  },
  {
   "cell_type": "code",
   "execution_count": 33,
   "metadata": {},
   "outputs": [],
   "source": [
    "for i in range(len(license_removal)):\n",
    "    df_essential = df_essential[df_essential.license != license_removal[i]]\n"
   ]
  },
  {
   "cell_type": "code",
   "execution_count": 34,
   "metadata": {},
   "outputs": [],
   "source": [
    "df_essential = df_essential.extract()\n"
   ]
  },
  {
   "cell_type": "code",
   "execution_count": 35,
   "metadata": {},
   "outputs": [
    {
     "data": {
      "text/plain": [
       "missing                                                       6250826\n",
       "http://creativecommons.org/licenses/by-nc/4.0/                3282348\n",
       "http://creativecommons.org/licenses/by/4.0/                    788852\n",
       "http://creativecommons.org/licenses/by/4.0/legalcode           326587\n",
       "https://creativecommons.org/publicdomain/zero/1.0               54423\n",
       "http://creativecommons.org/publicdomain/zero/1.0/legalcode      44681\n",
       "https://creativecommons.org/licenses/by-sa/4.0                   2794\n",
       "https://creativecommons.org/licenses/by/4.0                      1904\n",
       "https://creativecommons.org/licenses/by-nc-sa/4.0                 365\n",
       "https://creativecommons.org/licenses/by-nc/4.0                    116\n",
       "https://creativecommons.org/licenses/by-nc-nd/4.0                 114\n",
       "https://creativecommons.org/licenses/by-nd/4.0                      1\n",
       "dtype: int64"
      ]
     },
     "execution_count": 35,
     "metadata": {},
     "output_type": "execute_result"
    }
   ],
   "source": [
    "df_essential[\"license\"].value_counts()\n"
   ]
  },
  {
   "cell_type": "code",
   "execution_count": 36,
   "metadata": {},
   "outputs": [
    {
     "data": {
      "text/html": [
       "<div>\n",
       "<style scoped>\n",
       "    .dataframe tbody tr th:only-of-type {\n",
       "        vertical-align: middle;\n",
       "    }\n",
       "\n",
       "    .dataframe tbody tr th {\n",
       "        vertical-align: top;\n",
       "    }\n",
       "\n",
       "    .dataframe thead th {\n",
       "        text-align: right;\n",
       "    }\n",
       "</style>\n",
       "<table border=\"1\" class=\"dataframe\">\n",
       "  <thead>\n",
       "    <tr style=\"text-align: right;\">\n",
       "      <th></th>\n",
       "      <th>kingdom</th>\n",
       "      <th>phylum</th>\n",
       "      <th>class</th>\n",
       "      <th>order</th>\n",
       "      <th>family</th>\n",
       "      <th>genus</th>\n",
       "      <th>species</th>\n",
       "      <th>decimalLatitude</th>\n",
       "      <th>decimalLongitude</th>\n",
       "      <th>license</th>\n",
       "      <th>rightsHolder</th>\n",
       "    </tr>\n",
       "  </thead>\n",
       "  <tbody>\n",
       "    <tr>\n",
       "      <th>data_type</th>\n",
       "      <td>string</td>\n",
       "      <td>string</td>\n",
       "      <td>string</td>\n",
       "      <td>string</td>\n",
       "      <td>string</td>\n",
       "      <td>string</td>\n",
       "      <td>string</td>\n",
       "      <td>float32</td>\n",
       "      <td>float32</td>\n",
       "      <td>string</td>\n",
       "      <td>string</td>\n",
       "    </tr>\n",
       "    <tr>\n",
       "      <th>count</th>\n",
       "      <td>10753011</td>\n",
       "      <td>10718528</td>\n",
       "      <td>10594180</td>\n",
       "      <td>10684780</td>\n",
       "      <td>10748831</td>\n",
       "      <td>10753011</td>\n",
       "      <td>10753011</td>\n",
       "      <td>10753011</td>\n",
       "      <td>10753011</td>\n",
       "      <td>4502185</td>\n",
       "      <td>82184</td>\n",
       "    </tr>\n",
       "    <tr>\n",
       "      <th>NA</th>\n",
       "      <td>0</td>\n",
       "      <td>34483</td>\n",
       "      <td>158831</td>\n",
       "      <td>68231</td>\n",
       "      <td>4180</td>\n",
       "      <td>0</td>\n",
       "      <td>0</td>\n",
       "      <td>0</td>\n",
       "      <td>0</td>\n",
       "      <td>6250826</td>\n",
       "      <td>10670827</td>\n",
       "    </tr>\n",
       "    <tr>\n",
       "      <th>mean</th>\n",
       "      <td>--</td>\n",
       "      <td>--</td>\n",
       "      <td>--</td>\n",
       "      <td>--</td>\n",
       "      <td>--</td>\n",
       "      <td>--</td>\n",
       "      <td>--</td>\n",
       "      <td>48.16344879339813</td>\n",
       "      <td>-23.806153108599656</td>\n",
       "      <td>--</td>\n",
       "      <td>--</td>\n",
       "    </tr>\n",
       "    <tr>\n",
       "      <th>std</th>\n",
       "      <td>--</td>\n",
       "      <td>--</td>\n",
       "      <td>--</td>\n",
       "      <td>--</td>\n",
       "      <td>--</td>\n",
       "      <td>--</td>\n",
       "      <td>--</td>\n",
       "      <td>16.584034</td>\n",
       "      <td>52.797058</td>\n",
       "      <td>--</td>\n",
       "      <td>--</td>\n",
       "    </tr>\n",
       "    <tr>\n",
       "      <th>min</th>\n",
       "      <td>--</td>\n",
       "      <td>--</td>\n",
       "      <td>--</td>\n",
       "      <td>--</td>\n",
       "      <td>--</td>\n",
       "      <td>--</td>\n",
       "      <td>--</td>\n",
       "      <td>-77.699997</td>\n",
       "      <td>-179.998001</td>\n",
       "      <td>--</td>\n",
       "      <td>--</td>\n",
       "    </tr>\n",
       "    <tr>\n",
       "      <th>max</th>\n",
       "      <td>--</td>\n",
       "      <td>--</td>\n",
       "      <td>--</td>\n",
       "      <td>--</td>\n",
       "      <td>--</td>\n",
       "      <td>--</td>\n",
       "      <td>--</td>\n",
       "      <td>88.963799</td>\n",
       "      <td>179.998001</td>\n",
       "      <td>--</td>\n",
       "      <td>--</td>\n",
       "    </tr>\n",
       "  </tbody>\n",
       "</table>\n",
       "</div>"
      ],
      "text/plain": [
       "            kingdom    phylum     class     order    family     genus  \\\n",
       "data_type    string    string    string    string    string    string   \n",
       "count      10753011  10718528  10594180  10684780  10748831  10753011   \n",
       "NA                0     34483    158831     68231      4180         0   \n",
       "mean             --        --        --        --        --        --   \n",
       "std              --        --        --        --        --        --   \n",
       "min              --        --        --        --        --        --   \n",
       "max              --        --        --        --        --        --   \n",
       "\n",
       "            species    decimalLatitude     decimalLongitude  license  \\\n",
       "data_type    string            float32              float32   string   \n",
       "count      10753011           10753011             10753011  4502185   \n",
       "NA                0                  0                    0  6250826   \n",
       "mean             --  48.16344879339813  -23.806153108599656       --   \n",
       "std              --          16.584034            52.797058       --   \n",
       "min              --         -77.699997          -179.998001       --   \n",
       "max              --          88.963799           179.998001       --   \n",
       "\n",
       "          rightsHolder  \n",
       "data_type       string  \n",
       "count            82184  \n",
       "NA            10670827  \n",
       "mean                --  \n",
       "std                 --  \n",
       "min                 --  \n",
       "max                 --  "
      ]
     },
     "execution_count": 36,
     "metadata": {},
     "output_type": "execute_result"
    }
   ],
   "source": [
    "df_essential.describe()\n"
   ]
  },
  {
   "cell_type": "code",
   "execution_count": 37,
   "metadata": {},
   "outputs": [],
   "source": [
    "# read cleaned df_essential into a parquet file where user can input the file path\n",
    "df_clean_path = input(\"Enter the file path: \")\n",
    "df_essential.export_parquet(df_clean_path)"
   ]
  }
 ],
 "metadata": {
  "kernelspec": {
   "display_name": "eco",
   "language": "python",
   "name": "python3"
  },
  "language_info": {
   "codemirror_mode": {
    "name": "ipython",
    "version": 3
   },
   "file_extension": ".py",
   "mimetype": "text/x-python",
   "name": "python",
   "nbconvert_exporter": "python",
   "pygments_lexer": "ipython3",
   "version": "3.9.7"
  },
  "orig_nbformat": 4
 },
 "nbformat": 4,
 "nbformat_minor": 2
}
