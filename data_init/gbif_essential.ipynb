{
 "cells": [
  {
   "cell_type": "code",
   "execution_count": 1,
   "metadata": {},
   "outputs": [],
   "source": [
    "import pandas as pd\n",
    "import vaex\n",
    "\n",
    "pd.set_option(\"display.max_columns\", None)\n",
    "# pd.set_option('display.max_rows', 100)\n",
    "# pd.set_option('display.max_seq_items', 100)\n"
   ]
  },
  {
   "cell_type": "code",
   "execution_count": 2,
   "metadata": {},
   "outputs": [],
   "source": [
    "df_path = input(\"Enter the file path: \")\n",
    "\n",
    "df = vaex.open(df_path)"
   ]
  },
  {
   "cell_type": "code",
   "execution_count": 3,
   "metadata": {},
   "outputs": [
    {
     "data": {
      "text/html": [
       "<table>\n",
       "<thead>\n",
       "<tr><th>#                                      </th><th>kingdom  </th><th>phylum      </th><th>class        </th><th>order       </th><th>family         </th><th>genus   </th><th>species                </th><th>decimalLatitude  </th><th>decimalLongitude  </th><th>coordinateUncertaintyInMeters  </th><th>year  </th><th>license     </th><th>rightsHolder  </th></tr>\n",
       "</thead>\n",
       "<tbody>\n",
       "<tr><td><i style='opacity: 0.6'>0</i>          </td><td>Plantae  </td><td>Tracheophyta</td><td>Magnoliopsida</td><td>Malpighiales</td><td>Violaceae      </td><td>Viola   </td><td>Viola canina           </td><td>55.547302        </td><td>-2.905738         </td><td>70.7                           </td><td>1983  </td><td>CC_BY_NC_4_0</td><td>BSBI          </td></tr>\n",
       "<tr><td><i style='opacity: 0.6'>1</i>          </td><td>Plantae  </td><td>Tracheophyta</td><td>Magnoliopsida</td><td>Saxifragales</td><td>Grossulariaceae</td><td>Ribes   </td><td>Ribes spicatum         </td><td>57.185014        </td><td>-3.828959         </td><td>70.7                           </td><td>1996  </td><td>CC_BY_NC_4_0</td><td>BSBI          </td></tr>\n",
       "<tr><td><i style='opacity: 0.6'>2</i>          </td><td>Plantae  </td><td>Tracheophyta</td><td>Magnoliopsida</td><td>Brassicales </td><td>Brassicaceae   </td><td>Erysimum</td><td>Erysimum cheiranthoides</td><td>57.21037         </td><td>-3.815311         </td><td>70.7                           </td><td>1998  </td><td>CC_BY_NC_4_0</td><td>BSBI          </td></tr>\n",
       "<tr><td><i style='opacity: 0.6'>3</i>          </td><td>Plantae  </td><td>Tracheophyta</td><td>Liliopsida   </td><td>Poales      </td><td>Poaceae        </td><td>Festuca </td><td>Festuca rubra          </td><td>55.803088        </td><td>-4.207193         </td><td>70.7                           </td><td>1987  </td><td>CC_BY_NC_4_0</td><td>BSBI          </td></tr>\n",
       "<tr><td><i style='opacity: 0.6'>4</i>          </td><td>Plantae  </td><td>Tracheophyta</td><td>Liliopsida   </td><td>Poales      </td><td>Juncaceae      </td><td>Juncus  </td><td>Juncus articulatus     </td><td>57.185691        </td><td>-6.249129         </td><td>70.7                           </td><td>1989  </td><td>CC_BY_NC_4_0</td><td>BSBI          </td></tr>\n",
       "<tr><td>...                                    </td><td>...      </td><td>...         </td><td>...          </td><td>...         </td><td>...            </td><td>...     </td><td>...                    </td><td>...              </td><td>...               </td><td>...                            </td><td>...   </td><td>...         </td><td>...           </td></tr>\n",
       "<tr><td><i style='opacity: 0.6'>224,594,623</i></td><td>Animalia </td><td>Arthropoda  </td><td>Copepoda     </td><td>Calanoida   </td><td>Temoridae      </td><td>--      </td><td>--                     </td><td>11.325149        </td><td>-73.339776        </td><td>100.0                          </td><td>2018  </td><td>CC_BY_NC_4_0</td><td>--            </td></tr>\n",
       "<tr><td><i style='opacity: 0.6'>224,594,624</i></td><td>Animalia </td><td>Arthropoda  </td><td>Copepoda     </td><td>Calanoida   </td><td>Temoridae      </td><td>--      </td><td>--                     </td><td>11.03198         </td><td>-74.33529         </td><td>100.0                          </td><td>2018  </td><td>CC_BY_NC_4_0</td><td>--            </td></tr>\n",
       "<tr><td><i style='opacity: 0.6'>224,594,625</i></td><td>Animalia </td><td>Arthropoda  </td><td>Copepoda     </td><td>Calanoida   </td><td>Centropagidae  </td><td>--      </td><td>--                     </td><td>11.07386         </td><td>-74.50188         </td><td>100.0                          </td><td>2018  </td><td>CC_BY_NC_4_0</td><td>--            </td></tr>\n",
       "<tr><td><i style='opacity: 0.6'>224,594,626</i></td><td>Animalia </td><td>Arthropoda  </td><td>Copepoda     </td><td>Calanoida   </td><td>Temoridae      </td><td>--      </td><td>--                     </td><td>11.588092        </td><td>-72.958618        </td><td>100.0                          </td><td>2018  </td><td>CC_BY_NC_4_0</td><td>--            </td></tr>\n",
       "<tr><td><i style='opacity: 0.6'>224,594,627</i></td><td>Animalia </td><td>Arthropoda  </td><td>Copepoda     </td><td>Calanoida   </td><td>Temoridae      </td><td>--      </td><td>--                     </td><td>11.926489        </td><td>-72.536507        </td><td>100.0                          </td><td>2018  </td><td>CC_BY_NC_4_0</td><td>--            </td></tr>\n",
       "</tbody>\n",
       "</table>"
      ],
      "text/plain": [
       "#            kingdom    phylum        class          order         family           genus     species                  decimalLatitude    decimalLongitude    coordinateUncertaintyInMeters    year    license       rightsHolder\n",
       "0            Plantae    Tracheophyta  Magnoliopsida  Malpighiales  Violaceae        Viola     Viola canina             55.547302          -2.905738           70.7                             1983    CC_BY_NC_4_0  BSBI\n",
       "1            Plantae    Tracheophyta  Magnoliopsida  Saxifragales  Grossulariaceae  Ribes     Ribes spicatum           57.185014          -3.828959           70.7                             1996    CC_BY_NC_4_0  BSBI\n",
       "2            Plantae    Tracheophyta  Magnoliopsida  Brassicales   Brassicaceae     Erysimum  Erysimum cheiranthoides  57.21037           -3.815311           70.7                             1998    CC_BY_NC_4_0  BSBI\n",
       "3            Plantae    Tracheophyta  Liliopsida     Poales        Poaceae          Festuca   Festuca rubra            55.803088          -4.207193           70.7                             1987    CC_BY_NC_4_0  BSBI\n",
       "4            Plantae    Tracheophyta  Liliopsida     Poales        Juncaceae        Juncus    Juncus articulatus       57.185691          -6.249129           70.7                             1989    CC_BY_NC_4_0  BSBI\n",
       "...          ...        ...           ...            ...           ...              ...       ...                      ...                ...                 ...                              ...     ...           ...\n",
       "224,594,623  Animalia   Arthropoda    Copepoda       Calanoida     Temoridae        --        --                       11.325149          -73.339776          100.0                            2018    CC_BY_NC_4_0  --\n",
       "224,594,624  Animalia   Arthropoda    Copepoda       Calanoida     Temoridae        --        --                       11.03198           -74.33529           100.0                            2018    CC_BY_NC_4_0  --\n",
       "224,594,625  Animalia   Arthropoda    Copepoda       Calanoida     Centropagidae    --        --                       11.07386           -74.50188           100.0                            2018    CC_BY_NC_4_0  --\n",
       "224,594,626  Animalia   Arthropoda    Copepoda       Calanoida     Temoridae        --        --                       11.588092          -72.958618          100.0                            2018    CC_BY_NC_4_0  --\n",
       "224,594,627  Animalia   Arthropoda    Copepoda       Calanoida     Temoridae        --        --                       11.926489          -72.536507          100.0                            2018    CC_BY_NC_4_0  --"
      ]
     },
     "execution_count": 3,
     "metadata": {},
     "output_type": "execute_result"
    }
   ],
   "source": [
    "df"
   ]
  },
  {
   "cell_type": "code",
   "execution_count": null,
   "metadata": {},
   "outputs": [],
   "source": [
    "# convert column coordinateUncertaintyInMeters to float\n",
    "df[\"coordinateUncertaintyInMeters\"] = df[\"coordinateUncertaintyInMeters\"].astype(\n",
    "    \"float64\"\n",
    ")\n"
   ]
  },
  {
   "cell_type": "code",
   "execution_count": null,
   "metadata": {},
   "outputs": [],
   "source": [
    "df[\"year\"] = df[\"year\"].astype(\"float64\")"
   ]
  },
  {
   "cell_type": "code",
   "execution_count": null,
   "metadata": {},
   "outputs": [],
   "source": [
    "# find the highest number in the coordinateUncertaintyInMeters column using vaex.max and store the result in a new variable\n",
    "max_uncertainty_in_meters = df[\"coordinateUncertaintyInMeters\"].max()\n"
   ]
  },
  {
   "cell_type": "code",
   "execution_count": null,
   "metadata": {},
   "outputs": [],
   "source": [
    "min_year = df[\"year\"].min()\n"
   ]
  },
  {
   "cell_type": "code",
   "execution_count": null,
   "metadata": {},
   "outputs": [],
   "source": [
    "# create a new variable that only contains the columns kingdom, phylum, class, order, family, genus, species, decimalLatitude, decimalLongitude, license, and rightsHolder\n",
    "df_essential = df[\n",
    "    [\n",
    "        \"kingdom\",\n",
    "        \"phylum\",\n",
    "        \"class\",\n",
    "        \"order\",\n",
    "        \"family\",\n",
    "        \"genus\",\n",
    "        \"species\",\n",
    "        \"decimalLatitude\",\n",
    "        \"decimalLongitude\",\n",
    "        \"license\",\n",
    "        \"rightsHolder\",\n",
    "    ]\n",
    "]\n",
    "\n",
    "df_essential\n"
   ]
  },
  {
   "cell_type": "code",
   "execution_count": 3,
   "metadata": {},
   "outputs": [],
   "source": [
    "# read df_essential into a parquet file where user can input the file path\n",
    "df_essential_path = input(\"Enter the file path: \")\n",
    "df_essential.export_parquet(df_essential_path)"
   ]
  }
 ],
 "metadata": {
  "kernelspec": {
   "display_name": "eco",
   "language": "python",
   "name": "python3"
  },
  "language_info": {
   "codemirror_mode": {
    "name": "ipython",
    "version": 3
   },
   "file_extension": ".py",
   "mimetype": "text/x-python",
   "name": "python",
   "nbconvert_exporter": "python",
   "pygments_lexer": "ipython3",
   "version": "3.9.7"
  },
  "orig_nbformat": 4
 },
 "nbformat": 4,
 "nbformat_minor": 2
}
