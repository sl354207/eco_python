{
 "cells": [
  {
   "cell_type": "code",
   "execution_count": null,
   "metadata": {},
   "outputs": [],
   "source": [
    "import pandas as pd\n",
    "import vaex\n",
    "\n",
    "pd.set_option(\"display.max_columns\", None)\n",
    "# pd.set_option('display.max_rows', 100)\n",
    "# pd.set_option('display.max_seq_items', 100)\n",
    "\n",
    "# 400 meter coordinate accuracy\n",
    "# 1923 earliest year\n"
   ]
  },
  {
   "cell_type": "code",
   "execution_count": null,
   "metadata": {},
   "outputs": [],
   "source": [
    "# ask user to enter the file path and store the response in a variable\n",
    "file_input_path = input(\"Enter the file path: \")\n"
   ]
  },
  {
   "cell_type": "code",
   "execution_count": null,
   "metadata": {},
   "outputs": [],
   "source": [
    "# read the file using vaex.from_csv and use tab as separator, only load the columns you want and set the data types, then convert to hdf5 file.\n",
    "\n",
    "# use a smaller dataset to check which columns are needed\n",
    "\n",
    "# may need to play with dtypes to avoid errors(had to change from float64 to object on some columns)\n",
    "\n",
    "df = vaex.from_csv(\n",
    "    file_input_path,\n",
    "    sep=\"\\t\",\n",
    "    usecols=[\n",
    "        \"kingdom\",\n",
    "        \"phylum\",\n",
    "        \"class\",\n",
    "        \"order\",\n",
    "        \"family\",\n",
    "        \"genus\",\n",
    "        \"species\",\n",
    "        \"decimalLatitude\",\n",
    "        \"decimalLongitude\",\n",
    "        \"license\",\n",
    "        \"rightsHolder\",\n",
    "        \"coordinateUncertaintyInMeters\",\n",
    "        \"year\",\n",
    "    ],\n",
    "    dtype={\n",
    "        \"kingdom\": \"category\",\n",
    "        \"phylum\": \"category\",\n",
    "        \"class\": \"category\",\n",
    "        \"order\": \"category\",\n",
    "        \"family\": \"category\",\n",
    "        \"genus\": \"category\",\n",
    "        \"species\": \"category\",\n",
    "        \"decimalLatitude\": \"object\",\n",
    "        \"decimalLongitude\": \"object\",\n",
    "        \"license\": \"category\",\n",
    "        \"rightsHolder\": \"object\",\n",
    "        \"coordinateUncertaintyInMeters\": \"object\",\n",
    "        \"year\": \"object\",\n",
    "    },\n",
    "    convert=True,\n",
    "    chunk_size=5_000_000,\n",
    ")\n"
   ]
  },
  {
   "cell_type": "code",
   "execution_count": null,
   "metadata": {},
   "outputs": [],
   "source": [
    "df\n"
   ]
  },
  {
   "cell_type": "code",
   "execution_count": null,
   "metadata": {},
   "outputs": [],
   "source": [
    "# read df_essential into a parquet file where user can input the file path\n",
    "df_path = input(\"Enter the file path: \")\n",
    "df.export_parquet(df_path)"
   ]
  }
 ],
 "metadata": {
  "language_info": {
   "name": "python"
  },
  "orig_nbformat": 4
 },
 "nbformat": 4,
 "nbformat_minor": 2
}
