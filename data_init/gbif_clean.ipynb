{
 "cells": [
  {
   "cell_type": "code",
   "execution_count": 1,
   "metadata": {},
   "outputs": [],
   "source": [
    "import pandas as pd\n",
    "import numpy as np\n",
    "import vaex\n",
    "\n",
    "pd.set_option(\"display.max_columns\", None)\n",
    "# pd.set_option('display.max_rows', 100)\n",
    "# pd.set_option('display.max_seq_items', 100)"
   ]
  },
  {
   "cell_type": "code",
   "execution_count": 2,
   "metadata": {},
   "outputs": [],
   "source": [
    "df_essential_path = input(\"Enter the file path: \")\n",
    "\n",
    "df_essential = vaex.open(df_essential_path)\n"
   ]
  },
  {
   "cell_type": "code",
   "execution_count": null,
   "metadata": {},
   "outputs": [],
   "source": [
    "df_essential\n"
   ]
  },
  {
   "cell_type": "code",
   "execution_count": null,
   "metadata": {},
   "outputs": [],
   "source": [
    "# count the number of na values in column species\n",
    "species_na = df_essential[\"species\"].isna().sum()\n",
    "\n",
    "latitude_na = df_essential[\"decimalLatitude\"].isna().sum()\n",
    "\n",
    "longitude_na = df_essential[\"decimalLongitude\"].isna().sum()"
   ]
  },
  {
   "cell_type": "code",
   "execution_count": 3,
   "metadata": {},
   "outputs": [],
   "source": [
    "# remove rows in df_essential where species is NA\n",
    "df_essential = df_essential.dropna(\n",
    "    column_names=[\"species\", \"decimalLatitude\", \"decimalLongitude\"]\n",
    ")\n"
   ]
  },
  {
   "cell_type": "code",
   "execution_count": null,
   "metadata": {},
   "outputs": [],
   "source": [
    "df_essential\n"
   ]
  },
  {
   "cell_type": "code",
   "execution_count": null,
   "metadata": {},
   "outputs": [],
   "source": [
    "# recount the number of na values in column species\n",
    "species_na = df_essential[\"species\"].isna().sum()\n",
    "\n",
    "latitude_na = df_essential[\"decimalLatitude\"].isna().sum()\n",
    "\n",
    "longitude_na = df_essential[\"decimalLongitude\"].isna().sum()"
   ]
  },
  {
   "cell_type": "code",
   "execution_count": 9,
   "metadata": {},
   "outputs": [],
   "source": [
    "# find unique species names in df_essential\n",
    "species_unique = df_essential[\"species\"].unique()"
   ]
  },
  {
   "cell_type": "code",
   "execution_count": null,
   "metadata": {},
   "outputs": [],
   "source": []
  },
  {
   "cell_type": "code",
   "execution_count": null,
   "metadata": {},
   "outputs": [],
   "source": [
    "# change lat from string to float\n",
    "df_essential[\"decimalLatitude\"] = df_essential[\"decimalLatitude\"].astype(\n",
    "    \"float64\")\n"
   ]
  },
  {
   "cell_type": "code",
   "execution_count": null,
   "metadata": {},
   "outputs": [],
   "source": [
    "# used to check decimal latitudes are all numbers\n",
    "max_lat = df_essential[\"decimalLatitude\"].max()\n",
    "\n",
    "min_lat = df_essential[\"decimalLatitude\"].min()"
   ]
  },
  {
   "cell_type": "code",
   "execution_count": null,
   "metadata": {},
   "outputs": [],
   "source": [
    "# change long from string to float\n",
    "df_essential[\"decimalLongitude\"] = df_essential[\"decimalLongitude\"].astype(\n",
    "    \"float64\")\n"
   ]
  },
  {
   "cell_type": "code",
   "execution_count": null,
   "metadata": {},
   "outputs": [],
   "source": [
    "# used to check decimal longitudes are all numbers\n",
    "max_long = df_essential[\"decimalLongitude\"].max()\n",
    "\n",
    "min_long = df_essential[\"decimalLongitude\"].min()"
   ]
  },
  {
   "cell_type": "code",
   "execution_count": 10,
   "metadata": {},
   "outputs": [],
   "source": [
    "# find number of words in the species column of df_essential. CRASHES LARGE DATASETS\n",
    "# species_words = df_essential[\"species\"].to_numpy()\n",
    "\n",
    "\n",
    "# species_values = np.array([len(word.split()) for word in species_words])\n",
    "\n",
    "# find the max value in species_values\n",
    "# max_value = np.max(species_values)\n",
    "\n",
    "# or do on species_unique\n",
    "species_values = np.array([len(word.split()) for word in species_unique])\n",
    "\n",
    "# find the max value in species_values\n",
    "max_value = np.max(species_values)"
   ]
  },
  {
   "cell_type": "code",
   "execution_count": 7,
   "metadata": {},
   "outputs": [],
   "source": [
    "# if value at index i in species_values is greater than 2, add the value at the same index in species_unique to a new list\n",
    "species_2 = []\n",
    "for i in range(len(species_values)):\n",
    "    if species_values[i] > 2:\n",
    "        species_2.append(species_unique[i])"
   ]
  },
  {
   "cell_type": "code",
   "execution_count": 8,
   "metadata": {},
   "outputs": [],
   "source": [
    "# remove values from species that are greater than 2\n",
    "\n",
    "for i in range(len(species_2)):\n",
    "    df_essential = df_essential[df_essential.species != species_2[i]]"
   ]
  },
  {
   "cell_type": "code",
   "execution_count": null,
   "metadata": {},
   "outputs": [],
   "source": [
    "# recheck\n",
    "species_unique = df_essential[\"species\"].unique()\n",
    "\n",
    "species_values = np.array([len(word.split()) for word in species_unique])\n",
    "\n",
    "\n",
    "max_value = np.max(species_values)"
   ]
  },
  {
   "cell_type": "code",
   "execution_count": null,
   "metadata": {},
   "outputs": [],
   "source": [
    "df_essential"
   ]
  },
  {
   "cell_type": "code",
   "execution_count": null,
   "metadata": {},
   "outputs": [],
   "source": [
    "# read cleaned df_essential into a parquet file where user can input the file path\n",
    "df_clean_path = input(\"Enter the file path: \")\n",
    "df_essential.export_parquet(df_clean_path)\n",
    "\n",
    "# write df_essential to parquet file using pandas to_parquet\n",
    "# df_essential.to_parquet(df_clean_path)"
   ]
  }
 ],
 "metadata": {
  "kernelspec": {
   "display_name": "eco",
   "language": "python",
   "name": "python3"
  },
  "language_info": {
   "codemirror_mode": {
    "name": "ipython",
    "version": 3
   },
   "file_extension": ".py",
   "mimetype": "text/x-python",
   "name": "python",
   "nbconvert_exporter": "python",
   "pygments_lexer": "ipython3",
   "version": "3.9.7"
  },
  "orig_nbformat": 4
 },
 "nbformat": 4,
 "nbformat_minor": 2
}
