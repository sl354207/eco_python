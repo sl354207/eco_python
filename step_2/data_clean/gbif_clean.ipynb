{
 "cells": [
  {
   "cell_type": "code",
   "execution_count": 1,
   "metadata": {},
   "outputs": [],
   "source": [
    "import pandas as pd\n",
    "import numpy as np\n",
    "import vaex\n",
    "\n",
    "pd.set_option(\"display.max_columns\", None)\n",
    "# pd.set_option('display.max_rows', 100)\n",
    "# pd.set_option('display.max_seq_items', 100)\n",
    "\n",
    "# 400 meter coordinate accuracy\n",
    "# 1923 earliest year\n"
   ]
  },
  {
   "cell_type": "code",
   "execution_count": 2,
   "metadata": {},
   "outputs": [],
   "source": [
    "# read in gbif_essential\n",
    "df_path = input(\"Enter the file path: \")\n",
    "\n",
    "df = vaex.open(df_path)"
   ]
  },
  {
   "cell_type": "code",
   "execution_count": null,
   "metadata": {},
   "outputs": [],
   "source": [
    "df"
   ]
  },
  {
   "cell_type": "code",
   "execution_count": null,
   "metadata": {},
   "outputs": [],
   "source": [
    "# count the number of na values in column species\n",
    "species_na = df[\"species\"].isna().sum()\n",
    "\n",
    "latitude_na = df[\"decimalLatitude\"].isna().sum()\n",
    "\n",
    "longitude_na = df[\"decimalLongitude\"].isna().sum()\n"
   ]
  },
  {
   "cell_type": "code",
   "execution_count": 3,
   "metadata": {},
   "outputs": [],
   "source": [
    "# remove rows in df where species is NA\n",
    "df = df.dropna(column_names=[\"species\", \"decimalLatitude\", \"decimalLongitude\"])"
   ]
  },
  {
   "cell_type": "code",
   "execution_count": null,
   "metadata": {},
   "outputs": [],
   "source": [
    "df"
   ]
  },
  {
   "cell_type": "code",
   "execution_count": null,
   "metadata": {},
   "outputs": [],
   "source": [
    "# recount the number of na values in column species\n",
    "species_na = df[\"species\"].isna().sum()\n",
    "\n",
    "latitude_na = df[\"decimalLatitude\"].isna().sum()\n",
    "\n",
    "longitude_na = df[\"decimalLongitude\"].isna().sum()\n"
   ]
  },
  {
   "cell_type": "code",
   "execution_count": 3,
   "metadata": {},
   "outputs": [],
   "source": [
    "# find unique species names in df\n",
    "species_unique = df[\"species\"].unique()\n"
   ]
  },
  {
   "cell_type": "code",
   "execution_count": null,
   "metadata": {},
   "outputs": [],
   "source": [
    "# change lat from string to float\n",
    "df[\"decimalLatitude\"] = df[\"decimalLatitude\"].astype(\"float32\")"
   ]
  },
  {
   "cell_type": "code",
   "execution_count": null,
   "metadata": {},
   "outputs": [],
   "source": [
    "# used to check decimal latitudes are all numbers\n",
    "max_lat = df[\"decimalLatitude\"].max()\n",
    "\n",
    "min_lat = df[\"decimalLatitude\"].min()\n"
   ]
  },
  {
   "cell_type": "code",
   "execution_count": null,
   "metadata": {},
   "outputs": [],
   "source": [
    "# change long from string to float\n",
    "df[\"decimalLongitude\"] = df[\"decimalLongitude\"].astype(\"float32\")"
   ]
  },
  {
   "cell_type": "code",
   "execution_count": null,
   "metadata": {},
   "outputs": [],
   "source": [
    "# used to check decimal longitudes are all numbers\n",
    "max_long = df[\"decimalLongitude\"].max()\n",
    "\n",
    "min_long = df[\"decimalLongitude\"].min()\n"
   ]
  },
  {
   "cell_type": "code",
   "execution_count": 10,
   "metadata": {},
   "outputs": [],
   "source": [
    "# find number of words in the species column of df. CRASHES LARGE DATASETS\n",
    "# species_words = df[\"species\"].to_numpy()\n",
    "\n",
    "\n",
    "# species_values = np.array([len(word.split()) for word in species_words])\n",
    "\n",
    "# find the max value in species_values\n",
    "# max_value = np.max(species_values)\n",
    "\n",
    "# or do on species_unique\n",
    "species_values = np.array([len(word.split()) for word in species_unique])\n",
    "\n",
    "# find the max value in species_values\n",
    "max_value = np.max(species_values)\n"
   ]
  },
  {
   "cell_type": "code",
   "execution_count": 7,
   "metadata": {},
   "outputs": [],
   "source": [
    "# if value at index i in species_values is greater than 2, add the value at the same index in species_unique to a new list\n",
    "species_2 = []\n",
    "for i in range(len(species_values)):\n",
    "    if species_values[i] > 2:\n",
    "        species_2.append(species_unique[i])\n"
   ]
  },
  {
   "cell_type": "code",
   "execution_count": 8,
   "metadata": {},
   "outputs": [],
   "source": [
    "# remove values from species that are greater than 2\n",
    "\n",
    "for i in range(len(species_2)):\n",
    "    df = df[df.species != species_2[i]]\n"
   ]
  },
  {
   "cell_type": "code",
   "execution_count": 3,
   "metadata": {},
   "outputs": [],
   "source": [
    "# recheck\n",
    "species_unique = df[\"species\"].unique()"
   ]
  },
  {
   "cell_type": "code",
   "execution_count": null,
   "metadata": {},
   "outputs": [],
   "source": [
    "species_values = np.array([len(word.split()) for word in species_unique])\n",
    "\n",
    "\n",
    "max_value = np.max(species_values)"
   ]
  },
  {
   "cell_type": "code",
   "execution_count": null,
   "metadata": {},
   "outputs": [],
   "source": [
    "# REMOVE VALUES FROM SPECIES WHOSE SCIENTIFIC NAME HAS A 1 CHARACTER WORD AS SECOND WORD\n",
    "\n",
    "# use regex to determine if second word in string is 1 character long\n",
    "# \\b(\\w+)\\s(\\w{1})$\n",
    "\n",
    "\n",
    "# CHECK FOR NON LETTER CHARACTERS IN SCIENTIFIC NAME AND COMMON NAME (AND REMOVE?)\n",
    "\n",
    "# [^A-Za-z\\s] (possibly exlude dash as well by adding - after s in regex)\n",
    "# also specifically check for [] and () in common names\n",
    "# [[\\[\\]()]\n",
    "\n",
    "# CHECK FOR AND REMOVE? SCIENTIFIC NAME THAT CONTAINS SP- IN IT\n",
    "# sp-"
   ]
  },
  {
   "cell_type": "code",
   "execution_count": null,
   "metadata": {},
   "outputs": [],
   "source": [
    "# check for strange x at beginning of species names and remove if necessary\n",
    "\n",
    "# df = df[\n",
    "#     ~df.species.isin([\"×Elyhordeum schaackianum\", \"×Elyleymus aleuticus\"])\n",
    "# ]\n"
   ]
  },
  {
   "cell_type": "code",
   "execution_count": null,
   "metadata": {},
   "outputs": [],
   "source": [
    "df\n"
   ]
  },
  {
   "cell_type": "code",
   "execution_count": null,
   "metadata": {},
   "outputs": [],
   "source": [
    "# read cleaned df into a parquet file where user can input the file path\n",
    "df_clean_path = input(\"Enter the file path: \")\n",
    "df.export_parquet(df_clean_path)\n",
    "\n",
    "# write df to parquet file using pandas to_parquet\n",
    "# df.to_parquet(df_clean_path)\n"
   ]
  }
 ],
 "metadata": {
  "kernelspec": {
   "display_name": "eco",
   "language": "python",
   "name": "python3"
  },
  "language_info": {
   "codemirror_mode": {
    "name": "ipython",
    "version": 3
   },
   "file_extension": ".py",
   "mimetype": "text/x-python",
   "name": "python",
   "nbconvert_exporter": "python",
   "pygments_lexer": "ipython3",
   "version": "3.9.7"
  },
  "orig_nbformat": 4
 },
 "nbformat": 4,
 "nbformat_minor": 2
}
