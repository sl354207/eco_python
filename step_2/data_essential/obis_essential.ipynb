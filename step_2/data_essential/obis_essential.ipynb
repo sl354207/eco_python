{
 "cells": [
  {
   "cell_type": "code",
   "execution_count": 1,
   "metadata": {},
   "outputs": [],
   "source": [
    "import pandas as pd\n",
    "import vaex\n",
    "\n",
    "\n",
    "pd.set_option(\"display.max_columns\", None)\n",
    "pd.set_option(\"display.max_rows\", None)\n",
    "# pd.set_option('display.max_columns', None)\n",
    "# pd.set_option('display.width', None)\n",
    "# pd.set_option('display.max_colwidth', None)\n",
    "\n",
    "# 400 meter coordinate accuracy\n",
    "# 1923 earliest year"
   ]
  },
  {
   "cell_type": "code",
   "execution_count": null,
   "metadata": {},
   "outputs": [],
   "source": [
    "# DOWNLOAD AS CSV NEXT TIME AND LOAD AND SAVE AS CHUNKS LIKE GBIF\n",
    "df_path = input(\"Enter the file path: \")\n",
    "\n",
    "df = vaex.open(df_path)"
   ]
  },
  {
   "cell_type": "code",
   "execution_count": null,
   "metadata": {},
   "outputs": [],
   "source": [
    "df.describe()"
   ]
  },
  {
   "cell_type": "code",
   "execution_count": null,
   "metadata": {},
   "outputs": [],
   "source": [
    "df_essential = df[\n",
    "    [\n",
    "        \"kingdom\",\n",
    "        \"phylum\",\n",
    "        \"class\",\n",
    "        \"order\",\n",
    "        \"family\",\n",
    "        \"genus\",\n",
    "        \"species\",\n",
    "        \"decimalLatitude\",\n",
    "        \"decimalLongitude\",\n",
    "        \"license\",\n",
    "        \"rightsHolder\",\n",
    "        \"geodeticDatum\",\n",
    "        \"date_year\",\n",
    "        \"basisOfRecord\",\n",
    "        \"flags\",\n",
    "        \"coordinateUncertaintyInMeters\",\n",
    "    ]\n",
    "]\n",
    "\n",
    "# df_essential"
   ]
  },
  {
   "cell_type": "code",
   "execution_count": null,
   "metadata": {},
   "outputs": [],
   "source": [
    "# df_essential_path = input(\"Enter the file path: \")\n",
    "\n",
    "# df_essential.export_parquet(df_essential_path)\n",
    "df.export_many(\n",
    "    \"/media/muskrat/T7 Shield/eco_data/v4/occurences/essential/obis/park/chunk_{i}.parquet\",\n",
    "    chunk_size=1_000_000,\n",
    ")"
   ]
  }
 ],
 "metadata": {
  "kernelspec": {
   "display_name": "eco",
   "language": "python",
   "name": "python3"
  },
  "language_info": {
   "codemirror_mode": {
    "name": "ipython",
    "version": 3
   },
   "file_extension": ".py",
   "mimetype": "text/x-python",
   "name": "python",
   "nbconvert_exporter": "python",
   "pygments_lexer": "ipython3",
   "version": "3.9.7"
  },
  "orig_nbformat": 4
 },
 "nbformat": 4,
 "nbformat_minor": 2
}
