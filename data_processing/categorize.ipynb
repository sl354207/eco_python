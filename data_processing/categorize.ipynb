{
 "cells": [
  {
   "cell_type": "code",
   "execution_count": 1,
   "metadata": {},
   "outputs": [],
   "source": [
    "import pandas as pd\n",
    "import numpy as np\n",
    "\n",
    "pd.set_option(\"display.max_columns\", None)\n",
    "# pd.set_option('display.max_rows', 100)\n",
    "# pd.set_option('display.max_seq_items', 100)\n",
    "\n",
    "# 400 meter coordinate accuracy\n",
    "# 1923 earliest year"
   ]
  },
  {
   "cell_type": "code",
   "execution_count": 2,
   "metadata": {},
   "outputs": [],
   "source": [
    "# read in cleaned andmerged data\n",
    "df_path = input(\"Enter the file path: \")\n",
    "\n",
    "df = pd.read_parquet(df_path)"
   ]
  },
  {
   "cell_type": "code",
   "execution_count": null,
   "metadata": {},
   "outputs": [],
   "source": [
    "df"
   ]
  },
  {
   "cell_type": "code",
   "execution_count": 6,
   "metadata": {},
   "outputs": [],
   "source": [
    "kingdoms = df[\"kingdom\"].unique()\n"
   ]
  },
  {
   "cell_type": "code",
   "execution_count": 3,
   "metadata": {},
   "outputs": [],
   "source": [
    "fungi = df[(df[\"kingdom\"] == \"Fungi\")]\n",
    "\n",
    "chromista = df[(df[\"kingdom\"] == \"Chromista\")]\n",
    "\n",
    "bacteria = df[(df[\"kingdom\"] == \"Bacteria\")]\n",
    "\n",
    "protozoa = df[(df[\"kingdom\"] == \"Protozoa\")]\n",
    "\n",
    "virus = df[(df[\"kingdom\"] == \"Viruses\")]\n",
    "\n",
    "animal = df[(df[\"kingdom\"] == \"Animalia\")]\n",
    "\n",
    "plant = df[(df[\"kingdom\"] == \"Plantae\")]\n"
   ]
  },
  {
   "cell_type": "code",
   "execution_count": 4,
   "metadata": {},
   "outputs": [],
   "source": [
    "na_kingdom = df[(df[\"kingdom\"].isna())]\n",
    "na_phylum = df[(df[\"phylum\"].isna())]\n",
    "na_class = df[(df[\"class\"].isna())]\n",
    "na_order = df[(df[\"order\"].isna())]\n",
    "na_family = df[(df[\"family\"].isna())]\n",
    "na_genus = df[(df[\"genus\"].isna())]\n"
   ]
  },
  {
   "cell_type": "code",
   "execution_count": 5,
   "metadata": {},
   "outputs": [],
   "source": [
    "species_type = df[(df[\"species_type\"].notna())]\n",
    "\n",
    "na_plant = plant[(plant[\"species_type\"].isna())]\n",
    "\n",
    "na_animal = animal[(animal[\"species_type\"].isna())]\n",
    "\n",
    "na_fungi = fungi[(fungi[\"species_type\"].isna())]\n",
    "\n",
    "na_chromista = chromista[(chromista[\"species_type\"].isna())]\n",
    "\n",
    "na_bacteria = bacteria[(bacteria[\"species_type\"].isna())]\n",
    "\n",
    "na_protozoa = protozoa[(protozoa[\"species_type\"].isna())]\n",
    "\n",
    "na_virus = virus[(virus[\"species_type\"].isna())]\n",
    "\n",
    "na_species_type = df[(df[\"species_type\"].isna())]\n"
   ]
  },
  {
   "cell_type": "code",
   "execution_count": 6,
   "metadata": {},
   "outputs": [],
   "source": [
    "# make genus column equal first word in scientific_name column\n",
    "\n",
    "df[\"genus\"] = df[\"scientific_name\"].str.split().str[0]"
   ]
  },
  {
   "cell_type": "code",
   "execution_count": 7,
   "metadata": {},
   "outputs": [],
   "source": [
    "na_genus = df[(df[\"genus\"].isna())]"
   ]
  },
  {
   "cell_type": "code",
   "execution_count": 8,
   "metadata": {},
   "outputs": [],
   "source": [
    "species_type_unique = df[\"species_type\"].unique()"
   ]
  },
  {
   "cell_type": "code",
   "execution_count": 14,
   "metadata": {},
   "outputs": [],
   "source": [
    "# if class is Amphibia, Reptilia, Aves, or Mammalia set kingdom to Animalia\n",
    "\n",
    "df.loc[df[\"class\"] == \"Amphibia\", \"kingdom\"] = \"Animalia\"\n",
    "\n",
    "df.loc[df[\"class\"] == \"Reptilia\", \"kingdom\"] = \"Animalia\"\n",
    "\n",
    "df.loc[df[\"class\"] == \"Aves\", \"kingdom\"] = \"Animalia\"\n",
    "\n",
    "df.loc[df[\"class\"] == \"Mammalia\", \"kingdom\"] = \"Animalia\"\n"
   ]
  },
  {
   "cell_type": "code",
   "execution_count": null,
   "metadata": {},
   "outputs": [],
   "source": []
  },
  {
   "cell_type": "code",
   "execution_count": null,
   "metadata": {},
   "outputs": [],
   "source": [
    "# if species_type is tree_shrub, wildflower, graminoid, other_plants, vine, water_master, or uncategorized_plants, set kingdom to Plantae\n",
    "\n",
    "df.loc[df[\"species_type\"] == \"tree_shrub\", \"kingdom\"] = \"Plantae\"\n",
    "\n",
    "df.loc[df[\"species_type\"] == \"wildflower\", \"kingdom\"] = \"Plantae\"\n",
    "\n",
    "df.loc[df[\"species_type\"] == \"graminoid\", \"kingdom\"] = \"Plantae\"\n",
    "\n",
    "df.loc[df[\"species_type\"] == \"other_plants\", \"kingdom\"] = \"Plantae\"\n",
    "\n",
    "df.loc[df[\"species_type\"] == \"vine\", \"kingdom\"] = \"Plantae\"\n",
    "\n",
    "df.loc[df[\"species_type\"] == \"water_master\", \"kingdom\"] = \"Plantae\"\n",
    "\n",
    "df.loc[df[\"species_type\"] == \"uncategorized_plants\", \"kingdom\"] = \"Plantae\"\n"
   ]
  },
  {
   "cell_type": "code",
   "execution_count": 15,
   "metadata": {},
   "outputs": [],
   "source": [
    "na_kingdom = df[(df[\"kingdom\"].isna())]"
   ]
  },
  {
   "cell_type": "code",
   "execution_count": null,
   "metadata": {},
   "outputs": [],
   "source": [
    "# if species_type is fish, worm, bird, reptile, amphibian, or other_animals, set kingdom to Animalia"
   ]
  }
 ],
 "metadata": {
  "kernelspec": {
   "display_name": "eco",
   "language": "python",
   "name": "python3"
  },
  "language_info": {
   "codemirror_mode": {
    "name": "ipython",
    "version": 3
   },
   "file_extension": ".py",
   "mimetype": "text/x-python",
   "name": "python",
   "nbconvert_exporter": "python",
   "pygments_lexer": "ipython3",
   "version": "3.9.7"
  },
  "orig_nbformat": 4
 },
 "nbformat": 4,
 "nbformat_minor": 2
}
