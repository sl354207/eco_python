{
 "cells": [
  {
   "cell_type": "code",
   "execution_count": null,
   "metadata": {},
   "outputs": [],
   "source": [
    "import pandas as pd\n",
    "import numpy as np\n",
    "\n",
    "pd.set_option(\"display.max_columns\", None)\n",
    "# pd.set_option('display.max_rows', 100)\n",
    "# pd.set_option('display.max_seq_items', 100)\n",
    "\n",
    "# 400 meter coordinate accuracy\n",
    "# 1923 earliest year\n"
   ]
  },
  {
   "cell_type": "code",
   "execution_count": null,
   "metadata": {},
   "outputs": [],
   "source": [
    "# read in cleaned andmerged data\n",
    "df_path = input(\"Enter the file path: \")\n",
    "\n",
    "df = pd.read_parquet(df_path)\n"
   ]
  },
  {
   "cell_type": "code",
   "execution_count": null,
   "metadata": {},
   "outputs": [],
   "source": [
    "df\n"
   ]
  },
  {
   "cell_type": "code",
   "execution_count": null,
   "metadata": {},
   "outputs": [],
   "source": [
    "kingdoms = df[\"kingdom\"].unique()"
   ]
  },
  {
   "cell_type": "code",
   "execution_count": null,
   "metadata": {},
   "outputs": [],
   "source": [
    "fungi = df[(df[\"kingdom\"] == \"Fungi\")]\n",
    "\n",
    "chromista = df[(df[\"kingdom\"] == \"Chromista\")]\n",
    "\n",
    "bacteria = df[(df[\"kingdom\"] == \"Bacteria\")]\n",
    "\n",
    "protozoa = df[(df[\"kingdom\"] == \"Protozoa\")]\n",
    "\n",
    "virus = df[(df[\"kingdom\"] == \"Viruses\")]\n",
    "\n",
    "animal = df[(df[\"kingdom\"] == \"Animalia\")]\n",
    "\n",
    "plant = df[(df[\"kingdom\"] == \"Plantae\")]"
   ]
  },
  {
   "cell_type": "code",
   "execution_count": null,
   "metadata": {},
   "outputs": [],
   "source": [
    "na_kingdom = df[(df[\"kingdom\"].isna())]\n",
    "na_phylum = df[(df[\"phylum\"].isna())]\n",
    "na_class = df[(df[\"class\"].isna())]\n",
    "na_order = df[(df[\"order\"].isna())]\n",
    "na_family = df[(df[\"family\"].isna())]\n",
    "na_genus = df[(df[\"genus\"].isna())]"
   ]
  },
  {
   "cell_type": "code",
   "execution_count": null,
   "metadata": {},
   "outputs": [],
   "source": [
    "species_type = df[(df[\"species_type\"].notna())]\n",
    "\n",
    "na_plant = plant[(plant[\"species_type\"].isna())]\n",
    "\n",
    "na_animal = animal[(animal[\"species_type\"].isna())]\n",
    "\n",
    "na_fungi = fungi[(fungi[\"species_type\"].isna())]\n",
    "\n",
    "na_chromista = chromista[(chromista[\"species_type\"].isna())]\n",
    "\n",
    "na_bacteria = bacteria[(bacteria[\"species_type\"].isna())]\n",
    "\n",
    "na_protozoa = protozoa[(protozoa[\"species_type\"].isna())]\n",
    "\n",
    "na_virus = virus[(virus[\"species_type\"].isna())]\n",
    "\n",
    "na_species_type = df[(df[\"species_type\"].isna())]"
   ]
  },
  {
   "cell_type": "code",
   "execution_count": null,
   "metadata": {},
   "outputs": [],
   "source": [
    "species_unique = df[\"scientific_name\"].unique()\n"
   ]
  },
  {
   "cell_type": "code",
   "execution_count": null,
   "metadata": {},
   "outputs": [],
   "source": [
    "# check for strange x at beginning of species names and remove if necessary\n",
    "\n",
    "df = df[~df.scientific_name.isin([\"spec.\"])]"
   ]
  },
  {
   "cell_type": "code",
   "execution_count": null,
   "metadata": {},
   "outputs": [],
   "source": [
    "species_values = np.array([len(word.split()) for word in species_unique])\n",
    "\n",
    "max_value = np.max(species_values)\n",
    "min_value = np.min(species_values)\n"
   ]
  },
  {
   "cell_type": "code",
   "execution_count": null,
   "metadata": {},
   "outputs": [],
   "source": [
    "species_2 = []\n",
    "for i in range(len(species_values)):\n",
    "    if species_values[i] < 2:\n",
    "        species_2.append(species_unique[i])\n"
   ]
  },
  {
   "cell_type": "code",
   "execution_count": null,
   "metadata": {},
   "outputs": [],
   "source": [
    "# remove the rows in df that contain the values in species_2\n",
    "df = df[~df.scientific_name.isin(species_2)]"
   ]
  },
  {
   "cell_type": "code",
   "execution_count": null,
   "metadata": {},
   "outputs": [],
   "source": [
    "# find values in scientific_name column that contain special characters and remove them\n",
    "\n",
    "df = df[\n",
    "    ~df.scientific_name.str.contains(\n",
    "        \"[^a-zA-Z-\\s]\",\n",
    "    )\n",
    "]\n"
   ]
  },
  {
   "cell_type": "code",
   "execution_count": null,
   "metadata": {},
   "outputs": [],
   "source": [
    "# make genus column equal first word in scientific_name column\n",
    "\n",
    "df[\"genus\"] = df[\"scientific_name\"].str.split().str[0]\n"
   ]
  },
  {
   "cell_type": "code",
   "execution_count": null,
   "metadata": {},
   "outputs": [],
   "source": [
    "na_genus = df[(df[\"genus\"].isna())]\n"
   ]
  },
  {
   "cell_type": "code",
   "execution_count": null,
   "metadata": {},
   "outputs": [],
   "source": [
    "phylum_unique = df[\"phylum\"].unique()\n"
   ]
  },
  {
   "cell_type": "code",
   "execution_count": null,
   "metadata": {},
   "outputs": [],
   "source": [
    "df = df[\n",
    "    ~df.phylum.isin(\n",
    "        [\n",
    "            \"Firmicutes_A\",\n",
    "            \"Firmicutes_B\",\n",
    "            \"Desulfobacterota_I\",\n",
    "            \"Nitrospirota_A\",\n",
    "            \"Bacteria incertae sedis\",\n",
    "        ]\n",
    "    )\n",
    "]"
   ]
  },
  {
   "cell_type": "code",
   "execution_count": null,
   "metadata": {},
   "outputs": [],
   "source": [
    "class_unique = df[\"class\"].unique()\n"
   ]
  },
  {
   "cell_type": "code",
   "execution_count": null,
   "metadata": {},
   "outputs": [],
   "source": [
    "df = df[\n",
    "    ~df[\"class\"].isin(\n",
    "        [\n",
    "            \"Cryptophyta incertae sedis\",\n",
    "            \"Haptophyta incertae sedis\",\n",
    "            \"Mortierellomycotina incertae sedis\",\n",
    "            \"Nematoda incertae sedis\",\n",
    "            \"Khakista incertae sedis\",\n",
    "            \"Chlorophyta incertae sedis\",\n",
    "            \"Dinoflagellata incertae sedis\",\n",
    "            \"Rhodophyta incertae sedis\",\n",
    "            \"Pezizomycotina incertae sedis\",\n",
    "        ]\n",
    "    )\n",
    "]"
   ]
  },
  {
   "cell_type": "code",
   "execution_count": null,
   "metadata": {},
   "outputs": [],
   "source": [
    "order_unique = df[\"order\"].unique()\n"
   ]
  },
  {
   "cell_type": "code",
   "execution_count": null,
   "metadata": {},
   "outputs": [],
   "source": [
    "# drop na values from order_unique nd array\n",
    "\n",
    "order_unique = np.array([word for word in order_unique if word != None])\n"
   ]
  },
  {
   "cell_type": "code",
   "execution_count": null,
   "metadata": {},
   "outputs": [],
   "source": [
    "order_values = np.array([len(word.split()) for word in order_unique])\n",
    "\n",
    "max_value = np.max(order_values)\n",
    "min_value = np.min(order_values)\n"
   ]
  },
  {
   "cell_type": "code",
   "execution_count": null,
   "metadata": {},
   "outputs": [],
   "source": [
    "order_2 = []\n",
    "for i in range(len(order_values)):\n",
    "    if order_values[i] > 1:\n",
    "        order_2.append(order_unique[i])\n"
   ]
  },
  {
   "cell_type": "code",
   "execution_count": null,
   "metadata": {},
   "outputs": [],
   "source": [
    "df = df[~df.order.isin(order_2)]\n"
   ]
  },
  {
   "cell_type": "code",
   "execution_count": null,
   "metadata": {},
   "outputs": [],
   "source": [
    "family_unique = df[\"family\"].unique()\n",
    "\n",
    "family_unique = np.array([word for word in family_unique if word != None])\n"
   ]
  },
  {
   "cell_type": "code",
   "execution_count": null,
   "metadata": {},
   "outputs": [],
   "source": [
    "family_values = np.array([len(word.split()) for word in family_unique])\n",
    "\n",
    "max_value = np.max(family_values)\n",
    "min_value = np.min(family_values)\n"
   ]
  },
  {
   "cell_type": "code",
   "execution_count": null,
   "metadata": {},
   "outputs": [],
   "source": [
    "family_2 = []\n",
    "for i in range(len(family_values)):\n",
    "    if family_values[i] > 1:\n",
    "        family_2.append(family_unique[i])\n"
   ]
  },
  {
   "cell_type": "code",
   "execution_count": null,
   "metadata": {},
   "outputs": [],
   "source": [
    "df = df[~df.family.isin(family_2)]\n"
   ]
  },
  {
   "cell_type": "code",
   "execution_count": null,
   "metadata": {},
   "outputs": [],
   "source": [
    "genus_unique = df[\"genus\"].unique()\n",
    "\n",
    "genus_unique = np.array([word for word in genus_unique if word != None])\n"
   ]
  },
  {
   "cell_type": "code",
   "execution_count": null,
   "metadata": {},
   "outputs": [],
   "source": [
    "genus_values = np.array([len(word.split()) for word in genus_unique])\n",
    "\n",
    "max_value = np.max(genus_values)\n",
    "min_value = np.min(genus_values)\n"
   ]
  },
  {
   "cell_type": "code",
   "execution_count": null,
   "metadata": {},
   "outputs": [],
   "source": [
    "del (\n",
    "    order_2,\n",
    "    family_2,\n",
    "    max_value,\n",
    "    min_value,\n",
    "    family_values,\n",
    "    order_values,\n",
    "    genus_values,\n",
    "    i,\n",
    "    species_2,\n",
    "    species_values,\n",
    ")"
   ]
  },
  {
   "cell_type": "code",
   "execution_count": null,
   "metadata": {},
   "outputs": [],
   "source": [
    "phylum_class_unique = na_phylum[\"class\"].unique()"
   ]
  },
  {
   "cell_type": "code",
   "execution_count": null,
   "metadata": {},
   "outputs": [],
   "source": [
    "# if class is Aves, Reptilia, Aves, or Mammalia set phylum to Chordata\n",
    "\n",
    "df.loc[df[\"class\"] == \"Aves\", \"phylum\"] = \"Chordata\"\n",
    "\n",
    "df.loc[df[\"class\"] == \"Mammalia\", \"phylum\"] = \"Chordata\"\n",
    "\n",
    "df.loc[df[\"class\"] == \"Reptilia\", \"phylum\"] = \"Chordata\"\n",
    "\n",
    "df.loc[df[\"class\"] == \"Amphibia\", \"phylum\"] = \"Chordata\"\n"
   ]
  },
  {
   "cell_type": "code",
   "execution_count": null,
   "metadata": {},
   "outputs": [],
   "source": [
    "# find values in genus values that contain special characters and remove them\n",
    "\n",
    "df = df[~df.genus.str.contains(\"[^a-zA-Z-\\s]\")]\n"
   ]
  },
  {
   "cell_type": "code",
   "execution_count": null,
   "metadata": {},
   "outputs": [],
   "source": [
    "df = df[\n",
    "    ~df.kingdom.str.contains(\n",
    "        \"[^a-zA-Z-\\s]\",\n",
    "    )\n",
    "]\n"
   ]
  },
  {
   "cell_type": "code",
   "execution_count": null,
   "metadata": {},
   "outputs": [],
   "source": [
    "df = df[\n",
    "    ~df.phylum.str.contains(\n",
    "        \"[^a-zA-Z-\\s]\",\n",
    "    )\n",
    "]\n"
   ]
  },
  {
   "cell_type": "code",
   "execution_count": null,
   "metadata": {},
   "outputs": [],
   "source": [
    "df = df[\n",
    "    ~df[\"class\"].str.contains(\n",
    "        \"[^a-zA-Z-\\s]\",\n",
    "    )\n",
    "]\n"
   ]
  },
  {
   "cell_type": "code",
   "execution_count": null,
   "metadata": {},
   "outputs": [],
   "source": [
    "df = df[\n",
    "    ~df.order.str.contains(\n",
    "        \"[^a-zA-Z-\\s]\",\n",
    "    )\n",
    "]\n"
   ]
  },
  {
   "cell_type": "code",
   "execution_count": null,
   "metadata": {},
   "outputs": [],
   "source": [
    "df = df[\n",
    "    ~df.family.str.contains(\n",
    "        \"[^a-zA-Z-\\s]\",\n",
    "    )\n",
    "]\n"
   ]
  },
  {
   "cell_type": "code",
   "execution_count": null,
   "metadata": {},
   "outputs": [],
   "source": [
    "df = df[\n",
    "    ~df.genus.str.contains(\n",
    "        \"[^a-zA-Z-\\s]\",\n",
    "    )\n",
    "]\n"
   ]
  },
  {
   "cell_type": "code",
   "execution_count": null,
   "metadata": {},
   "outputs": [],
   "source": [
    "# if class is Amphibia, Reptilia, Aves, or Mammalia set kingdom to Animalia\n",
    "\n",
    "df.loc[df[\"class\"] == \"Amphibia\", \"kingdom\"] = \"Animalia\"\n",
    "\n",
    "df.loc[df[\"class\"] == \"Reptilia\", \"kingdom\"] = \"Animalia\"\n",
    "\n",
    "df.loc[df[\"class\"] == \"Aves\", \"kingdom\"] = \"Animalia\"\n",
    "\n",
    "df.loc[df[\"class\"] == \"Mammalia\", \"kingdom\"] = \"Animalia\""
   ]
  },
  {
   "cell_type": "code",
   "execution_count": null,
   "metadata": {},
   "outputs": [],
   "source": [
    "# if species_type is tree_shrub, wildflower, graminoid, other_plants, vine, water_master, or uncategorized_plants, set kingdom to Plantae\n",
    "\n",
    "df.loc[df[\"species_type\"] == \"tree_shrub\", \"kingdom\"] = \"Plantae\"\n",
    "\n",
    "df.loc[df[\"species_type\"] == \"wildflower\", \"kingdom\"] = \"Plantae\"\n",
    "\n",
    "df.loc[df[\"species_type\"] == \"graminoid\", \"kingdom\"] = \"Plantae\"\n",
    "\n",
    "df.loc[df[\"species_type\"] == \"other_plants\", \"kingdom\"] = \"Plantae\"\n",
    "\n",
    "df.loc[df[\"species_type\"] == \"vine\", \"kingdom\"] = \"Plantae\"\n",
    "\n",
    "df.loc[df[\"species_type\"] == \"water_master\", \"kingdom\"] = \"Plantae\"\n",
    "\n",
    "df.loc[df[\"species_type\"] == \"uncategorized_plants\", \"kingdom\"] = \"Plantae\""
   ]
  },
  {
   "cell_type": "code",
   "execution_count": null,
   "metadata": {},
   "outputs": [],
   "source": [
    "na_kingdom = df[(df[\"kingdom\"].isna())]\n"
   ]
  },
  {
   "cell_type": "code",
   "execution_count": null,
   "metadata": {},
   "outputs": [],
   "source": [
    "# if species_type is fish, worm, bird, reptile, amphibian, or other_animals, set kingdom to Animalia\n"
   ]
  }
 ],
 "metadata": {
  "kernelspec": {
   "display_name": "eco",
   "language": "python",
   "name": "python3"
  },
  "language_info": {
   "codemirror_mode": {
    "name": "ipython",
    "version": 3
   },
   "file_extension": ".py",
   "mimetype": "text/x-python",
   "name": "python",
   "nbconvert_exporter": "python",
   "pygments_lexer": "ipython3",
   "version": "3.9.7"
  },
  "orig_nbformat": 4
 },
 "nbformat": 4,
 "nbformat_minor": 2
}
