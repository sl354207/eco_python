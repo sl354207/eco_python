{
 "cells": [
  {
   "cell_type": "code",
   "execution_count": null,
   "metadata": {},
   "outputs": [],
   "source": [
    "import pandas as pd"
   ]
  },
  {
   "cell_type": "code",
   "execution_count": null,
   "metadata": {},
   "outputs": [],
   "source": [
    "file_loc = input(\"Enter the file path: \")\n",
    "\n",
    "checklist = pd.read_parquet(file_loc)"
   ]
  },
  {
   "cell_type": "code",
   "execution_count": null,
   "metadata": {},
   "outputs": [],
   "source": [
    "checklist"
   ]
  },
  {
   "cell_type": "code",
   "execution_count": null,
   "metadata": {},
   "outputs": [],
   "source": [
    "common_names = pd.read_csv(\n",
    "    \"tsv\",\n",
    "    sep=\"\\t\",\n",
    "    on_bad_lines=\"warn\",\n",
    ")"
   ]
  },
  {
   "cell_type": "code",
   "execution_count": null,
   "metadata": {},
   "outputs": [],
   "source": [
    "common_names"
   ]
  },
  {
   "cell_type": "code",
   "execution_count": null,
   "metadata": {},
   "outputs": [],
   "source": [
    "common_names = common_names[[\"taxonID\", \"vernacularName\", \"language\"]]\n",
    "\n",
    "checklist = checklist[[\"taxonID\", \"acceptedName\"]]"
   ]
  },
  {
   "cell_type": "code",
   "execution_count": null,
   "metadata": {},
   "outputs": [],
   "source": [
    "# list unique values of language in common_names\n",
    "\n",
    "common_names[\"language\"].unique()"
   ]
  },
  {
   "cell_type": "code",
   "execution_count": null,
   "metadata": {},
   "outputs": [],
   "source": [
    "# drop rows in common_names where language is not \"en\"\n",
    "\n",
    "common_names = common_names[common_names[\"language\"] == \"en\"]"
   ]
  },
  {
   "cell_type": "code",
   "execution_count": null,
   "metadata": {},
   "outputs": [],
   "source": [
    "# merge checklist and common_names on taxonID\n",
    "\n",
    "merged = pd.merge(checklist, common_names, on=\"taxonID\", how=\"inner\")\n",
    "\n",
    "merged"
   ]
  },
  {
   "cell_type": "code",
   "execution_count": null,
   "metadata": {},
   "outputs": [],
   "source": [
    "# drop rows in merged where acceptedName is not two words\n",
    "\n",
    "merged = merged[merged[\"acceptedName\"].str.count(\" \") == 1]\n",
    "\n",
    "merged"
   ]
  },
  {
   "cell_type": "code",
   "execution_count": null,
   "metadata": {},
   "outputs": [],
   "source": [
    "# drop taxonID and language column from merged\n",
    "\n",
    "merged = merged.drop([\"taxonID\", \"language\"], axis=1)\n",
    "\n",
    "merged"
   ]
  },
  {
   "cell_type": "code",
   "execution_count": null,
   "metadata": {},
   "outputs": [],
   "source": [
    "# rename acceptedName to scientific_name and vernacularName to common_name\n",
    "\n",
    "merged = merged.rename(\n",
    "    columns={\"acceptedName\": \"scientific_name\", \"vernacularName\": \"common_name\"}\n",
    ")\n",
    "\n",
    "merged"
   ]
  },
  {
   "cell_type": "code",
   "execution_count": null,
   "metadata": {},
   "outputs": [],
   "source": [
    "species = pd.read_parquet(\"\")\n",
    "\n",
    "species"
   ]
  },
  {
   "cell_type": "code",
   "execution_count": null,
   "metadata": {},
   "outputs": [],
   "source": [
    "species_common = species[[\"scientific_name\", \"common_name\"]]\n",
    "\n",
    "species_common"
   ]
  },
  {
   "cell_type": "code",
   "execution_count": null,
   "metadata": {},
   "outputs": [],
   "source": [
    "merge_common = pd.merge(\n",
    "    species_common, merged, on=[\"scientific_name\", \"common_name\"], how=\"left\"\n",
    ")\n",
    "\n",
    "merge_common"
   ]
  },
  {
   "cell_type": "code",
   "execution_count": null,
   "metadata": {},
   "outputs": [],
   "source": [
    "# drop duplicates of scientific_name\n",
    "\n",
    "merge_common = merge_common.drop_duplicates(subset=\"scientific_name\", keep=\"first\")\n",
    "\n",
    "merge_common"
   ]
  }
 ],
 "metadata": {
  "kernelspec": {
   "display_name": "eco",
   "language": "python",
   "name": "python3"
  },
  "language_info": {
   "codemirror_mode": {
    "name": "ipython",
    "version": 3
   },
   "file_extension": ".py",
   "mimetype": "text/x-python",
   "name": "python",
   "nbconvert_exporter": "python",
   "pygments_lexer": "ipython3",
   "version": "3.9.7"
  }
 },
 "nbformat": 4,
 "nbformat_minor": 2
}
