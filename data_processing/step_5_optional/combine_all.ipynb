{
 "cells": [
  {
   "cell_type": "code",
   "execution_count": 1,
   "metadata": {},
   "outputs": [],
   "source": [
    "import pandas as pd"
   ]
  },
  {
   "cell_type": "code",
   "execution_count": null,
   "metadata": {},
   "outputs": [],
   "source": [
    "species = pd.read_csv(\"/media/muskrat/T7 Shield/eco_data/v4/db_exports/species.csv\")"
   ]
  },
  {
   "cell_type": "code",
   "execution_count": null,
   "metadata": {},
   "outputs": [],
   "source": [
    "species"
   ]
  },
  {
   "cell_type": "code",
   "execution_count": null,
   "metadata": {},
   "outputs": [],
   "source": [
    "native = pd.read_parquet(\n",
    "    \"/media/muskrat/T7 Shield/eco_data/v4/combined/native_checklisted_v2.parquet\"\n",
    ")\n",
    "\n",
    "native"
   ]
  },
  {
   "cell_type": "code",
   "execution_count": 3,
   "metadata": {},
   "outputs": [],
   "source": [
    "checklist = pd.read_parquet(\"\")"
   ]
  },
  {
   "cell_type": "code",
   "execution_count": null,
   "metadata": {},
   "outputs": [],
   "source": [
    "duplicates_1 = pd.read_parquet(\"\")\n",
    "\n",
    "duplicates_2 = pd.read_parquet(\"\")"
   ]
  },
  {
   "cell_type": "code",
   "execution_count": null,
   "metadata": {},
   "outputs": [],
   "source": [
    "checklist"
   ]
  },
  {
   "cell_type": "code",
   "execution_count": 5,
   "metadata": {},
   "outputs": [],
   "source": [
    "# rename canonicalName to scientific_name in checklist\n",
    "\n",
    "checklist = checklist.rename(columns={\"canonicalName\": \"scientific_name\"})"
   ]
  },
  {
   "cell_type": "code",
   "execution_count": 8,
   "metadata": {},
   "outputs": [],
   "source": [
    "# rename acceptedName to scientific_name in species\n",
    "\n",
    "species = species.rename(columns={\"acceptedName\": \"scientific_name\"})"
   ]
  },
  {
   "cell_type": "code",
   "execution_count": null,
   "metadata": {},
   "outputs": [],
   "source": [
    "species_small = species[[\"scientific_name\", \"unique_id\"]]\n",
    "\n",
    "species_small"
   ]
  },
  {
   "cell_type": "code",
   "execution_count": null,
   "metadata": {},
   "outputs": [],
   "source": [
    "merge = pd.merge(species_small, checklist, on=\"scientific_name\", how=\"left\")\n",
    "\n",
    "merge"
   ]
  },
  {
   "cell_type": "code",
   "execution_count": null,
   "metadata": {},
   "outputs": [],
   "source": [
    "# find duplicates in merge scientific_name column\n",
    "\n",
    "duplicates = merge[merge.duplicated([\"scientific_name\"], keep=False)]\n",
    "\n",
    "duplicates"
   ]
  },
  {
   "cell_type": "code",
   "execution_count": 10,
   "metadata": {},
   "outputs": [],
   "source": [
    "duplicates.to_parquet(\"\")"
   ]
  },
  {
   "cell_type": "code",
   "execution_count": null,
   "metadata": {},
   "outputs": [],
   "source": [
    "# remove all values in merge that are in duplicates\n",
    "\n",
    "merge = merge[~merge.scientific_name.isin(duplicates_1.scientific_name)]\n",
    "\n",
    "merge = merge[~merge.scientific_name.isin(duplicates_2.scientific_name)]\n",
    "\n",
    "merge"
   ]
  },
  {
   "cell_type": "code",
   "execution_count": null,
   "metadata": {},
   "outputs": [],
   "source": [
    "# check for duplicates in merge\n",
    "\n",
    "duplicates = merge[merge.duplicated([\"scientific_name\"], keep=False)]\n",
    "\n",
    "duplicates"
   ]
  },
  {
   "cell_type": "code",
   "execution_count": 12,
   "metadata": {},
   "outputs": [],
   "source": [
    "del duplicates_1, duplicates_2, duplicates"
   ]
  },
  {
   "cell_type": "code",
   "execution_count": null,
   "metadata": {},
   "outputs": [],
   "source": [
    "# accepted_small is only merge columns scientific_name, unique_id, and acceptedName\n",
    "\n",
    "accepted_small = merge[[\"scientific_name\", \"unique_id\", \"acceptedName\"]]\n",
    "\n",
    "accepted_small"
   ]
  },
  {
   "cell_type": "code",
   "execution_count": null,
   "metadata": {},
   "outputs": [],
   "source": [
    "bufo_small = accepted_small[accepted_small[\"acceptedName\"] == \"Anaxyrus americanus\"]\n",
    "\n",
    "bufo_small"
   ]
  },
  {
   "cell_type": "code",
   "execution_count": null,
   "metadata": {},
   "outputs": [],
   "source": [
    "for i in range(len(accepted_small)):\n",
    "    accepted_small[\"unique_id\"].iloc[i] = (\n",
    "        accepted_small[\"unique_id\"]\n",
    "        .iloc[i]\n",
    "        .replace('[\"', \"\")\n",
    "        .replace('\"]', \"\")\n",
    "        .split('\",\"')\n",
    "    )\n",
    "\n",
    "\n",
    "accepted_small"
   ]
  },
  {
   "cell_type": "code",
   "execution_count": null,
   "metadata": {},
   "outputs": [],
   "source": [
    "# group scientific_name by acceptedName\n",
    "\n",
    "names = (\n",
    "    accepted_small.groupby([\"acceptedName\"])[\"scientific_name\"]\n",
    "    .apply(list)\n",
    "    .reset_index()\n",
    ")\n",
    "\n",
    "names"
   ]
  },
  {
   "cell_type": "code",
   "execution_count": null,
   "metadata": {},
   "outputs": [],
   "source": [
    "# find rows where acceptedName is Anaxyrus americanus\n",
    "\n",
    "bufo_name = names[names[\"acceptedName\"] == \"Antaresia childreni\"]\n",
    "\n",
    "bufo_name"
   ]
  },
  {
   "cell_type": "code",
   "execution_count": null,
   "metadata": {},
   "outputs": [],
   "source": [
    "ids = accepted_small.groupby([\"acceptedName\"])[\"unique_id\"].apply(list).reset_index()\n",
    "\n",
    "ids"
   ]
  },
  {
   "cell_type": "code",
   "execution_count": null,
   "metadata": {},
   "outputs": [],
   "source": [
    "for i in range(len(ids)):\n",
    "    print(i)\n",
    "    cat = []\n",
    "    for j in range(len(ids[\"unique_id\"].iloc[i])):\n",
    "        for k in ids[\"unique_id\"].iloc[i][j]:\n",
    "            # print(k)\n",
    "            if k not in cat:\n",
    "                cat.append(k)\n",
    "\n",
    "    ids[\"unique_id\"].iloc[i] = cat\n",
    "\n",
    "ids"
   ]
  },
  {
   "cell_type": "code",
   "execution_count": null,
   "metadata": {},
   "outputs": [],
   "source": [
    "bufo_id = ids[ids[\"acceptedName\"] == \"Antaresia childreni\"]\n",
    "\n",
    "bufo_id"
   ]
  },
  {
   "cell_type": "code",
   "execution_count": null,
   "metadata": {},
   "outputs": [],
   "source": [
    "test_1 = [\"47\", \"50\", \"52\"]\n",
    "\n",
    "test_2 = [\n",
    "    \"50\",\n",
    "    \"51\",\n",
    "    \"52\",\n",
    "    \"53\",\n",
    "    \"55\",\n",
    "    \"57\",\n",
    "    \"63\",\n",
    "    \"67\",\n",
    "    \"71\",\n",
    "    \"72\",\n",
    "    \"73\",\n",
    "    \"74\",\n",
    "    \"75\",\n",
    "    \"76\",\n",
    "    \"77\",\n",
    "    \"79\",\n",
    "    \"80\",\n",
    "    \"81\",\n",
    "    \"82\",\n",
    "]\n",
    "\n",
    "# create list of unique values from test_1 and test_2\n",
    "\n",
    "test_3 = list(set(test_1 + test_2))\n",
    "\n",
    "test_3"
   ]
  },
  {
   "cell_type": "code",
   "execution_count": null,
   "metadata": {},
   "outputs": [],
   "source": [
    "# check if test 3 is the same as bufo_3\n",
    "\n",
    "\n",
    "bufo_3 = [\n",
    "    \"47\",\n",
    "    \"50\",\n",
    "    \"52\",\n",
    "    \"51\",\n",
    "    \"53\",\n",
    "    \"55\",\n",
    "    \"57\",\n",
    "    \"63\",\n",
    "    \"67\",\n",
    "    \"71\",\n",
    "    \"72\",\n",
    "    \"73\",\n",
    "    \"74\",\n",
    "    \"75\",\n",
    "    \"76\",\n",
    "    \"77\",\n",
    "    \"79\",\n",
    "    \"80\",\n",
    "    \"81\",\n",
    "    \"82\",\n",
    "]\n",
    "\n",
    "\n",
    "set(test_3) == set(bufo_3)"
   ]
  },
  {
   "cell_type": "code",
   "execution_count": null,
   "metadata": {},
   "outputs": [],
   "source": [
    "# find difference between test_3 and bufo_3\n",
    "\n",
    "set(test_3) - set(bufo_3)"
   ]
  },
  {
   "cell_type": "code",
   "execution_count": null,
   "metadata": {},
   "outputs": [],
   "source": [
    "# merge names and ids on acceptedName\n",
    "species_checked = pd.merge(names, ids, on=\"acceptedName\", how=\"inner\")\n",
    "\n",
    "species_checked"
   ]
  },
  {
   "cell_type": "code",
   "execution_count": null,
   "metadata": {},
   "outputs": [],
   "source": [
    "# check for duplicates in species_checked\n",
    "\n",
    "species_checked[species_checked.duplicated(subset=[\"acceptedName\"])]"
   ]
  },
  {
   "cell_type": "code",
   "execution_count": null,
   "metadata": {},
   "outputs": [],
   "source": [
    "species_checked.to_parquet(\"\")"
   ]
  },
  {
   "cell_type": "code",
   "execution_count": null,
   "metadata": {},
   "outputs": [],
   "source": [
    "checklist_small = checklist[\n",
    "    [\n",
    "        \"acceptedName\",\n",
    "        \"taxonRank\",\n",
    "        \"kingdom\",\n",
    "        \"phylum\",\n",
    "        \"class\",\n",
    "        \"order\",\n",
    "        \"family\",\n",
    "        \"genus\",\n",
    "    ]\n",
    "]\n",
    "\n",
    "checklist_small"
   ]
  },
  {
   "cell_type": "code",
   "execution_count": null,
   "metadata": {},
   "outputs": [],
   "source": [
    "del (\n",
    "    checklist,\n",
    "    merge,\n",
    "    names,\n",
    "    ids,\n",
    "    bufo_small,\n",
    "    bufo_name,\n",
    "    bufo_id,\n",
    "    bufo_3,\n",
    "    test_1,\n",
    "    test_2,\n",
    "    test_3,\n",
    ")"
   ]
  },
  {
   "cell_type": "code",
   "execution_count": 20,
   "metadata": {},
   "outputs": [],
   "source": [
    "native_checked = species_checked"
   ]
  },
  {
   "cell_type": "code",
   "execution_count": null,
   "metadata": {},
   "outputs": [],
   "source": [
    "del species_checked"
   ]
  },
  {
   "cell_type": "code",
   "execution_count": null,
   "metadata": {},
   "outputs": [],
   "source": [
    "species_checked = pd.read_parquet(\"\")"
   ]
  },
  {
   "cell_type": "code",
   "execution_count": 21,
   "metadata": {},
   "outputs": [],
   "source": [
    "native_checked"
   ]
  },
  {
   "cell_type": "code",
   "execution_count": null,
   "metadata": {},
   "outputs": [],
   "source": [
    "species_checked"
   ]
  },
  {
   "cell_type": "code",
   "execution_count": 22,
   "metadata": {},
   "outputs": [],
   "source": [
    "# drop column scientific_name from species_checked and native_checked\n",
    "\n",
    "species_checked = species_checked.drop([\"scientific_name\"], axis=1)\n",
    "\n",
    "native_checked = native_checked.drop([\"scientific_name\"], axis=1)"
   ]
  },
  {
   "cell_type": "code",
   "execution_count": null,
   "metadata": {},
   "outputs": [],
   "source": [
    "# rename unique_id column in native_checked to native_ecoregions\n",
    "\n",
    "native_checked = native_checked.rename(columns={\"unique_id\": \"native_ecoregions\"})\n",
    "\n",
    "native_checked"
   ]
  },
  {
   "cell_type": "code",
   "execution_count": null,
   "metadata": {},
   "outputs": [],
   "source": [
    "# merge native_checked and species_checked\n",
    "\n",
    "all_species = pd.merge(native_checked, species_checked, on=\"acceptedName\", how=\"outer\")\n",
    "\n",
    "all_species"
   ]
  },
  {
   "cell_type": "code",
   "execution_count": null,
   "metadata": {},
   "outputs": [],
   "source": [
    "# find rows where native_ecoregions is not NaN\n",
    "\n",
    "all_species[~all_species.native_ecoregions.isnull()]"
   ]
  },
  {
   "cell_type": "code",
   "execution_count": null,
   "metadata": {},
   "outputs": [],
   "source": [
    "# WE CURRENTLY SET UNIQUE_ID TO NATIVE_ECOREGIONS IF NO UNIQUE IDS ARE PRESENT BUT NATIVE ECOREGIONS ARE PRESENT\n",
    "\n",
    "# if unique_id is NaN in all species, set unique_id to native_ecoregions\n",
    "\n",
    "all_species.loc[all_species.unique_id.isnull(), \"unique_id\"] = (\n",
    "    all_species.native_ecoregions\n",
    ")\n",
    "\n",
    "all_species"
   ]
  },
  {
   "cell_type": "code",
   "execution_count": null,
   "metadata": {},
   "outputs": [],
   "source": [
    "no_unique = pd.merge(native_checked, species_checked, on=\"acceptedName\", how=\"left\")\n",
    "\n",
    "no_unique"
   ]
  },
  {
   "cell_type": "code",
   "execution_count": null,
   "metadata": {},
   "outputs": [],
   "source": [
    "# find rows where unique_id is NaN\n",
    "\n",
    "no_unique = no_unique[no_unique.unique_id.isnull()]\n",
    "\n",
    "no_unique"
   ]
  },
  {
   "cell_type": "code",
   "execution_count": null,
   "metadata": {},
   "outputs": [],
   "source": [
    "# merge no_unique and checklist_small\n",
    "\n",
    "no_unique_checklist = pd.merge(\n",
    "    no_unique, checklist_small, on=\"acceptedName\", how=\"left\"\n",
    ")\n",
    "\n",
    "no_unique_checklist"
   ]
  },
  {
   "cell_type": "code",
   "execution_count": null,
   "metadata": {},
   "outputs": [],
   "source": [
    "# remove duplicates in no_unique_checklist\n",
    "\n",
    "no_unique_checklist = no_unique_checklist[\n",
    "    ~no_unique_checklist.duplicated([\"acceptedName\"], keep=\"first\")\n",
    "]\n",
    "\n",
    "no_unique_checklist"
   ]
  },
  {
   "cell_type": "code",
   "execution_count": null,
   "metadata": {},
   "outputs": [],
   "source": [
    "# find rows where taxonRank is variety\n",
    "\n",
    "no_unique_checklist[no_unique_checklist.taxonRank == \"variety\"]"
   ]
  },
  {
   "cell_type": "code",
   "execution_count": null,
   "metadata": {},
   "outputs": [],
   "source": [
    "# find duplicates in no_unique_checklist\n",
    "\n",
    "duplicates = all_species_checklist[\n",
    "    all_species_checklist.duplicated([\"acceptedName\"], keep=False)\n",
    "]\n",
    "\n",
    "duplicates"
   ]
  },
  {
   "cell_type": "code",
   "execution_count": null,
   "metadata": {},
   "outputs": [],
   "source": [
    "no_unique_checklist.to_parquet(\"\")"
   ]
  },
  {
   "cell_type": "code",
   "execution_count": null,
   "metadata": {},
   "outputs": [],
   "source": [
    "all_species_checklist = pd.merge(\n",
    "    all_species, checklist_small, on=\"acceptedName\", how=\"left\"\n",
    ")\n",
    "\n",
    "all_species_checklist"
   ]
  },
  {
   "cell_type": "code",
   "execution_count": null,
   "metadata": {},
   "outputs": [],
   "source": [
    "all_species_checklist = all_species_checklist[\n",
    "    ~all_species_checklist.duplicated([\"acceptedName\"], keep=\"first\")\n",
    "]\n",
    "\n",
    "all_species_checklist"
   ]
  },
  {
   "cell_type": "code",
   "execution_count": null,
   "metadata": {},
   "outputs": [],
   "source": [
    "# find unique values of taxonRank in all_species_checklist\n",
    "\n",
    "all_species_checklist.taxonRank.unique()"
   ]
  },
  {
   "cell_type": "code",
   "execution_count": null,
   "metadata": {},
   "outputs": [],
   "source": [
    "# show rows where taxonRank is not species\n",
    "\n",
    "all_species_checklist[all_species_checklist.taxonRank != \"species\"]"
   ]
  },
  {
   "cell_type": "code",
   "execution_count": null,
   "metadata": {},
   "outputs": [],
   "source": [
    "# drop column taxonRank from all_species_checklist\n",
    "\n",
    "all_species_checklist = all_species_checklist.drop([\"taxonRank\"], axis=1)\n",
    "\n",
    "# rename column acceptedName to scientific_name\n",
    "\n",
    "all_species_checklist = all_species_checklist.rename(\n",
    "    columns={\"acceptedName\": \"scientific_name\"}\n",
    ")\n",
    "\n",
    "all_species_checklist"
   ]
  },
  {
   "cell_type": "code",
   "execution_count": null,
   "metadata": {},
   "outputs": [],
   "source": [
    "# drop column native_ecoregions_y from all_species_checklist and rename column native_ecoregions_x to native_ecoregions in all_species_checklist\n",
    "\n",
    "all_species_checklist = all_species_checklist.drop([\"native_ecoregions_y\"], axis=1)\n",
    "\n",
    "all_species_checklist = all_species_checklist.rename(\n",
    "    columns={\"native_ecoregions_x\": \"native_ecoregions\"}\n",
    ")\n",
    "\n",
    "all_species_checklist"
   ]
  },
  {
   "cell_type": "code",
   "execution_count": 35,
   "metadata": {},
   "outputs": [],
   "source": [
    "all_species_checklist.to_parquet(\n",
    "    \"/media/muskrat/T7 Shield/eco_data/v4/combined/native_checklisted_v2.parquet\"\n",
    ")"
   ]
  },
  {
   "cell_type": "code",
   "execution_count": null,
   "metadata": {},
   "outputs": [],
   "source": [
    "del all_species, checklist_small, duplicates, species_checked"
   ]
  },
  {
   "cell_type": "code",
   "execution_count": null,
   "metadata": {},
   "outputs": [],
   "source": [
    "species_type = species[[\"scientific_name\", \"species_type\", \"common_name\"]]\n",
    "\n",
    "species_type"
   ]
  },
  {
   "cell_type": "code",
   "execution_count": null,
   "metadata": {},
   "outputs": [],
   "source": [
    "# merge all_species_checklist and species_type\n",
    "\n",
    "final = pd.merge(all_species_checklist, species_type, on=\"scientific_name\", how=\"left\")\n",
    "\n",
    "final"
   ]
  },
  {
   "cell_type": "code",
   "execution_count": null,
   "metadata": {},
   "outputs": [],
   "source": [
    "# rename column database to native_rights in native\n",
    "\n",
    "native = native.rename(columns={\"database\": \"native_rights\"})\n",
    "\n",
    "native"
   ]
  },
  {
   "cell_type": "code",
   "execution_count": null,
   "metadata": {},
   "outputs": [],
   "source": [
    "# drop unique_id column from native\n",
    "\n",
    "native = native.drop([\"unique_id\"], axis=1)\n",
    "\n",
    "native"
   ]
  },
  {
   "cell_type": "code",
   "execution_count": null,
   "metadata": {},
   "outputs": [],
   "source": [
    "native_common = native[[\"scientific_name\", \"common_name\"]]\n",
    "\n",
    "native_common"
   ]
  },
  {
   "cell_type": "code",
   "execution_count": null,
   "metadata": {},
   "outputs": [],
   "source": [
    "# drop common_name from native\n",
    "\n",
    "native = native.drop([\"common_name\"], axis=1)\n",
    "\n",
    "native"
   ]
  },
  {
   "cell_type": "code",
   "execution_count": null,
   "metadata": {},
   "outputs": [],
   "source": [
    "# merge final and native on scientific_name\n",
    "\n",
    "final = pd.merge(final, native, on=\"scientific_name\", how=\"left\")\n",
    "\n",
    "final"
   ]
  },
  {
   "cell_type": "code",
   "execution_count": null,
   "metadata": {},
   "outputs": [],
   "source": [
    "final_common = final[[\"scientific_name\", \"common_name\"]]\n",
    "\n",
    "final_common"
   ]
  },
  {
   "cell_type": "code",
   "execution_count": null,
   "metadata": {},
   "outputs": [],
   "source": [
    "# merge final_common and native_common on scientific_name and common_name\n",
    "\n",
    "common = pd.merge(\n",
    "    final_common, native_common, on=[\"scientific_name\", \"common_name\"], how=\"left\"\n",
    ")\n",
    "\n",
    "common"
   ]
  },
  {
   "cell_type": "code",
   "execution_count": null,
   "metadata": {},
   "outputs": [],
   "source": [
    "# drop common_name from final and merge with common on scientific_name\n",
    "\n",
    "final = final.drop([\"common_name\"], axis=1)\n",
    "\n",
    "final = pd.merge(final, common, on=\"scientific_name\", how=\"left\")\n",
    "\n",
    "final"
   ]
  },
  {
   "cell_type": "code",
   "execution_count": null,
   "metadata": {},
   "outputs": [],
   "source": [
    "final.to_parquet(\"\")"
   ]
  },
  {
   "cell_type": "code",
   "execution_count": null,
   "metadata": {},
   "outputs": [],
   "source": [
    "# rename unique_id column to observed_ecoregions in final\n",
    "\n",
    "final = final.rename(columns={\"unique_id\": \"observed_ecoregions\"})\n",
    "\n",
    "final"
   ]
  },
  {
   "cell_type": "code",
   "execution_count": null,
   "metadata": {},
   "outputs": [],
   "source": [
    "final.to_parquet(\"\")"
   ]
  }
 ],
 "metadata": {
  "kernelspec": {
   "display_name": "eco",
   "language": "python",
   "name": "python3"
  },
  "language_info": {
   "codemirror_mode": {
    "name": "ipython",
    "version": 3
   },
   "file_extension": ".py",
   "mimetype": "text/x-python",
   "name": "python",
   "nbconvert_exporter": "python",
   "pygments_lexer": "ipython3",
   "version": "3.9.7"
  }
 },
 "nbformat": 4,
 "nbformat_minor": 2
}
