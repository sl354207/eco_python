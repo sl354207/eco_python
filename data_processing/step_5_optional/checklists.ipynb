{
 "cells": [
  {
   "cell_type": "code",
   "execution_count": null,
   "metadata": {},
   "outputs": [],
   "source": [
    "import pandas as pd"
   ]
  },
  {
   "cell_type": "code",
   "execution_count": null,
   "metadata": {},
   "outputs": [],
   "source": [
    "file_loc = input(\"Enter the file path: \")\n",
    "\n",
    "checklist = pd.read_csv(file_loc, sep=\"\\t\", on_bad_lines=\"warn\")"
   ]
  },
  {
   "cell_type": "code",
   "execution_count": null,
   "metadata": {},
   "outputs": [],
   "source": [
    "checklist"
   ]
  },
  {
   "cell_type": "code",
   "execution_count": null,
   "metadata": {},
   "outputs": [],
   "source": [
    "# list all columns in dataframe\n",
    "\n",
    "checklist.columns"
   ]
  },
  {
   "cell_type": "code",
   "execution_count": null,
   "metadata": {},
   "outputs": [],
   "source": [
    "# drop columns datasetId, scientificNameAuthorship, genericName, specificEpithet, namePulishedIn, taxonRemarks\n",
    "\n",
    "checklist = checklist.drop(\n",
    "    [\n",
    "        \"datasetID\",\n",
    "        \"scientificNameAuthorship\",\n",
    "        \"genericName\",\n",
    "        \"specificEpithet\",\n",
    "        \"namePublishedIn\",\n",
    "        \"taxonRemarks\",\n",
    "    ],\n",
    "    axis=1,\n",
    ")"
   ]
  },
  {
   "cell_type": "code",
   "execution_count": null,
   "metadata": {},
   "outputs": [],
   "source": [
    "checklist.to_parquet(\"\")"
   ]
  },
  {
   "cell_type": "code",
   "execution_count": null,
   "metadata": {},
   "outputs": [],
   "source": [
    "checklist = pd.read_parquet(\"\")"
   ]
  },
  {
   "cell_type": "code",
   "execution_count": null,
   "metadata": {},
   "outputs": [],
   "source": [
    "checklist = checklist.drop(\n",
    "    [\n",
    "        \"scientificName\",\n",
    "        \"infraspecificEpithet\",\n",
    "        \"nameAccordingTo\",\n",
    "        \"nomenclaturalStatus\",\n",
    "    ],\n",
    "    axis=1,\n",
    ")"
   ]
  },
  {
   "cell_type": "code",
   "execution_count": null,
   "metadata": {},
   "outputs": [],
   "source": [
    "# list unique values of taxonomicStatus\n",
    "\n",
    "checklist[\"taxonomicStatus\"].unique()"
   ]
  },
  {
   "cell_type": "code",
   "execution_count": null,
   "metadata": {},
   "outputs": [],
   "source": [
    "# use taxonomicStatus and acceptedNameUsageID to sort\n",
    "\n",
    "accepted = checklist[checklist[\"taxonomicStatus\"] == \"accepted\"]"
   ]
  },
  {
   "cell_type": "code",
   "execution_count": null,
   "metadata": {},
   "outputs": [],
   "source": [
    "accepted.to_parquet(\"\")"
   ]
  },
  {
   "cell_type": "code",
   "execution_count": null,
   "metadata": {},
   "outputs": [],
   "source": [
    "unaccepted = checklist[checklist[\"taxonomicStatus\"] != \"accepted\"]"
   ]
  },
  {
   "cell_type": "code",
   "execution_count": null,
   "metadata": {},
   "outputs": [],
   "source": [
    "unaccepted.to_parquet(\"\")"
   ]
  },
  {
   "cell_type": "code",
   "execution_count": null,
   "metadata": {},
   "outputs": [],
   "source": [
    "accepted = pd.read_parquet(\"\")"
   ]
  },
  {
   "cell_type": "code",
   "execution_count": null,
   "metadata": {},
   "outputs": [],
   "source": [
    "accepted"
   ]
  },
  {
   "cell_type": "code",
   "execution_count": null,
   "metadata": {},
   "outputs": [],
   "source": [
    "accepted[\"acceptedNameUsageID\"].unique()"
   ]
  },
  {
   "cell_type": "code",
   "execution_count": null,
   "metadata": {},
   "outputs": [],
   "source": [
    "# find row where acceptedNameUsageID = 4335624\n",
    "\n",
    "accepted[accepted[\"acceptedNameUsageID\"] == 4335624]"
   ]
  },
  {
   "cell_type": "code",
   "execution_count": null,
   "metadata": {},
   "outputs": [],
   "source": [
    "init = accepted[accepted[\"acceptedNameUsageID\"].isnull()]\n",
    "\n",
    "init"
   ]
  },
  {
   "cell_type": "code",
   "execution_count": null,
   "metadata": {},
   "outputs": [],
   "source": [
    "# drop columns parentNameUsageID, acceptedNameUsageID, originalNameUsageID from init\n",
    "\n",
    "init = init.drop(\n",
    "    [\n",
    "        \"parentNameUsageID\",\n",
    "        \"acceptedNameUsageID\",\n",
    "        \"originalNameUsageID\",\n",
    "    ],\n",
    "    axis=1,\n",
    ")\n",
    "\n",
    "init"
   ]
  },
  {
   "cell_type": "code",
   "execution_count": null,
   "metadata": {},
   "outputs": [],
   "source": [
    "init[\"acceptedName\"] = init[\"canonicalName\"]\n",
    "\n",
    "init"
   ]
  },
  {
   "cell_type": "code",
   "execution_count": null,
   "metadata": {},
   "outputs": [],
   "source": [
    "cleanup = accepted[accepted[\"acceptedNameUsageID\"].notnull()]\n",
    "\n",
    "cleanup"
   ]
  },
  {
   "cell_type": "code",
   "execution_count": null,
   "metadata": {},
   "outputs": [],
   "source": [
    "# create variable that contains the rows in acceptedwhere taxonID matches acceptedNameUsageID in cleanup\n",
    "\n",
    "test = accepted[accepted[\"taxonID\"].isin(cleanup[\"acceptedNameUsageID\"])]\n",
    "\n",
    "test"
   ]
  },
  {
   "cell_type": "code",
   "execution_count": null,
   "metadata": {},
   "outputs": [],
   "source": [
    "# sort test based on ascending value of taxonID\n",
    "\n",
    "test = test.sort_values(by=\"taxonID\")\n",
    "\n",
    "test"
   ]
  },
  {
   "cell_type": "code",
   "execution_count": null,
   "metadata": {},
   "outputs": [],
   "source": [
    "# sort cleanup based on acceptedNameUsageID\n",
    "\n",
    "cleanup = cleanup.sort_values(by=\"acceptedNameUsageID\")\n",
    "\n",
    "cleanup"
   ]
  },
  {
   "cell_type": "code",
   "execution_count": null,
   "metadata": {},
   "outputs": [],
   "source": [
    "# convert acceptedNameUsageID to int in cleanup\n",
    "\n",
    "cleanup[\"acceptedNameUsageID\"] = cleanup[\"acceptedNameUsageID\"].astype(int)\n",
    "\n",
    "\n",
    "cleanup"
   ]
  },
  {
   "cell_type": "code",
   "execution_count": null,
   "metadata": {},
   "outputs": [],
   "source": [
    "test[\"acceptedNameUsageID\"] = test[\"taxonID\"]\n",
    "\n",
    "\n",
    "test"
   ]
  },
  {
   "cell_type": "code",
   "execution_count": null,
   "metadata": {},
   "outputs": [],
   "source": [
    "# merge test and cleanup\n",
    "\n",
    "merge = pd.merge(test, cleanup, on=[\"acceptedNameUsageID\"], how=\"outer\")\n",
    "\n",
    "\n",
    "merge"
   ]
  },
  {
   "cell_type": "code",
   "execution_count": null,
   "metadata": {},
   "outputs": [],
   "source": [
    "merge[\"acceptedName\"] = merge[\"canonicalName_x\"]\n",
    "\n",
    "\n",
    "merge"
   ]
  },
  {
   "cell_type": "code",
   "execution_count": null,
   "metadata": {},
   "outputs": [],
   "source": [
    "# drop all columns in merge that have x in the name\n",
    "\n",
    "merge = merge.drop(\n",
    "    [\n",
    "        \"taxonID_x\",\n",
    "        \"parentNameUsageID_x\",\n",
    "        \"originalNameUsageID_x\",\n",
    "        \"canonicalName_x\",\n",
    "        \"acceptedNameUsageID\",\n",
    "        \"parentNameUsageID_y\",\n",
    "        \"originalNameUsageID_y\",\n",
    "        \"taxonRank_x\",\n",
    "        \"taxonomicStatus_x\",\n",
    "        \"kingdom_x\",\n",
    "        \"phylum_x\",\n",
    "        \"class_x\",\n",
    "        \"order_x\",\n",
    "        \"family_x\",\n",
    "        \"genus_x\",\n",
    "    ],\n",
    "    axis=1,\n",
    ")\n",
    "\n",
    "\n",
    "merge"
   ]
  },
  {
   "cell_type": "code",
   "execution_count": null,
   "metadata": {},
   "outputs": [],
   "source": [
    "# rename all columns in merge that have y in the name\n",
    "\n",
    "merge = merge.rename(\n",
    "    columns={\n",
    "        \"taxonID_y\": \"taxonID\",\n",
    "        \"parentNameUsageID_y\": \"parentNameUsageID\",\n",
    "        \"originalNameUsageID_y\": \"originalNameUsageID\",\n",
    "        \"canonicalName_y\": \"canonicalName\",\n",
    "        \"taxonRank_y\": \"taxonRank\",\n",
    "        \"taxonomicStatus_y\": \"taxonomicStatus\",\n",
    "        \"kingdom_y\": \"kingdom\",\n",
    "        \"phylum_y\": \"phylum\",\n",
    "        \"class_y\": \"class\",\n",
    "        \"order_y\": \"order\",\n",
    "        \"family_y\": \"family\",\n",
    "        \"genus_y\": \"genus\",\n",
    "    }\n",
    ")\n",
    "\n",
    "\n",
    "merge"
   ]
  },
  {
   "cell_type": "code",
   "execution_count": null,
   "metadata": {},
   "outputs": [],
   "source": [
    "# concat init and merge\n",
    "\n",
    "final = pd.concat([init, merge], axis=0)"
   ]
  },
  {
   "cell_type": "code",
   "execution_count": null,
   "metadata": {},
   "outputs": [],
   "source": [
    "final.to_parquet(\"\")"
   ]
  },
  {
   "cell_type": "code",
   "execution_count": null,
   "metadata": {},
   "outputs": [],
   "source": [
    "df = pd.read_parquet(\"\")"
   ]
  },
  {
   "cell_type": "code",
   "execution_count": null,
   "metadata": {},
   "outputs": [],
   "source": [
    "df"
   ]
  },
  {
   "cell_type": "code",
   "execution_count": null,
   "metadata": {},
   "outputs": [],
   "source": [
    "unaccepted = pd.read_parquet(\"\")"
   ]
  },
  {
   "cell_type": "code",
   "execution_count": null,
   "metadata": {},
   "outputs": [],
   "source": [
    "unaccepted"
   ]
  },
  {
   "cell_type": "code",
   "execution_count": null,
   "metadata": {},
   "outputs": [],
   "source": [
    "# drop columns parentNameUsageID, originalNameUsageID,\n",
    "\n",
    "unaccepted = unaccepted.drop(\n",
    "    [\n",
    "        \"parentNameUsageID\",\n",
    "        \"originalNameUsageID\",\n",
    "    ],\n",
    "    axis=1,\n",
    ")\n",
    "\n",
    "unaccepted"
   ]
  },
  {
   "cell_type": "code",
   "execution_count": null,
   "metadata": {},
   "outputs": [],
   "source": [
    "no_id = unaccepted[unaccepted[\"acceptedNameUsageID\"].isnull()]"
   ]
  },
  {
   "cell_type": "code",
   "execution_count": null,
   "metadata": {},
   "outputs": [],
   "source": [
    "unaccepted = unaccepted[unaccepted[\"acceptedNameUsageID\"].notnull()]"
   ]
  },
  {
   "cell_type": "code",
   "execution_count": null,
   "metadata": {},
   "outputs": [],
   "source": [
    "# convert acceptedNameUsageID to int\n",
    "\n",
    "unaccepted[\"acceptedNameUsageID\"] = unaccepted[\"acceptedNameUsageID\"].astype(int)\n",
    "\n",
    "unaccepted"
   ]
  },
  {
   "cell_type": "code",
   "execution_count": null,
   "metadata": {},
   "outputs": [],
   "source": [
    "df[\"acceptedNameUsageID\"] = df[\"taxonID\"]\n",
    "\n",
    "df"
   ]
  },
  {
   "cell_type": "code",
   "execution_count": null,
   "metadata": {},
   "outputs": [],
   "source": [
    "merge = pd.merge(df, unaccepted, on=[\"acceptedNameUsageID\"], how=\"outer\")\n",
    "\n",
    "\n",
    "merge"
   ]
  },
  {
   "cell_type": "code",
   "execution_count": null,
   "metadata": {},
   "outputs": [],
   "source": [
    "merge.columns"
   ]
  },
  {
   "cell_type": "code",
   "execution_count": null,
   "metadata": {},
   "outputs": [],
   "source": [
    "test = merge[merge[\"acceptedName\"] == \"Anaxyrus americanus\"]"
   ]
  },
  {
   "cell_type": "code",
   "execution_count": null,
   "metadata": {},
   "outputs": [],
   "source": [
    "test"
   ]
  },
  {
   "cell_type": "code",
   "execution_count": null,
   "metadata": {},
   "outputs": [],
   "source": [
    "# remove all columns that have x in the name\n",
    "\n",
    "merge = merge.drop(\n",
    "    [\n",
    "        \"taxonID_x\",\n",
    "        \"canonicalName_x\",\n",
    "        \"taxonRank_x\",\n",
    "        \"taxonomicStatus_x\",\n",
    "        \"kingdom_x\",\n",
    "        \"phylum_x\",\n",
    "        \"class_x\",\n",
    "        \"order_x\",\n",
    "        \"family_x\",\n",
    "        \"genus_x\",\n",
    "    ],\n",
    "    axis=1,\n",
    ")\n",
    "\n",
    "\n",
    "merge"
   ]
  },
  {
   "cell_type": "code",
   "execution_count": null,
   "metadata": {},
   "outputs": [],
   "source": [
    "# rename columns with y in the name\n",
    "\n",
    "merge = merge.rename(\n",
    "    columns={\n",
    "        \"taxonID_y\": \"taxonID\",\n",
    "        \"taxonRank_y\": \"taxonRank\",\n",
    "        \"taxonomicStatus_y\": \"taxonomicStatus\",\n",
    "        \"canonicalName_y\": \"canonicalName\",\n",
    "        \"kingdom_y\": \"kingdom\",\n",
    "        \"phylum_y\": \"phylum\",\n",
    "        \"class_y\": \"class\",\n",
    "        \"order_y\": \"order\",\n",
    "        \"family_y\": \"family\",\n",
    "        \"genus_y\": \"genus\",\n",
    "    },\n",
    ")\n",
    "\n",
    "\n",
    "merge"
   ]
  },
  {
   "cell_type": "code",
   "execution_count": null,
   "metadata": {},
   "outputs": [],
   "source": [
    "# create a new df with all the rows where acceptedName and canonicalName is null\n",
    "\n",
    "is_null = merge[merge[\"acceptedName\"].isnull() & merge[\"canonicalName\"].isnull()]\n",
    "\n",
    "\n",
    "is_null"
   ]
  },
  {
   "cell_type": "code",
   "execution_count": null,
   "metadata": {},
   "outputs": [],
   "source": [
    "# remove all rows where acceptedName and canonicalName is null\n",
    "\n",
    "merge = merge[~merge.isin(is_null).any(axis=1)]\n",
    "\n",
    "\n",
    "merge"
   ]
  },
  {
   "cell_type": "code",
   "execution_count": null,
   "metadata": {},
   "outputs": [],
   "source": [
    "merge[\"taxonRank\"].unique()"
   ]
  },
  {
   "cell_type": "code",
   "execution_count": null,
   "metadata": {},
   "outputs": [],
   "source": [
    "variety = merge[merge[\"taxonRank\"] == \"variety\"]\n",
    "\n",
    "variety"
   ]
  },
  {
   "cell_type": "code",
   "execution_count": null,
   "metadata": {},
   "outputs": [],
   "source": [
    "subspecies = merge[merge[\"taxonRank\"] == \"subspecies\"]\n",
    "\n",
    "subspecies"
   ]
  },
  {
   "cell_type": "code",
   "execution_count": null,
   "metadata": {},
   "outputs": [],
   "source": [
    "form = merge[merge[\"taxonRank\"] == \"form\"]\n",
    "\n",
    "form"
   ]
  },
  {
   "cell_type": "code",
   "execution_count": null,
   "metadata": {},
   "outputs": [],
   "source": [
    "nan = merge[merge[\"taxonRank\"].isnull()]\n",
    "\n",
    "nan"
   ]
  },
  {
   "cell_type": "code",
   "execution_count": null,
   "metadata": {},
   "outputs": [],
   "source": [
    "unranked = merge[merge[\"taxonRank\"] == \"unranked\"]\n",
    "\n",
    "unranked"
   ]
  },
  {
   "cell_type": "code",
   "execution_count": null,
   "metadata": {},
   "outputs": [],
   "source": [
    "# remove all rows where taxonRank is kingdom, phylum, class, order, family, genus\n",
    "\n",
    "merge = merge[\n",
    "    ~merge[\"taxonRank\"].isin([\"kingdom\", \"phylum\", \"class\", \"order\", \"family\", \"genus\"])\n",
    "]\n",
    "\n",
    "\n",
    "merge"
   ]
  },
  {
   "cell_type": "code",
   "execution_count": null,
   "metadata": {},
   "outputs": [],
   "source": [
    "# remove rows where taxonRank is null and acceptedName is null or taxonRank is null and canonicalName is null\n",
    "\n",
    "merge = merge[\n",
    "    ~(\n",
    "        merge[\"taxonRank\"].isnull()\n",
    "        & (merge[\"acceptedName\"].isnull() | merge[\"canonicalName\"].isnull())\n",
    "    )\n",
    "]\n",
    "\n",
    "\n",
    "merge"
   ]
  },
  {
   "cell_type": "code",
   "execution_count": null,
   "metadata": {},
   "outputs": [],
   "source": [
    "# remove rows where acceptedName is not 2 words\n",
    "\n",
    "merge = merge[merge[\"acceptedName\"].str.count(\" \") == 1]\n",
    "\n",
    "merge"
   ]
  },
  {
   "cell_type": "code",
   "execution_count": null,
   "metadata": {},
   "outputs": [],
   "source": [
    "# remove duplicates from canonicalName column in merge\n",
    "\n",
    "merge = merge.drop_duplicates(subset=\"canonicalName\")\n",
    "\n",
    "\n",
    "merge"
   ]
  },
  {
   "cell_type": "code",
   "execution_count": null,
   "metadata": {},
   "outputs": [],
   "source": [
    "final = pd.concat([df, merge], axis=0)\n",
    "\n",
    "\n",
    "final"
   ]
  },
  {
   "cell_type": "code",
   "execution_count": null,
   "metadata": {},
   "outputs": [],
   "source": [
    "# these are different species with same scientific name\n",
    "final_duplicates = final[final[\"canonicalName\"].duplicated(keep=False)]\n",
    "\n",
    "final_duplicates"
   ]
  },
  {
   "cell_type": "code",
   "execution_count": null,
   "metadata": {},
   "outputs": [],
   "source": [
    "# remove columns taxonID and acceptedNameUsageID from final_duplicates\n",
    "\n",
    "final_duplicates = final_duplicates.drop([\"taxonID\", \"acceptedNameUsageID\"], axis=1)"
   ]
  },
  {
   "cell_type": "code",
   "execution_count": null,
   "metadata": {},
   "outputs": [],
   "source": [
    "final_duplicates.to_parquet(\"\")"
   ]
  },
  {
   "cell_type": "code",
   "execution_count": null,
   "metadata": {},
   "outputs": [],
   "source": [
    "# find rows where canonicalName is Thysananthus anguiformis\n",
    "\n",
    "final_duplicates[final_duplicates[\"canonicalName\"] == \"Micrococcus antarcticus\"]"
   ]
  },
  {
   "cell_type": "code",
   "execution_count": null,
   "metadata": {},
   "outputs": [],
   "source": [
    "# remove rows from final_duplicates taxonomicStatus equals accepted\n",
    "\n",
    "final_duplicates = final_duplicates[final_duplicates[\"taxonomicStatus\"] != \"accepted\"]\n",
    "\n",
    "final_duplicates"
   ]
  },
  {
   "cell_type": "code",
   "execution_count": null,
   "metadata": {},
   "outputs": [],
   "source": [
    "final = final[final[\"acceptedName\"].str.count(\" \") == 1]\n",
    "\n",
    "final"
   ]
  },
  {
   "cell_type": "code",
   "execution_count": null,
   "metadata": {},
   "outputs": [],
   "source": [
    "# remove final_duplicates from final\n",
    "\n",
    "final = final.drop(final_duplicates.index)\n",
    "\n",
    "final"
   ]
  },
  {
   "cell_type": "code",
   "execution_count": null,
   "metadata": {},
   "outputs": [],
   "source": [
    "# remove columns taxonID and acceptedNameUsageID from final\n",
    "\n",
    "final = final.drop([\"taxonID\", \"acceptedNameUsageID\"], axis=1)"
   ]
  },
  {
   "cell_type": "code",
   "execution_count": null,
   "metadata": {},
   "outputs": [],
   "source": [
    "final.to_parquet(\"\")"
   ]
  }
 ],
 "metadata": {
  "kernelspec": {
   "display_name": "eco",
   "language": "python",
   "name": "python3"
  },
  "language_info": {
   "codemirror_mode": {
    "name": "ipython",
    "version": 3
   },
   "file_extension": ".py",
   "mimetype": "text/x-python",
   "name": "python",
   "nbconvert_exporter": "python",
   "pygments_lexer": "ipython3",
   "version": "3.9.7"
  }
 },
 "nbformat": 4,
 "nbformat_minor": 2
}
