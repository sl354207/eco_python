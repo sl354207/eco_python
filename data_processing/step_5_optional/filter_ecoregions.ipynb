{
 "cells": [
  {
   "cell_type": "code",
   "execution_count": null,
   "metadata": {},
   "outputs": [],
   "source": [
    "import pandas as pd"
   ]
  },
  {
   "cell_type": "code",
   "execution_count": null,
   "metadata": {},
   "outputs": [],
   "source": [
    "file_path = input(\"Enter the file path: \")\n",
    "\n",
    "df = pd.read_parquet(file_path)"
   ]
  },
  {
   "cell_type": "code",
   "execution_count": null,
   "metadata": {},
   "outputs": [],
   "source": [
    "df"
   ]
  },
  {
   "cell_type": "code",
   "execution_count": null,
   "metadata": {},
   "outputs": [],
   "source": [
    "# print unique values of species_type\n",
    "df[\"species_type\"].unique()"
   ]
  },
  {
   "cell_type": "code",
   "execution_count": null,
   "metadata": {},
   "outputs": [],
   "source": [
    "# create list of unique values in class where species_type is 'gill_fungi'\n",
    "\n",
    "gill_fungi_class_list = (\n",
    "    df.loc[(df[\"species_type\"] == \"mammal\")][\"class\"].unique().tolist()\n",
    ")\n",
    "\n",
    "gill_fungi_order_list = (\n",
    "    df.loc[(df[\"species_type\"] == \"mammal\")][\"order\"].unique().tolist()\n",
    ")\n",
    "\n",
    "gill_fungi_family_list = (\n",
    "    df.loc[(df[\"species_type\"] == \"mammal\")][\"family\"].unique().tolist()\n",
    ")"
   ]
  },
  {
   "cell_type": "code",
   "execution_count": null,
   "metadata": {},
   "outputs": [],
   "source": [
    "print(gill_fungi_class_list)\n",
    "print(gill_fungi_order_list)\n",
    "print(gill_fungi_family_list)"
   ]
  }
 ],
 "metadata": {
  "kernelspec": {
   "display_name": "eco",
   "language": "python",
   "name": "python3"
  },
  "language_info": {
   "codemirror_mode": {
    "name": "ipython",
    "version": 3
   },
   "file_extension": ".py",
   "mimetype": "text/x-python",
   "name": "python",
   "nbconvert_exporter": "python",
   "pygments_lexer": "ipython3",
   "version": "3.9.7"
  }
 },
 "nbformat": 4,
 "nbformat_minor": 2
}
