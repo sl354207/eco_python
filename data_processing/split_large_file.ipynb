{
 "cells": [
  {
   "cell_type": "code",
   "execution_count": 1,
   "metadata": {},
   "outputs": [],
   "source": [
    "# 400 meter coordinate accuracy\n",
    "# 1923 earliest year\n",
    "import pandas as pd\n",
    "import vaex\n",
    "\n",
    "pd.set_option(\"display.max_columns\", None)\n",
    "# pd.set_option('display.max_rows', None)\n",
    "# pd.set_option('display.max_columns', None)\n",
    "# pd.set_option('display.width', None)\n",
    "# pd.set_option('display.max_colwidth', None)\n"
   ]
  },
  {
   "cell_type": "code",
   "execution_count": 2,
   "metadata": {},
   "outputs": [],
   "source": [
    "# read in cleaned parquet\n",
    "df_path = input(\"Enter the file path: \")\n",
    "\n",
    "df = vaex.open(df_path)\n"
   ]
  },
  {
   "cell_type": "code",
   "execution_count": 8,
   "metadata": {},
   "outputs": [],
   "source": [
    "for i in range(0, len(df), 10000000):\n",
    "    df_write = df[i : i + 10000000]\n",
    "    # print(df_write.shape)\n",
    "    df_write.export_parquet(\n",
    "        f\"/media/muskrat/T7 Shield/eco_data/v2/data_processing/step_0_optional/split_{i}.parquet\"\n",
    "    )\n",
    "    del df_write"
   ]
  }
 ],
 "metadata": {
  "kernelspec": {
   "display_name": "eco",
   "language": "python",
   "name": "python3"
  },
  "language_info": {
   "codemirror_mode": {
    "name": "ipython",
    "version": 3
   },
   "file_extension": ".py",
   "mimetype": "text/x-python",
   "name": "python",
   "nbconvert_exporter": "python",
   "pygments_lexer": "ipython3",
   "version": "3.9.7"
  },
  "orig_nbformat": 4
 },
 "nbformat": 4,
 "nbformat_minor": 2
}
