{
 "cells": [
  {
   "cell_type": "code",
   "execution_count": 1,
   "metadata": {},
   "outputs": [],
   "source": [
    "# 400 meter coordinate accuracy\n",
    "# 1923 earliest year\n",
    "import pandas as pd\n",
    "\n",
    "pd.set_option(\"display.max_columns\", None)\n",
    "# pd.set_option('display.max_rows', None)\n",
    "# pd.set_option('display.max_columns', None)\n",
    "# pd.set_option('display.width', None)\n",
    "# pd.set_option('display.max_colwidth', None)\n"
   ]
  },
  {
   "cell_type": "code",
   "execution_count": 2,
   "metadata": {},
   "outputs": [],
   "source": [
    "species_path = input(\"Enter the file path: \")\n",
    "\n",
    "# species = pd.read_parquet(species_path)\n",
    "species = pd.read_json(species_path)\n"
   ]
  },
  {
   "cell_type": "code",
   "execution_count": null,
   "metadata": {},
   "outputs": [],
   "source": [
    "species\n"
   ]
  },
  {
   "cell_type": "code",
   "execution_count": 3,
   "metadata": {},
   "outputs": [],
   "source": [
    "ecoregions_path = input(\"Enter the file path: \")\n",
    "\n",
    "ecoregions = pd.read_json(ecoregions_path)\n"
   ]
  },
  {
   "cell_type": "code",
   "execution_count": null,
   "metadata": {},
   "outputs": [],
   "source": [
    "ecoregions\n"
   ]
  },
  {
   "cell_type": "code",
   "execution_count": 4,
   "metadata": {},
   "outputs": [],
   "source": [
    "# reset index of species and ecoregions\n",
    "species.reset_index(drop=True, inplace=True)\n",
    "ecoregions.reset_index(drop=True, inplace=True)\n"
   ]
  },
  {
   "cell_type": "code",
   "execution_count": 5,
   "metadata": {},
   "outputs": [],
   "source": [
    "rankedArray = []\n",
    "for i in range(len(species)):\n",
    "    result = species.loc[i]\n",
    "    rankedResult = {}\n",
    "    for curr in result[\"unique_id\"]:\n",
    "        rankedResult[curr] = rankedResult.get(curr, 0) + 1\n",
    "    rankedArray.append(rankedResult)\n",
    "\n",
    "rankedObject = {}\n",
    "for item in rankedArray:\n",
    "    for key in item:\n",
    "        if key not in rankedObject:\n",
    "            rankedObject[key] = item[key]\n",
    "        else:\n",
    "            rankedObject[key] += item[key]"
   ]
  },
  {
   "cell_type": "code",
   "execution_count": 6,
   "metadata": {},
   "outputs": [],
   "source": [
    "ranked_df = pd.DataFrame.from_dict(\n",
    "    rankedObject, orient=\"index\", columns=[\"species_count\"]\n",
    ")\n",
    "\n",
    "ranked_df[\"unique_id\"] = ranked_df.index\n",
    "\n",
    "# drop row where unique_id = '497' LOOK INTO WHY!!!(might be ranked array logic bug)\n",
    "ranked_df = ranked_df[ranked_df[\"unique_id\"] != \"497\"]\n"
   ]
  },
  {
   "cell_type": "code",
   "execution_count": 7,
   "metadata": {},
   "outputs": [],
   "source": [
    "ecoregions[\"unique_id\"] = ecoregions[\"unique_id\"].astype(str)\n",
    "\n",
    "ecoregions = pd.merge(\n",
    "    ecoregions, ranked_df, on=\"unique_id\", how=\"outer\", indicator=True\n",
    ")"
   ]
  },
  {
   "cell_type": "code",
   "execution_count": 8,
   "metadata": {},
   "outputs": [],
   "source": [
    "# replace nan with 0 in species_count column\n",
    "ecoregions[\"species_count\"] = ecoregions[\"species_count\"].fillna(0)\n",
    "\n",
    "# create a column for ranked_df called species_rank that ranks species by count, 1 being the highest\n",
    "ecoregions[\"species_rank\"] = ecoregions[\"species_count\"].rank(\n",
    "    ascending=False, method=\"first\"\n",
    ")"
   ]
  },
  {
   "cell_type": "code",
   "execution_count": 9,
   "metadata": {},
   "outputs": [],
   "source": [
    "ecoregions.drop([\"_merge\", \"_id\"], axis=1, inplace=True)\n"
   ]
  },
  {
   "cell_type": "code",
   "execution_count": 12,
   "metadata": {},
   "outputs": [],
   "source": [
    "# drop index from ecoregions\n",
    "ecoregions.reset_index(drop=True, inplace=True)\n"
   ]
  }
 ],
 "metadata": {
  "kernelspec": {
   "display_name": "eco",
   "language": "python",
   "name": "python3"
  },
  "language_info": {
   "codemirror_mode": {
    "name": "ipython",
    "version": 3
   },
   "file_extension": ".py",
   "mimetype": "text/x-python",
   "name": "python",
   "nbconvert_exporter": "python",
   "pygments_lexer": "ipython3",
   "version": "3.9.7"
  },
  "orig_nbformat": 4
 },
 "nbformat": 4,
 "nbformat_minor": 2
}
