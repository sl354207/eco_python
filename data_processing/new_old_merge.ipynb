{
 "cells": [
  {
   "cell_type": "code",
   "execution_count": null,
   "metadata": {},
   "outputs": [],
   "source": [
    "import pandas as pd\n",
    "import numpy as np\n",
    "\n",
    "pd.set_option(\"display.max_columns\", None)\n",
    "# pd.set_option('display.max_rows', 100)\n",
    "# pd.set_option('display.max_seq_items', 100)\n",
    "\n",
    "# 400 meter coordinate accuracy\n",
    "# 1923 earliest year"
   ]
  },
  {
   "cell_type": "code",
   "execution_count": null,
   "metadata": {},
   "outputs": [],
   "source": [
    "# read in new merged gbif_obis data\n",
    "new_path = input(\"Enter the file path: \")\n",
    "\n",
    "new = pd.read_parquet(new_path)\n"
   ]
  },
  {
   "cell_type": "code",
   "execution_count": null,
   "metadata": {},
   "outputs": [],
   "source": [
    "# read in old species data\n",
    "old_path = input(\"Enter the file path: \")\n",
    "\n",
    "# read in the old species data in json format\n",
    "old = pd.read_json(old_path)"
   ]
  },
  {
   "cell_type": "code",
   "execution_count": null,
   "metadata": {},
   "outputs": [],
   "source": [
    "old\n"
   ]
  },
  {
   "cell_type": "code",
   "execution_count": null,
   "metadata": {},
   "outputs": [],
   "source": [
    "species = old[\"scientific_name\"]"
   ]
  },
  {
   "cell_type": "code",
   "execution_count": null,
   "metadata": {},
   "outputs": [],
   "source": [
    "# check for strange x at beginning of species names and remove if necessary\n",
    "\n",
    "# old = old[\n",
    "#     ~old.scientific_name.isin([\"× Heucherella\", \"×Elyhordeum schaackianum\", \"×Elyleymus aleuticus\"])\n",
    "# ]"
   ]
  },
  {
   "cell_type": "code",
   "execution_count": null,
   "metadata": {},
   "outputs": [],
   "source": [
    "# check for species names that longer than 2 words and remove if necessary\n",
    "species_values = np.array([len(word.split()) for word in species])\n",
    "\n",
    "# find the max value in species_values\n",
    "max_value = np.max(species_values)\n"
   ]
  },
  {
   "cell_type": "code",
   "execution_count": null,
   "metadata": {},
   "outputs": [],
   "source": [
    "# if value at index i in species_values is greater than 2, add the value at the same index in species_unique to a new list\n",
    "species_2 = []\n",
    "for i in range(len(species_values)):\n",
    "    if species_values[i] > 2:\n",
    "        species_2.append(species[i])\n"
   ]
  },
  {
   "cell_type": "code",
   "execution_count": null,
   "metadata": {},
   "outputs": [],
   "source": [
    "# remove values from species that are greater than 2\n",
    "\n",
    "for i in range(len(species_2)):\n",
    "    old = old[old.scientific_name != species_2[i]]"
   ]
  },
  {
   "cell_type": "code",
   "execution_count": null,
   "metadata": {},
   "outputs": [],
   "source": [
    "del species_2, species_values, max_value, i, species\n"
   ]
  },
  {
   "cell_type": "code",
   "execution_count": null,
   "metadata": {},
   "outputs": [],
   "source": [
    "merged = pd.merge(new, old, how=\"left\", on=[\"scientific_name\"], indicator=True)"
   ]
  },
  {
   "cell_type": "code",
   "execution_count": null,
   "metadata": {},
   "outputs": [],
   "source": [
    "# keep columns with less missing values\n",
    "\n",
    "kingdom_x_missing = merged[\"kingdom_x\"].isna().sum()\n",
    "\n",
    "kingdom_y_missing = merged[\"kingdom_y\"].isna().sum()\n",
    "\n",
    "# drop the kingdom column from merged that contains more missing values\n",
    "if kingdom_x_missing > kingdom_y_missing:\n",
    "    merged = merged.drop([\"kingdom_x\"], axis=1)\n",
    "    merged.rename(columns={\"kingdom_y\": \"kingdom\"}, inplace=True)\n",
    "else:\n",
    "    merged = merged.drop([\"kingdom_y\"], axis=1)\n",
    "    merged.rename(columns={\"kingdom_x\": \"kingdom\"}, inplace=True)\n",
    "\n",
    "phylum_x_missing = merged[\"phylum_x\"].isna().sum()\n",
    "\n",
    "phylum_y_missing = merged[\"phylum_y\"].isna().sum()\n",
    "\n",
    "# drop the phylum column from merged that contains more missing values\n",
    "\n",
    "if phylum_x_missing > phylum_y_missing:\n",
    "    merged = merged.drop([\"phylum_x\"], axis=1)\n",
    "    merged.rename(columns={\"phylum_y\": \"phylum\"}, inplace=True)\n",
    "else:\n",
    "    merged = merged.drop([\"phylum_y\"], axis=1)\n",
    "    merged.rename(columns={\"phylum_x\": \"phylum\"}, inplace=True)\n",
    "\n",
    "# find sum of missing values in merged['class_x']\n",
    "class_x_missing = merged[\"class_x\"].isna().sum()\n",
    "\n",
    "class_y_missing = merged[\"class_y\"].isna().sum()\n",
    "\n",
    "# drop the class column from merged that contains more missing values\n",
    "if class_x_missing > class_y_missing:\n",
    "    merged = merged.drop([\"class_x\"], axis=1)\n",
    "    merged.rename(columns={\"class_y\": \"class\"}, inplace=True)\n",
    "else:\n",
    "    merged = merged.drop([\"class_y\"], axis=1)\n",
    "    merged.rename(columns={\"class_x\": \"class\"}, inplace=True)\n",
    "\n",
    "# check\n",
    "class_missing = merged[\"class\"].isna().sum()\n",
    "\n",
    "order_x_missing = merged[\"order_x\"].isna().sum()\n",
    "\n",
    "order_y_missing = merged[\"order_y\"].isna().sum()\n",
    "\n",
    "# drop the order column from merged that contains more missing values\n",
    "\n",
    "if order_x_missing > order_y_missing:\n",
    "    merged = merged.drop([\"order_x\"], axis=1)\n",
    "    merged.rename(columns={\"order_y\": \"order\"}, inplace=True)\n",
    "else:\n",
    "    merged = merged.drop([\"order_y\"], axis=1)\n",
    "    merged.rename(columns={\"order_x\": \"order\"}, inplace=True)\n",
    "\n",
    "family_x_missing = merged[\"family_x\"].isna().sum()\n",
    "\n",
    "family_y_missing = merged[\"family_y\"].isna().sum()\n",
    "\n",
    "# drop the family column from merged that contains more missing values\n",
    "\n",
    "if family_x_missing > family_y_missing:\n",
    "    merged = merged.drop([\"family_x\"], axis=1)\n",
    "    merged.rename(columns={\"family_y\": \"family\"}, inplace=True)\n",
    "else:\n",
    "    merged = merged.drop([\"family_y\"], axis=1)\n",
    "    merged.rename(columns={\"family_x\": \"family\"}, inplace=True)\n",
    "\n",
    "\n",
    "genus_x_missing = merged[\"genus_x\"].isna().sum()\n",
    "\n",
    "genus_y_missing = merged[\"genus_y\"].isna().sum()\n",
    "\n",
    "# drop the genus column from merged that contains more missing values\n",
    "\n",
    "if genus_x_missing > genus_y_missing:\n",
    "    merged = merged.drop([\"genus_x\"], axis=1)\n",
    "    merged.rename(columns={\"genus_y\": \"genus\"}, inplace=True)\n",
    "else:\n",
    "    merged = merged.drop([\"genus_y\"], axis=1)\n",
    "    merged.rename(columns={\"genus_x\": \"genus\"}, inplace=True)"
   ]
  },
  {
   "cell_type": "code",
   "execution_count": null,
   "metadata": {},
   "outputs": [],
   "source": [
    "del (\n",
    "    genus_y_missing,\n",
    "    genus_x_missing,\n",
    "    family_y_missing,\n",
    "    family_x_missing,\n",
    "    order_y_missing,\n",
    "    order_x_missing,\n",
    "    class_y_missing,\n",
    "    class_x_missing,\n",
    "    phylum_y_missing,\n",
    "    phylum_x_missing,\n",
    "    kingdom_y_missing,\n",
    "    kingdom_x_missing,\n",
    "    class_missing,\n",
    ")"
   ]
  },
  {
   "cell_type": "code",
   "execution_count": null,
   "metadata": {},
   "outputs": [],
   "source": [
    "merged\n"
   ]
  },
  {
   "cell_type": "code",
   "execution_count": null,
   "metadata": {},
   "outputs": [],
   "source": [
    "merged = merged.drop([\"unique_id_y\", \"rights_y\", \"_merge\"], axis=1)\n",
    "\n",
    "merged.rename(columns={\"unique_id_x\": \"unique_id\",\n",
    "              \"rights_x\": \"rights\"}, inplace=True)\n"
   ]
  },
  {
   "cell_type": "code",
   "execution_count": null,
   "metadata": {},
   "outputs": [],
   "source": [
    "merged\n"
   ]
  },
  {
   "cell_type": "code",
   "execution_count": null,
   "metadata": {},
   "outputs": [],
   "source": [
    "merged = merged[\n",
    "    [\n",
    "        \"kingdom\",\n",
    "        \"phylum\",\n",
    "        \"class\",\n",
    "        \"order\",\n",
    "        \"family\",\n",
    "        \"genus\",\n",
    "        \"scientific_name\",\n",
    "        \"common_name\",\n",
    "        \"species_type\",\n",
    "        \"unique_id\",\n",
    "        \"rights\",\n",
    "    ]\n",
    "]"
   ]
  },
  {
   "cell_type": "code",
   "execution_count": 32,
   "metadata": {},
   "outputs": [],
   "source": [
    "# read cleaned df into a parquet file where user can input the file path\n",
    "df_merge_path = input(\"Enter the file path: \")\n",
    "\n",
    "\n",
    "# write df to parquet file using pandas to_parquet\n",
    "merged.to_parquet(df_merge_path)\n"
   ]
  }
 ],
 "metadata": {
  "kernelspec": {
   "display_name": "eco",
   "language": "python",
   "name": "python3"
  },
  "language_info": {
   "codemirror_mode": {
    "name": "ipython",
    "version": 3
   },
   "file_extension": ".py",
   "mimetype": "text/x-python",
   "name": "python",
   "nbconvert_exporter": "python",
   "pygments_lexer": "ipython3",
   "version": "3.9.7"
  },
  "orig_nbformat": 4
 },
 "nbformat": 4,
 "nbformat_minor": 2
}
