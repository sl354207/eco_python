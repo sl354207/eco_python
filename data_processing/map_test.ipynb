{
 "cells": [
  {
   "cell_type": "code",
   "execution_count": 1,
   "metadata": {},
   "outputs": [],
   "source": [
    "import pandas as pd\n",
    "import geopandas as gpd\n",
    "import rasterio\n",
    "import rasterio.features\n",
    "import rasterio.warp\n",
    "from rasterio.plot import show\n",
    "from matplotlib import pyplot\n",
    "from bs4 import BeautifulSoup\n",
    "import requests\n",
    "import time\n",
    "import json"
   ]
  },
  {
   "cell_type": "code",
   "execution_count": null,
   "metadata": {},
   "outputs": [],
   "source": [
    "# import pyogrio; pyogrio.list_drivers()\n",
    "\n",
    "# import fiona; fiona.supported_drivers"
   ]
  },
  {
   "cell_type": "code",
   "execution_count": 2,
   "metadata": {},
   "outputs": [],
   "source": [
    "# map = gpd.read_file(\n",
    "#     \"/media/muskrat/060A9B8E0A9B78FF/eco_data/feow/feow-map.zip!GIS_hs_snapped\"\n",
    "# )\n",
    "# map = gpd.read_file(\"/media/muskrat/060A9B8E0A9B78FF/eco_data/soil_maps/wss_gsmsoil_US_[2016-10-13]/wss_gsmsoil_US_[2016-10-13]/spatial/gsmsoilmu_a_us.shp\")\n",
    "# map = gpd.read_file(\n",
    "#     \"/media/muskrat/060A9B8E0A9B78FF/eco_data/soil_maps/wss_SSA_OH009_soildb_OH_2003_[2023-08-31]/OH009/spatial/soilmu_a_oh009.shp\"\n",
    "# )\n",
    "# map = rasterio.open(\n",
    "#     \"/media/muskrat/060A9B8E0A9B78FF/eco_data/soil_maps/HWSD2_RASTER/HWSD2.bil\"\n",
    "# )\n",
    "\n",
    "map = gpd.read_file(\"/media/muskrat/T7 Shield/eco_data/v4/maps/final/DMSW.geojson\")"
   ]
  },
  {
   "cell_type": "code",
   "execution_count": null,
   "metadata": {},
   "outputs": [],
   "source": [
    "map"
   ]
  },
  {
   "cell_type": "code",
   "execution_count": 4,
   "metadata": {},
   "outputs": [],
   "source": [
    "map.crs"
   ]
  },
  {
   "cell_type": "code",
   "execution_count": null,
   "metadata": {},
   "outputs": [],
   "source": [
    "# plot map with bounding box\n",
    "\n",
    "# show((map, 1), cmap=\"viridis\")\n",
    "\n",
    "# pyplot.imshow(map.read(1))\n",
    "\n",
    "\n",
    "# pyplot.show()"
   ]
  },
  {
   "cell_type": "code",
   "execution_count": null,
   "metadata": {},
   "outputs": [],
   "source": [
    "# with rasterio.open(\n",
    "#     \"/media/muskrat/060A9B8E0A9B78FF/eco_data/soil_maps/HWSD2_RASTER/HWSD2.bil\"\n",
    "# ) as dataset:\n",
    "\n",
    "#     # read dataset metadata\n",
    "#     # print(dataset.profile)\n",
    "\n",
    "#     show(dataset)"
   ]
  },
  {
   "cell_type": "code",
   "execution_count": 3,
   "metadata": {},
   "outputs": [],
   "source": [
    "with rasterio.open(\n",
    "    \"/media/muskrat/060A9B8E0A9B78FF/eco_data/soil_maps/HWSD2_RASTER/HWSD2.bil\"\n",
    ") as dataset:\n",
    "\n",
    "    # Read the dataset's valid data mask as a ndarray.\n",
    "    mask = dataset.dataset_mask()\n",
    "\n",
    "    # map equals empty geodataframe\n",
    "#     finish_dict = {\"type\": \"FeatureCollection\", \"features\": []}\n",
    "\n",
    "#     # Extract feature shapes and values from the array.\n",
    "#     for geom, val in rasterio.features.shapes(mask, transform=dataset.transform):\n",
    "\n",
    "#         # Transform shapes from the dataset's own coordinate\n",
    "#         # reference system to CRS84 (EPSG:4326).\n",
    "#         geom = rasterio.warp.transform_geom(dataset.crs, \"EPSG:4326\", geom, precision=6)\n",
    "\n",
    "#         # Create a GeoDataFrame from the shapes and values\n",
    "#         # and add it to the map\n",
    "#         # map = map.append(gpd.GeoDataFrame({'value': val}, geometry=[geom], index=[val]))\n",
    "#         # print(geom)\n",
    "#         init_dict = {\"type\": \"Feature\", \"properties\": {\"value\": val}, \"geometry\": geom}\n",
    "\n",
    "#         finish_dict[\"features\"].append(init_dict)\n",
    "\n",
    "# # write to geojson\n",
    "# with open(\"/media/muskrat/T7 Shield/eco_data/v3/hwsd2/HWSD2.geojson\", \"w\") as f:\n",
    "#     json.dump(finish_dict, f)"
   ]
  },
  {
   "cell_type": "code",
   "execution_count": null,
   "metadata": {},
   "outputs": [],
   "source": [
    "# find unique values in mask\n",
    "\n",
    "# unique = list(set(mask.flatten()))\n",
    "\n",
    "# unique"
   ]
  },
  {
   "cell_type": "code",
   "execution_count": null,
   "metadata": {},
   "outputs": [],
   "source": [
    "map.plot()"
   ]
  },
  {
   "cell_type": "code",
   "execution_count": null,
   "metadata": {},
   "outputs": [],
   "source": [
    "# plot map with x and y limits\n",
    "xmin, ymin, xmax, ymax = (-82.1, 39.3, -82, 39.5)\n",
    "\n",
    "# base = map.plot(color=\"white\", edgecolor=\"black\")\n",
    "ax = map.plot()\n",
    "ax.set_xlim(xmin, xmax)\n",
    "ax.set_ylim(ymin, ymax)\n",
    "# ax.invert_xaxis()"
   ]
  },
  {
   "cell_type": "code",
   "execution_count": null,
   "metadata": {},
   "outputs": [],
   "source": [
    "# GET FEOW IDS\n",
    "\n",
    "# for i in range of 0 to 29 including 29\n",
    "trs = []\n",
    "for i in range(1, 30, 1):\n",
    "    time.sleep(10)\n",
    "    url = f\"https://www.feow.org/ecoregions/list?page={i}\"\n",
    "\n",
    "    print(url)\n",
    "\n",
    "    page = requests.get(url)\n",
    "\n",
    "    soup = BeautifulSoup(page.content, \"html.parser\")\n",
    "\n",
    "    tr = soup.find_all(\"tr\")\n",
    "\n",
    "    trs.extend(tr)\n",
    "\n",
    "trs"
   ]
  },
  {
   "cell_type": "code",
   "execution_count": null,
   "metadata": {},
   "outputs": [],
   "source": [
    "# remove value at trs[0]\n",
    "\n",
    "trs.pop(0)\n",
    "\n",
    "trs"
   ]
  },
  {
   "cell_type": "code",
   "execution_count": null,
   "metadata": {},
   "outputs": [],
   "source": [
    "# for each tr in trs remove tr that contains th tag with data-field=\"id\"\n",
    "\n",
    "for tr in trs:\n",
    "    if tr.find(\"th\", {\"data-field\": \"id\"}):\n",
    "        trs.remove(tr)\n",
    "\n",
    "trs"
   ]
  },
  {
   "cell_type": "code",
   "execution_count": null,
   "metadata": {},
   "outputs": [],
   "source": [
    "# create dataframe with columns id and name\n",
    "\n",
    "df = pd.DataFrame(columns=[\"id\", \"name\"])\n",
    "\n",
    "for tr in trs:\n",
    "    # print(tr.find(\"td\").text)\n",
    "    id = tr.find(\"td\").text\n",
    "\n",
    "    # print(tr.find('a').text)\n",
    "    name = tr.find(\"a\").text\n",
    "    # remove \\n from name\n",
    "    name = name.replace(\"\\n\", \"\")\n",
    "\n",
    "    df = df.append({\"id\": id, \"name\": name}, ignore_index=True)\n",
    "\n",
    "df"
   ]
  },
  {
   "cell_type": "code",
   "execution_count": null,
   "metadata": {},
   "outputs": [],
   "source": [
    "# rename column feow_id to id in map\n",
    "\n",
    "map.rename(columns={\"FEOW_ID\": \"id\"}, inplace=True)\n",
    "\n",
    "map"
   ]
  },
  {
   "cell_type": "code",
   "execution_count": null,
   "metadata": {},
   "outputs": [],
   "source": [
    "# remove area_skm column from map\n",
    "\n",
    "map.drop(columns=[\"AREA_SKM\"], inplace=True)\n",
    "\n",
    "map"
   ]
  },
  {
   "cell_type": "code",
   "execution_count": null,
   "metadata": {},
   "outputs": [],
   "source": [
    "# convert df id column to int\n",
    "\n",
    "df[\"id\"] = df[\"id\"].astype(\"int\")\n",
    "\n",
    "df"
   ]
  },
  {
   "cell_type": "code",
   "execution_count": null,
   "metadata": {},
   "outputs": [],
   "source": [
    "# merge df and map on id\n",
    "\n",
    "merge = pd.merge(df, map, on=\"id\")\n",
    "\n",
    "merge"
   ]
  },
  {
   "cell_type": "code",
   "execution_count": null,
   "metadata": {},
   "outputs": [],
   "source": [
    "# convert merge to geodataframe\n",
    "\n",
    "merge = gpd.GeoDataFrame(merge, geometry=\"geometry\")\n",
    "\n",
    "merge"
   ]
  },
  {
   "cell_type": "code",
   "execution_count": null,
   "metadata": {},
   "outputs": [],
   "source": [
    "# set crs to epsg:4326\n",
    "\n",
    "merge = merge.set_crs(epsg=4326)\n",
    "\n",
    "merge"
   ]
  },
  {
   "cell_type": "code",
   "execution_count": null,
   "metadata": {},
   "outputs": [],
   "source": [
    "merge.crs"
   ]
  },
  {
   "cell_type": "code",
   "execution_count": null,
   "metadata": {},
   "outputs": [],
   "source": [
    "# write merge to geojson\n",
    "\n",
    "merge.to_file(\n",
    "    \"/media/muskrat/T7 Shield/eco_data/v3/feow/feow.geojson\", driver=\"GeoJSON\"\n",
    ")"
   ]
  },
  {
   "cell_type": "code",
   "execution_count": null,
   "metadata": {},
   "outputs": [],
   "source": [
    "# HWSD\n",
    "\n",
    "map = gpd.read_file(\"/media/muskrat/T7 Shield/eco_data/v3/hwsd2/HWSD2.geojson\")\n",
    "\n",
    "map"
   ]
  },
  {
   "cell_type": "code",
   "execution_count": 5,
   "metadata": {},
   "outputs": [],
   "source": [
    "map.crs"
   ]
  },
  {
   "cell_type": "code",
   "execution_count": null,
   "metadata": {},
   "outputs": [],
   "source": [
    "map.geometry"
   ]
  },
  {
   "cell_type": "code",
   "execution_count": null,
   "metadata": {},
   "outputs": [],
   "source": [
    "# create slice of map that contains first ten rows of map\n",
    "\n",
    "slice = map[47753:47754]\n",
    "\n",
    "slice"
   ]
  },
  {
   "cell_type": "code",
   "execution_count": null,
   "metadata": {},
   "outputs": [],
   "source": [
    "slice.plot()"
   ]
  },
  {
   "cell_type": "code",
   "execution_count": 4,
   "metadata": {},
   "outputs": [],
   "source": [
    "# remove value column from map\n",
    "\n",
    "map = map.drop(columns=[\"value\"])\n",
    "\n",
    "slice = slice.drop(columns=[\"value\"])\n",
    "\n",
    "# map"
   ]
  },
  {
   "cell_type": "code",
   "execution_count": null,
   "metadata": {},
   "outputs": [],
   "source": [
    "slice.crs"
   ]
  },
  {
   "cell_type": "code",
   "execution_count": null,
   "metadata": {},
   "outputs": [],
   "source": [
    "# map.plot(alpha=0.5, edgecolor=\"k\")\n",
    "# map.boundary.plot()\n",
    "\n",
    "\n",
    "# xmin, ymin, xmax, ymax = (-150, 60, -50, 84)\n",
    "\n",
    "base = map.plot(color=\"white\", edgecolor=\"black\")\n",
    "\n",
    "ax = slice.plot(ax=base, cmap=\"viridis\")\n",
    "# ax.set_xlim(xmin, xmax)\n",
    "# ax.set_ylim(ymin, ymax)"
   ]
  },
  {
   "cell_type": "code",
   "execution_count": null,
   "metadata": {},
   "outputs": [],
   "source": [
    "# DSMW\n",
    "\n",
    "# remove columns COUNTRY, SQKM, CNTNAME, CNTCODE, PERMAFROST,MISCLU1, MISCLU2, PHASE1, PHASE2,\n",
    "\n",
    "map = map.drop(\n",
    "    columns=[\n",
    "        \"COUNTRY\",\n",
    "        \"SQKM\",\n",
    "        \"CNTNAME\",\n",
    "        \"CNTCODE\",\n",
    "        \"PERMAFROST\",\n",
    "        \"MISCLU1\",\n",
    "        \"MISCLU2\",\n",
    "        \"PHASE1\",\n",
    "        \"PHASE2\",\n",
    "    ]\n",
    ")\n",
    "\n",
    "map"
   ]
  },
  {
   "cell_type": "code",
   "execution_count": null,
   "metadata": {},
   "outputs": [],
   "source": [
    "# print unique values of domsoi\n",
    "\n",
    "map[\"DOMSOI\"].unique()"
   ]
  },
  {
   "cell_type": "code",
   "execution_count": null,
   "metadata": {},
   "outputs": [],
   "source": [
    "specific_soil_name = {\n",
    "    \"A\": \"ACRISOLS\",\n",
    "    \"Ao\": \"Orthic Acrisols\",\n",
    "    \"Af\": \"Ferric Acrisols\",\n",
    "    \"Ah\": \"Humic Acrisols\",\n",
    "    \"Ap\": \"Plinthic Acrisols\",\n",
    "    \"Ag\": \"Gleyic Acrisols\",\n",
    "    \"B\": \"CAMBISOLS\",\n",
    "    \"Be\": \"Eutric Cambisols\",\n",
    "    \"Bd\": \"Dystric Cambisols\",\n",
    "    \"Bh\": \"Humic Cambisols\",\n",
    "    \"Bg\": \"Gleyic Cambisols\",\n",
    "    \"Bx\": \"Gelic Cambisols\",\n",
    "    \"Bk\": \"Calcic Cambisols\",\n",
    "    \"Bc\": \"Chromic Cambisols\",\n",
    "    \"Bv\": \"Vertic Cambisols\",\n",
    "    \"Bf\": \"Ferralic Cambisols\",\n",
    "    \"C\": \"CHERNOZEMS\",\n",
    "    \"Ch\": \"Haplic Chernozems\",\n",
    "    \"Ck\": \"Calcic Chernozems\",\n",
    "    \"Cl\": \"Luvic Chernozems\",\n",
    "    \"Cg\": \"Glossic Chernozems\",\n",
    "    \"D\": \"PODZOLUVISOLS\",\n",
    "    \"De\": \"Eutric Podzoluvisols\",\n",
    "    \"Dd\": \"Dystric Podzoluvisols\",\n",
    "    \"Dg\": \"Gleyic Podzoluvisols\",\n",
    "    \"E\": \"RENDZINAS\",\n",
    "    \"F\": \"FERRALSOLS\",\n",
    "    \"Fo\": \"Orthic Ferralsols\",\n",
    "    \"Fx\": \"Xanthic Ferralsols\",\n",
    "    \"Fr\": \"Rhodic Ferralsols\",\n",
    "    \"Fh\": \"Humic Ferralsols\",\n",
    "    \"Fa\": \"Acric Ferralsols\",\n",
    "    \"Fp\": \"Plinthic Ferralsols\",\n",
    "    \"G\": \"GLEYSOLS\",\n",
    "    \"Ge\": \"Eutric Gleysols\",\n",
    "    \"Gc\": \"Calcaric Gleysols\",\n",
    "    \"Gd\": \"Dystric Gleysols\",\n",
    "    \"Gm\": \"Mollic Gleysols\",\n",
    "    \"Gh\": \"Humic Gleysols\",\n",
    "    \"Gp\": \"Plinthic Gleysols\",\n",
    "    \"Gx\": \"Gelic Gleysols\",\n",
    "    \"H\": \"PHAEOZEMS\",\n",
    "    \"Hh\": \"Haplic Phaeozems\",\n",
    "    \"Hc\": \"Calcaric Phaeozems\",\n",
    "    \"Hl\": \"Luvic Phaeozems\",\n",
    "    \"Hg\": \"Gleyic Phaeozems\",\n",
    "    \"I\": \"LITHOSOLS\",\n",
    "    \"J\": \"FLUVISOLS\",\n",
    "    \"Je\": \"Eutric Fluvisols\",\n",
    "    \"Jc\": \"Calcaric Fluvisols\",\n",
    "    \"Jd\": \"Dystric Fluvisols\",\n",
    "    \"Jt\": \"Thionic Fluvisols\",\n",
    "    \"K\": \"KASTANOZEMS\",\n",
    "    \"Kh\": \"Haplic Kastanozems\",\n",
    "    \"Kk\": \"Calcic Kastanozems\",\n",
    "    \"Kl\": \"Luvic Kastanozems\",\n",
    "    \"L\": \"LUVISOLS\",\n",
    "    \"Lo\": \"Orthic Luvisols\",\n",
    "    \"Lc\": \"Chromic Luvisols\",\n",
    "    \"Lk\": \"Calcic Luvisols\",\n",
    "    \"Lv\": \"Vertic Luvisols\",\n",
    "    \"Lf\": \"Ferric Luvisols\",\n",
    "    \"La\": \"Albic Luvisols\",\n",
    "    \"Lp\": \"Plinthic Luvisols\",\n",
    "    \"Lg\": \"Gleyic Luvisols\",\n",
    "    \"M\": \"GREYZEMS\",\n",
    "    \"Mo\": \"Orthic Greyzems\",\n",
    "    \"Mg\": \"Gleyic Greyzems\",\n",
    "    \"N\": \"NITOSOLS\",\n",
    "    \"Ne\": \"Eutric Nitosols\",\n",
    "    \"Nd\": \"Dystric Nitosols\",\n",
    "    \"Nh\": \"Humic Nitosols\",\n",
    "    \"O\": \"HISTOSOLS\",\n",
    "    \"Oe\": \"Eutric Histosols\",\n",
    "    \"Od\": \"Dystric Histosols\",\n",
    "    \"Ox\": \"Gelic Histosols\",\n",
    "    \"P\": \"PODZOLS\",\n",
    "    \"Po\": \"Orthic Podzols\",\n",
    "    \"Pl\": \"Leptic Podzols\",\n",
    "    \"Pf\": \"Ferric Podzols\",\n",
    "    \"Ph\": \"Humic Podzols\",\n",
    "    \"Pp\": \"Placic Podzols\",\n",
    "    \"Pg\": \"Gleyic Podzols\",\n",
    "    \"Q\": \"ARENOSOLS\",\n",
    "    \"Qc\": \"Cambic Arenosols\",\n",
    "    \"Ql\": \"Luvic Arenosols\",\n",
    "    \"Qf\": \"Ferralic Arenosols\",\n",
    "    \"Qa\": \"Albic Arenosols\",\n",
    "    \"R\": \"REGOSOLS\",\n",
    "    \"Re\": \"Eutric Gleysols\",\n",
    "    \"Rc\": \"Calcaric Regosols\",\n",
    "    \"Rd\": \"Dystric Regosols\",\n",
    "    \"Rx\": \"Gelic Regosols\",\n",
    "    \"S\": \"SOLONETZ\",\n",
    "    \"So\": \"Orthic Solonetz\",\n",
    "    \"Sm\": \"Mollic Solonetz\",\n",
    "    \"Sg\": \"Gleyic Solonetz\",\n",
    "    \"T\": \"ANDOSOLS\",\n",
    "    \"To\": \"Ochric Andosols\",\n",
    "    \"Tm\": \"Mollic Andosols\",\n",
    "    \"Th\": \"Humic Andosols\",\n",
    "    \"Tv\": \"Vitric Andosols\",\n",
    "    \"U\": \"RANKERS\",\n",
    "    \"V\": \"VERTISOLS\",\n",
    "    \"Vp\": \"Pellic Vertisols\",\n",
    "    \"Vc\": \"Chromic Vertisols\",\n",
    "    \"W\": \"PLANOSOLS\",\n",
    "    \"We\": \"Eutric Planosols\",\n",
    "    \"Wd\": \"Dystric Planosols\",\n",
    "    \"Wm\": \"Mollic Planosols\",\n",
    "    \"Wh\": \"Humic Planosols\",\n",
    "    \"Ws\": \"Solodic Planosols\",\n",
    "    \"Wx\": \"Gelic Planosols\",\n",
    "    \"X\": \"XEROSOLS\",\n",
    "    \"Xh\": \"Haplic Xerosols\",\n",
    "    \"Xk\": \"Calcic Xerosols\",\n",
    "    \"Xy\": \"Gypsic Xerosols\",\n",
    "    \"Xl\": \"Luvic Xerosols\",\n",
    "    \"Y\": \"YERMOSOLS\",\n",
    "    \"Yh\": \"Haplic Yermosols\",\n",
    "    \"Yk\": \"Calcic Yermosols\",\n",
    "    \"Yy\": \"Gypsic Yermosols\",\n",
    "    \"Yl\": \"Luvic Yermosols\",\n",
    "    \"Yt\": \"Takyric Yermosols\",\n",
    "    \"Z\": \"SOLONCHAKS\",\n",
    "    \"Zo\": \"Orthic Solonchaks\",\n",
    "    \"Zm\": \"Mollic Solonchaks\",\n",
    "    \"Zt\": \"Takyric Solonchaks\",\n",
    "    \"Zg\": \"Gleyic Solonchaks\",\n",
    "    \"DS\": \"Dunes or shifting sands\",\n",
    "    \"ST\": \"Salt flats\",\n",
    "    \"RK\": \"Rock debris or desert detritus\",\n",
    "    \"WR\": \"Inland water or ocean\",\n",
    "    \"GL\": \"Glacier\",\n",
    "    \"ND\": \"No data\",\n",
    "}\n",
    "\n",
    "# create column ssn in map where the value is the value of the key in specific_soil_name that matches the value of DOMSOI in map\n",
    "\n",
    "map[\"ssn\"] = map[\"DOMSOI\"].map(specific_soil_name)\n",
    "\n",
    "map"
   ]
  },
  {
   "cell_type": "code",
   "execution_count": 20,
   "metadata": {},
   "outputs": [],
   "source": [
    "extras = {\n",
    "    \"DS\": \"Dunes or shifting sands\",\n",
    "    \"ST\": \"Salt flats\",\n",
    "    \"RK\": \"Rock debris or desert detritus\",\n",
    "    \"WR\": \"Inland water or ocean\",\n",
    "    \"GL\": \"Glacier\",\n",
    "    \"ND\": \"No data\",\n",
    "}\n",
    "\n",
    "# remove rows of map where DOMSOI value is in extras and put in new df\n",
    "\n",
    "extras_map = map[map[\"DOMSOI\"].isin(extras.keys())]\n",
    "\n",
    "no_extras_map = map[~map[\"DOMSOI\"].isin(extras.keys())]"
   ]
  },
  {
   "cell_type": "code",
   "execution_count": null,
   "metadata": {},
   "outputs": [],
   "source": [
    "extras_map[\"dsn\"] = map[\"DOMSOI\"].map(extras)\n",
    "\n",
    "extras_map"
   ]
  },
  {
   "cell_type": "code",
   "execution_count": null,
   "metadata": {},
   "outputs": [],
   "source": [
    "# map no_extras_map dsn value to first letter of value in DOMSOI column that matches key in specific_soil_name\n",
    "\n",
    "no_extras_map[\"dsn\"] = no_extras_map[\"DOMSOI\"].str[:1].map(specific_soil_name)\n",
    "\n",
    "no_extras_map"
   ]
  },
  {
   "cell_type": "code",
   "execution_count": null,
   "metadata": {},
   "outputs": [],
   "source": [
    "# concat no_extras_map and extras_map\n",
    "\n",
    "final = pd.concat([extras_map, no_extras_map])\n",
    "\n",
    "final"
   ]
  },
  {
   "cell_type": "code",
   "execution_count": null,
   "metadata": {},
   "outputs": [],
   "source": [
    "# print rows of final where dsn is missing\n",
    "final[final[\"dsn\"].isna()]"
   ]
  },
  {
   "cell_type": "code",
   "execution_count": null,
   "metadata": {},
   "outputs": [],
   "source": [
    "# read in xls file\n",
    "dmsw_soil_stats = pd.read_excel(\n",
    "    \"/media/muskrat/T7 Shield/eco_data/v3/maps/soil/DSMW/BasicFilesSC.xls\"\n",
    ")\n",
    "\n",
    "dmsw_soil_stats"
   ]
  },
  {
   "cell_type": "code",
   "execution_count": null,
   "metadata": {},
   "outputs": [],
   "source": [
    "# drop column unnamed: 0\n",
    "\n",
    "dmsw_soil_stats = dmsw_soil_stats.drop(columns=\"Unnamed: 0\")\n",
    "\n",
    "dmsw_soil_stats"
   ]
  },
  {
   "cell_type": "code",
   "execution_count": null,
   "metadata": {},
   "outputs": [],
   "source": [
    "# rename columns to values in first row\n",
    "\n",
    "dmsw_soil_stats.columns = dmsw_soil_stats.iloc[0]\n",
    "\n",
    "dmsw_soil_stats"
   ]
  },
  {
   "cell_type": "code",
   "execution_count": null,
   "metadata": {},
   "outputs": [],
   "source": [
    "# remove first row\n",
    "\n",
    "dmsw_soil_stats = dmsw_soil_stats.iloc[1:]\n",
    "\n",
    "dmsw_soil_stats"
   ]
  },
  {
   "cell_type": "code",
   "execution_count": null,
   "metadata": {},
   "outputs": [],
   "source": [
    "# drop phase code column\n",
    "\n",
    "dmsw_soil_stats = dmsw_soil_stats.drop(columns=\"Phase Code\")\n",
    "\n",
    "dmsw_soil_stats"
   ]
  },
  {
   "cell_type": "code",
   "execution_count": 34,
   "metadata": {},
   "outputs": [],
   "source": [
    "# reset index to start at 0\n",
    "\n",
    "dmsw_soil_stats.reset_index(drop=True, inplace=True)"
   ]
  },
  {
   "cell_type": "code",
   "execution_count": null,
   "metadata": {},
   "outputs": [],
   "source": [
    "dmsw_soil_stats[\"soil_texture\"] = \"unknown\"\n",
    "\n",
    "for i in range(len(dmsw_soil_stats)):\n",
    "    course = \"\"\n",
    "    medium = \"\"\n",
    "    fine = \"\"\n",
    "    if dmsw_soil_stats[\"% of MU with Coarse Texture\"][i] == 0:\n",
    "        course = \"\"\n",
    "    else:\n",
    "        course = f\"{dmsw_soil_stats['% of MU with Coarse Texture'][i]}% coarse\"\n",
    "    if dmsw_soil_stats[\"% of MU with Medium Texture\"][i] == 0:\n",
    "        medium = \"\"\n",
    "    else:\n",
    "        medium = f\"{dmsw_soil_stats['% of MU with Medium Texture'][i]}% medium\"\n",
    "    if dmsw_soil_stats[\"% of MU with Heavy Texture\"][i] == 0:\n",
    "        fine = \"\"\n",
    "    else:\n",
    "        fine = f\"{dmsw_soil_stats['% of MU with Heavy Texture'][i]}% fine\"\n",
    "\n",
    "    dmsw_soil_stats[\"soil_texture\"][i] = f\"{course} {medium} {fine}\"\n",
    "\n",
    "dmsw_soil_stats"
   ]
  },
  {
   "cell_type": "code",
   "execution_count": 36,
   "metadata": {},
   "outputs": [],
   "source": [
    "dmsw_soil_stats[\"soil_slope\"] = \"unknown\"\n",
    "\n",
    "for i in range(len(dmsw_soil_stats)):\n",
    "    flat = \"\"\n",
    "    rolling = \"\"\n",
    "    mountainous = \"\"\n",
    "    if dmsw_soil_stats[\"% of MU with Flat Topography\"][i] == 0:\n",
    "        flat = \"\"\n",
    "    else:\n",
    "        flat = f\"{dmsw_soil_stats['% of MU with Flat Topography'][i]}% flat\"\n",
    "    if dmsw_soil_stats[\"% of MU with Rolling Topography\"][i] == 0:\n",
    "        rolling = \"\"\n",
    "    else:\n",
    "        rolling = f\"{dmsw_soil_stats['% of MU with Rolling Topography'][i]}% rolling\"\n",
    "    if dmsw_soil_stats[\"% of MU with Mountaineous Topography\"][i] == 0:\n",
    "        mountainous = \"\"\n",
    "    else:\n",
    "        mountainous = (\n",
    "            f\"{dmsw_soil_stats['% of MU with Mountaineous Topography'][i]}% mountainous\"\n",
    "        )\n",
    "\n",
    "    dmsw_soil_stats[\"soil_slope\"][i] = f\"{flat} {rolling} {mountainous}\""
   ]
  },
  {
   "cell_type": "code",
   "execution_count": null,
   "metadata": {},
   "outputs": [],
   "source": [
    "dmsw_soil_stats"
   ]
  },
  {
   "cell_type": "code",
   "execution_count": null,
   "metadata": {},
   "outputs": [],
   "source": [
    "# drop columns % of MU with Flat Topography, % of MU with Rolling Topography, % of MU with Mountaineous Topography, % of MU with Coarse Texture, % of MU with Medium Texture, % of MU with Heavy Texture\n",
    "\n",
    "dmsw_soil_stats = dmsw_soil_stats.drop(\n",
    "    columns=[\n",
    "        \"% of MU with Flat Topography\",\n",
    "        \"% of MU with Rolling Topography\",\n",
    "        \"% of MU with Mountaineous Topography\",\n",
    "        \"% of MU with Coarse Texture\",\n",
    "        \"% of MU with Medium Texture\",\n",
    "        \"% of MU with Heavy Texture\",\n",
    "    ]\n",
    ")\n",
    "\n",
    "dmsw_soil_stats"
   ]
  },
  {
   "cell_type": "code",
   "execution_count": null,
   "metadata": {},
   "outputs": [],
   "source": [
    "# rename column % of Dominant Soil in the MU to dominant_soil_percentage\n",
    "\n",
    "dmsw_soil_stats = dmsw_soil_stats.rename(\n",
    "    columns={\"% of Dominant Soil in the MU\": \"dominant_soil_percentage\"}\n",
    ")\n",
    "\n",
    "dmsw_soil_stats"
   ]
  },
  {
   "cell_type": "code",
   "execution_count": null,
   "metadata": {},
   "outputs": [],
   "source": [
    "# rename dominant_soil_percentage to dominant_soil_type_percentage\n",
    "\n",
    "dmsw_soil_stats = dmsw_soil_stats.rename(\n",
    "    columns={\"dominant_soil_percentage\": \"dominant_soil_type_percentage\"}\n",
    ")\n",
    "\n",
    "# add % to dominant_soil_type_percentage\n",
    "\n",
    "dmsw_soil_stats[\"dominant_soil_type_percentage\"] = dmsw_soil_stats[\n",
    "    \"dominant_soil_type_percentage\"\n",
    "].astype(str)\n",
    "\n",
    "dmsw_soil_stats[\"dominant_soil_type_percentage\"] = (\n",
    "    dmsw_soil_stats[\"dominant_soil_type_percentage\"] + \"%\"\n",
    ")\n",
    "\n",
    "dmsw_soil_stats"
   ]
  },
  {
   "cell_type": "code",
   "execution_count": null,
   "metadata": {},
   "outputs": [],
   "source": [
    "# rename Record Number to SNUM\n",
    "\n",
    "dmsw_soil_stats = dmsw_soil_stats.rename(columns={\"Record Number\": \"SNUM\"})\n",
    "\n",
    "# merge dmsw_soil_stats with final on SNUM\n",
    "\n",
    "merged = pd.merge(final, dmsw_soil_stats, on=\"SNUM\", how=\"outer\")\n",
    "\n",
    "merged"
   ]
  },
  {
   "cell_type": "code",
   "execution_count": null,
   "metadata": {},
   "outputs": [],
   "source": [
    "# drop columns Mapping Unit Name, DOMSOI\n",
    "\n",
    "merged = merged.drop(columns=[\"Mapping Unit Name\", \"DOMSOI\"])\n",
    "\n",
    "merged"
   ]
  },
  {
   "cell_type": "code",
   "execution_count": null,
   "metadata": {},
   "outputs": [],
   "source": [
    "# rename SNUM to soil_id, ssn to specific_soil_name, and dsn to dominant_soil_name\n",
    "\n",
    "merged = merged.rename(\n",
    "    columns={\n",
    "        \"SNUM\": \"soil_id\",\n",
    "        \"ssn\": \"specific_soil_name\",\n",
    "        \"dsn\": \"dominant_soil_name\",\n",
    "    }\n",
    ")\n",
    "\n",
    "merged"
   ]
  },
  {
   "cell_type": "code",
   "execution_count": null,
   "metadata": {},
   "outputs": [],
   "source": [
    "# set crs to 4326\n",
    "\n",
    "merged = merged.set_crs(\"EPSG:4326\")\n",
    "merged.crs"
   ]
  },
  {
   "cell_type": "code",
   "execution_count": null,
   "metadata": {},
   "outputs": [],
   "source": [
    "# write to geojson\n",
    "\n",
    "merged.to_file(\n",
    "    \"/media/muskrat/T7 Shield/eco_data/v3/maps/soil/DMSW.geojson\", driver=\"GeoJSON\"\n",
    ")"
   ]
  },
  {
   "cell_type": "code",
   "execution_count": null,
   "metadata": {},
   "outputs": [],
   "source": [
    "# CREATE DB VERSION OF MAP\n",
    "def get_first_coord_pair(geom):\n",
    "    if geom.type == \"MultiPolygon\":\n",
    "        return geom.geoms[0].exterior.coords[0]\n",
    "    elif geom.type == \"Polygon\":\n",
    "        return geom.exterior.coords[0]\n",
    "    else:\n",
    "        raise ValueError(\"Unsupported geometry type\")\n",
    "\n",
    "\n",
    "map[\"coordinates\"] = map[\"geometry\"].apply(get_first_coord_pair)\n",
    "\n",
    "map"
   ]
  },
  {
   "cell_type": "code",
   "execution_count": null,
   "metadata": {},
   "outputs": [],
   "source": [
    "# convert map.coordinates to list\n",
    "\n",
    "map[\"coordinates\"] = map[\"coordinates\"].apply(lambda x: list(x))\n",
    "\n",
    "map"
   ]
  },
  {
   "cell_type": "code",
   "execution_count": null,
   "metadata": {},
   "outputs": [],
   "source": [
    "# drop geometry column and write map to json file\n",
    "\n",
    "map.drop(columns=[\"geometry\"], inplace=True)\n",
    "\n",
    "map"
   ]
  },
  {
   "cell_type": "code",
   "execution_count": null,
   "metadata": {},
   "outputs": [],
   "source": [
    "# convert map from geopandas dataframe to pandas dataframe\n",
    "\n",
    "map_pd = pd.DataFrame(map)\n",
    "\n",
    "map"
   ]
  },
  {
   "cell_type": "code",
   "execution_count": 8,
   "metadata": {},
   "outputs": [],
   "source": [
    "# write map_pd to json file\n",
    "\n",
    "map_pd.to_json(\n",
    "    \"/media/muskrat/T7 Shield/eco_data/v4/maps/db/DMSW.json\",\n",
    "    orient=\"records\",\n",
    "    force_ascii=False,\n",
    ")"
   ]
  }
 ],
 "metadata": {
  "kernelspec": {
   "display_name": "eco",
   "language": "python",
   "name": "python3"
  },
  "language_info": {
   "codemirror_mode": {
    "name": "ipython",
    "version": 3
   },
   "file_extension": ".py",
   "mimetype": "text/x-python",
   "name": "python",
   "nbconvert_exporter": "python",
   "pygments_lexer": "ipython3",
   "version": "3.9.7"
  }
 },
 "nbformat": 4,
 "nbformat_minor": 2
}
