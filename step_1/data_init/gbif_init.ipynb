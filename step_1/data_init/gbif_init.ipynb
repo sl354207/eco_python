{
 "cells": [
  {
   "cell_type": "code",
   "execution_count": 1,
   "metadata": {},
   "outputs": [],
   "source": [
    "import pandas as pd\n",
    "import vaex\n",
    "\n",
    "pd.set_option(\"display.max_columns\", None)\n",
    "# pd.set_option('display.max_rows', 100)\n",
    "# pd.set_option('display.max_seq_items', 100)\n",
    "\n",
    "# 400 meter coordinate accuracy\n",
    "# 1923 earliest year"
   ]
  },
  {
   "cell_type": "code",
   "execution_count": null,
   "metadata": {},
   "outputs": [],
   "source": [
    "# ask user to enter the file path and store the response in a variable\n",
    "file_input_path = input(\"Enter the file path: \")"
   ]
  },
  {
   "cell_type": "code",
   "execution_count": null,
   "metadata": {},
   "outputs": [],
   "source": [
    "# read the file using vaex.from_csv and use tab as separator, only load the columns you want and set the data types, then convert to hdf5 file.\n",
    "\n",
    "# use a smaller dataset to check which columns are needed\n",
    "\n",
    "# may need to play with dtypes to avoid errors(had to change from float64 to object on some columns)\n",
    "\n",
    "df = vaex.from_csv(\n",
    "    file_input_path,\n",
    "    sep=\"\\t\",\n",
    "    usecols=[\n",
    "        \"kingdom\",\n",
    "        \"phylum\",\n",
    "        \"class\",\n",
    "        \"order\",\n",
    "        \"family\",\n",
    "        \"genus\",\n",
    "        \"species\",\n",
    "        \"decimalLatitude\",\n",
    "        \"decimalLongitude\",\n",
    "        \"license\",\n",
    "        \"rightsHolder\",\n",
    "        \"coordinateUncertaintyInMeters\",\n",
    "        \"year\",\n",
    "        \"countryCode\",\n",
    "    ],\n",
    "    dtype={\n",
    "        \"kingdom\": \"category\",\n",
    "        \"phylum\": \"category\",\n",
    "        \"class\": \"category\",\n",
    "        \"order\": \"category\",\n",
    "        \"family\": \"category\",\n",
    "        \"genus\": \"category\",\n",
    "        \"species\": \"category\",\n",
    "        \"decimalLatitude\": \"object\",\n",
    "        \"decimalLongitude\": \"object\",\n",
    "        \"license\": \"category\",\n",
    "        \"rightsHolder\": \"object\",\n",
    "        \"coordinateUncertaintyInMeters\": \"object\",\n",
    "        \"year\": \"object\",\n",
    "        \"countryCode\": \"category\",\n",
    "    },\n",
    "    convert=True,\n",
    "    chunk_size=2_000_000,\n",
    ")"
   ]
  },
  {
   "cell_type": "code",
   "execution_count": 2,
   "metadata": {},
   "outputs": [],
   "source": [
    "for i, df in enumerate(\n",
    "    vaex.read_csv(\n",
    "        \"/media/muskrat/T7 Shield/eco_data/v4/occurences/ecoregions/gbif/0023670-240906103802322.csv\",\n",
    "        sep=\"\\t\",\n",
    "        usecols=[\n",
    "            \"kingdom\",\n",
    "            \"phylum\",\n",
    "            \"class\",\n",
    "            \"order\",\n",
    "            \"family\",\n",
    "            \"genus\",\n",
    "            \"species\",\n",
    "            \"decimalLatitude\",\n",
    "            \"decimalLongitude\",\n",
    "            \"license\",\n",
    "            \"rightsHolder\",\n",
    "            \"coordinateUncertaintyInMeters\",\n",
    "            \"year\",\n",
    "            \"countryCode\",\n",
    "        ],\n",
    "        dtype={\n",
    "            \"kingdom\": \"category\",\n",
    "            \"phylum\": \"category\",\n",
    "            \"class\": \"category\",\n",
    "            \"order\": \"category\",\n",
    "            \"family\": \"category\",\n",
    "            \"genus\": \"category\",\n",
    "            \"species\": \"category\",\n",
    "            \"decimalLatitude\": \"object\",\n",
    "            \"decimalLongitude\": \"object\",\n",
    "            \"license\": \"category\",\n",
    "            \"rightsHolder\": \"object\",\n",
    "            \"coordinateUncertaintyInMeters\": \"object\",\n",
    "            \"year\": \"object\",\n",
    "            \"countryCode\": \"category\",\n",
    "        },\n",
    "        chunk_size=5_000_000,\n",
    "    )\n",
    "):\n",
    "    # df = df[df.passenger_count < 6]\n",
    "    df.export_parquet(\n",
    "        f\"/media/muskrat/T7 Shield/eco_data/v4/occurences/ecoregions/gbif/park/chunk_{i}.parquet\"\n",
    "    )"
   ]
  },
  {
   "cell_type": "code",
   "execution_count": null,
   "metadata": {},
   "outputs": [],
   "source": [
    "df = vaex.open(\n",
    "    \"/media/muskrat/T7 Shield/eco_data/v4/occurences/ecoregions/gbif/0023670-240906103802322.csv_chunk_0.hdf5\"\n",
    ")"
   ]
  },
  {
   "cell_type": "code",
   "execution_count": null,
   "metadata": {},
   "outputs": [],
   "source": [
    "df"
   ]
  },
  {
   "cell_type": "code",
   "execution_count": null,
   "metadata": {},
   "outputs": [],
   "source": [
    "# read df_essential into a parquet file where user can input the file path\n",
    "df_path = input(\"Enter the file path: \")\n",
    "df.export_parquet(df_path)"
   ]
  }
 ],
 "metadata": {
  "kernelspec": {
   "display_name": "eco",
   "language": "python",
   "name": "python3"
  },
  "language_info": {
   "codemirror_mode": {
    "name": "ipython",
    "version": 3
   },
   "file_extension": ".py",
   "mimetype": "text/x-python",
   "name": "python",
   "nbconvert_exporter": "python",
   "pygments_lexer": "ipython3",
   "version": "3.9.7"
  },
  "orig_nbformat": 4
 },
 "nbformat": 4,
 "nbformat_minor": 2
}
