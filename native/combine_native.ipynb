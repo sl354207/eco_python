{
 "cells": [
  {
   "cell_type": "code",
   "execution_count": null,
   "metadata": {},
   "outputs": [],
   "source": [
    "import pandas as pd"
   ]
  },
  {
   "cell_type": "code",
   "execution_count": null,
   "metadata": {},
   "outputs": [],
   "source": [
    "gap_path = input(\"Enter the gap file path: \")\n",
    "\n",
    "little_path = input(\"Enter the little file path: \")\n",
    "\n",
    "iucn_path = input(\"Enter the iucn file path: \")"
   ]
  },
  {
   "cell_type": "code",
   "execution_count": null,
   "metadata": {},
   "outputs": [],
   "source": [
    "gap = pd.read_parquet(gap_path)\n",
    "\n",
    "\n",
    "gap"
   ]
  },
  {
   "cell_type": "code",
   "execution_count": null,
   "metadata": {},
   "outputs": [],
   "source": [
    "# check = pd.DataFrame()\n",
    "# for i in range(0, len(iucn), 1):\n",
    "\n",
    "#     unique_id = iucn[\"unique_id\"].values[i]\n",
    "\n",
    "#     if unique_id[0] == \"check\":\n",
    "\n",
    "#         check = check.append(iucn.iloc[i])\n",
    "\n",
    "#     # print(check)\n",
    "\n",
    "# check"
   ]
  },
  {
   "cell_type": "code",
   "execution_count": null,
   "metadata": {},
   "outputs": [],
   "source": [
    "little = pd.read_parquet(little_path)\n",
    "\n",
    "little"
   ]
  },
  {
   "cell_type": "code",
   "execution_count": null,
   "metadata": {},
   "outputs": [],
   "source": [
    "iucn = pd.read_parquet(iucn_path)\n",
    "\n",
    "iucn"
   ]
  },
  {
   "cell_type": "code",
   "execution_count": null,
   "metadata": {},
   "outputs": [],
   "source": [
    "little_iucn = pd.merge(little, iucn, on=\"scientific_name\", how=\"inner\")\n",
    "\n",
    "little_iucn"
   ]
  },
  {
   "cell_type": "code",
   "execution_count": null,
   "metadata": {},
   "outputs": [],
   "source": [
    "# remove rows from iucn that have same scientific_name in little\n",
    "\n",
    "iucn = iucn[~iucn.scientific_name.isin(little_iucn.scientific_name)]\n",
    "\n",
    "iucn"
   ]
  },
  {
   "cell_type": "code",
   "execution_count": null,
   "metadata": {},
   "outputs": [],
   "source": [
    "gap = gap[~gap.scientific_name.isin(iucn.scientific_name)]\n",
    "\n",
    "gap"
   ]
  },
  {
   "cell_type": "code",
   "execution_count": null,
   "metadata": {},
   "outputs": [],
   "source": [
    "# concat little, iucn, gap,\n",
    "\n",
    "final = pd.concat(\n",
    "    [\n",
    "        little,\n",
    "        iucn,\n",
    "        gap,\n",
    "    ],\n",
    "    axis=0,\n",
    ")\n",
    "\n",
    "final"
   ]
  },
  {
   "cell_type": "code",
   "execution_count": null,
   "metadata": {},
   "outputs": [],
   "source": [
    "# find duplicates of scientific_name in final\n",
    "\n",
    "duplicates = final[final.duplicated(subset=[\"scientific_name\"], keep=False)]\n",
    "\n",
    "duplicates"
   ]
  },
  {
   "cell_type": "code",
   "execution_count": null,
   "metadata": {},
   "outputs": [],
   "source": [
    "# reset index\n",
    "\n",
    "duplicates.reset_index(drop=True, inplace=True)\n",
    "\n",
    "duplicates\n",
    "\n",
    "# drop index 2\n",
    "\n",
    "duplicates.drop(2, axis=0, inplace=True)\n",
    "\n",
    "duplicates"
   ]
  },
  {
   "cell_type": "code",
   "execution_count": null,
   "metadata": {},
   "outputs": [],
   "source": [
    "# drop duplicates from final\n",
    "\n",
    "final = final[~final[\"scientific_name\"].isin(duplicates[\"scientific_name\"])]\n",
    "\n",
    "final"
   ]
  },
  {
   "cell_type": "code",
   "execution_count": null,
   "metadata": {},
   "outputs": [],
   "source": [
    "# concat duplicates, final\n",
    "\n",
    "final = pd.concat([duplicates, final], axis=0)\n",
    "\n",
    "final"
   ]
  },
  {
   "cell_type": "code",
   "execution_count": null,
   "metadata": {},
   "outputs": [],
   "source": [
    "final.to_parquet()"
   ]
  }
 ],
 "metadata": {
  "kernelspec": {
   "display_name": "eco",
   "language": "python",
   "name": "python3"
  },
  "language_info": {
   "codemirror_mode": {
    "name": "ipython",
    "version": 3
   },
   "file_extension": ".py",
   "mimetype": "text/x-python",
   "name": "python",
   "nbconvert_exporter": "python",
   "pygments_lexer": "ipython3",
   "version": "3.9.7"
  }
 },
 "nbformat": 4,
 "nbformat_minor": 2
}
