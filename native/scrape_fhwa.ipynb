{
 "cells": [
  {
   "cell_type": "code",
   "execution_count": null,
   "metadata": {},
   "outputs": [],
   "source": [
    "import requests\n",
    "import pandas as pd"
   ]
  },
  {
   "cell_type": "code",
   "execution_count": null,
   "metadata": {},
   "outputs": [],
   "source": [
    "# http://www.nativerevegetation.org/era/ExportPlant?countyID=1\n",
    "# http://www.nativerevegetation.org/era/ExportPlant?countyID=3108\n",
    "\n",
    "for i in range(1, 3109):\n",
    "    url = f\"http://www.nativerevegetation.org/era/ExportPlant?countyID={i}\"\n",
    "    response = requests.get(url, stream=True)\n",
    "\n",
    "    if response.status_code != 200:\n",
    "        print(url)\n",
    "\n",
    "    if response.status_code == 200:\n",
    "        with open(\n",
    "            f\"/media/muskrat/T7 Shield/eco_data/v3/native/FHWA_ERA/scraped/{i}.zip\",\n",
    "            mode=\"wb\",\n",
    "        ) as file:\n",
    "            for chunk in response.iter_content(chunk_size=10 * 1024):\n",
    "                file.write(chunk)\n",
    "\n",
    "        print(f\"Downloaded {i}.zip\")"
   ]
  },
  {
   "cell_type": "code",
   "execution_count": null,
   "metadata": {},
   "outputs": [],
   "source": []
  }
 ],
 "metadata": {
  "language_info": {
   "name": "python"
  }
 },
 "nbformat": 4,
 "nbformat_minor": 2
}
