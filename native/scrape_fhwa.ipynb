{
 "cells": [
  {
   "cell_type": "code",
   "execution_count": null,
   "metadata": {},
   "outputs": [],
   "source": [
    "import requests\n",
    "import pandas as pd"
   ]
  },
  {
   "cell_type": "code",
   "execution_count": null,
   "metadata": {},
   "outputs": [],
   "source": [
    "# http://www.nativerevegetation.org/era/ExportPlant?countyID=1\n",
    "# http://www.nativerevegetation.org/era/ExportPlant?countyID=3108\n",
    "\n",
    "for i in range(1, 3109):\n",
    "    url = f\"http://www.nativerevegetation.org/era/ExportPlant?countyID={i}\""
   ]
  },
  {
   "cell_type": "code",
   "execution_count": null,
   "metadata": {},
   "outputs": [],
   "source": []
  }
 ],
 "metadata": {
  "language_info": {
   "name": "python"
  }
 },
 "nbformat": 4,
 "nbformat_minor": 2
}
