{
 "cells": [
  {
   "cell_type": "code",
   "execution_count": null,
   "metadata": {},
   "outputs": [],
   "source": [
    "# compare species lists from different sources to see overlap and which ones to use where.\n",
    "\n",
    "import geopandas as gpd\n",
    "\n",
    "import rioxarray\n",
    "import xarray as xr\n",
    "\n",
    "import pandas as pd"
   ]
  },
  {
   "cell_type": "code",
   "execution_count": null,
   "metadata": {},
   "outputs": [],
   "source": [
    "# read csv to variable little\n",
    "\n",
    "little = pd.read_csv(\n",
    "    \"/media/muskrat/T7 Shield/eco_data/v3/native/little/7445016/wpetry/USTreeAtlas-v1.0/wpetry-USTreeAtlas-4999258/Little_datatable.csv\"\n",
    ")"
   ]
  },
  {
   "cell_type": "code",
   "execution_count": null,
   "metadata": {},
   "outputs": [],
   "source": [
    "little.head()"
   ]
  },
  {
   "cell_type": "code",
   "execution_count": null,
   "metadata": {},
   "outputs": [],
   "source": [
    "jann = pd.read_csv(\n",
    "    \"/media/muskrat/T7 Shield/eco_data/v3/native/Jann/basic-extract/metadata_default.csv\"\n",
    ")"
   ]
  },
  {
   "cell_type": "code",
   "execution_count": null,
   "metadata": {},
   "outputs": [],
   "source": [
    "jann.head()"
   ]
  },
  {
   "cell_type": "code",
   "execution_count": null,
   "metadata": {},
   "outputs": [],
   "source": [
    "zip = \"/media/muskrat/T7 Shield/eco_data/v3/native/IUCN/MAMMALS.zip\"\n",
    "\n",
    "iucn = gpd.read_file(zip)"
   ]
  },
  {
   "cell_type": "code",
   "execution_count": null,
   "metadata": {},
   "outputs": [],
   "source": [
    "iucn.head()"
   ]
  },
  {
   "cell_type": "code",
   "execution_count": null,
   "metadata": {},
   "outputs": [],
   "source": [
    "gap = pd.read_csv(\n",
    "    \"/media/muskrat/T7 Shield/eco_data/v3/native/GAP/U_S_GeologicalS (1)/ScienceBaseHabMapCSV_20190410.csv\"\n",
    ")"
   ]
  },
  {
   "cell_type": "code",
   "execution_count": null,
   "metadata": {},
   "outputs": [],
   "source": [
    "gap.head()"
   ]
  },
  {
   "cell_type": "code",
   "execution_count": null,
   "metadata": {},
   "outputs": [],
   "source": [
    "# create new dataframe with a column for sci_name from iucn, a Latin Name from little, and scientificname from jann\n",
    "\n",
    "df = pd.DataFrame(\n",
    "    {\n",
    "        \"iucn\": iucn[\"sci_name\"],\n",
    "        \"little\": little[\"Latin Name\"],\n",
    "        \"jann\": jann[\"scientificname\"],\n",
    "        \"gap\": gap[\"scientific_name\"],\n",
    "    }\n",
    ")\n",
    "df.head()"
   ]
  },
  {
   "cell_type": "code",
   "execution_count": null,
   "metadata": {},
   "outputs": [],
   "source": [
    "# create a list of distinct latin names\n",
    "\n",
    "little_names = df[\"little\"].unique()\n",
    "\n",
    "iucn_names = df[\"iucn\"].unique()\n",
    "\n",
    "jann_names = df[\"jann\"].unique()\n",
    "\n",
    "gap_names = df[\"gap\"].unique()"
   ]
  },
  {
   "cell_type": "code",
   "execution_count": null,
   "metadata": {},
   "outputs": [],
   "source": [
    "# drop missing values from latin_names\n",
    "\n",
    "little_names = pd.DataFrame(little_names).dropna()\n",
    "\n",
    "iucn_names = pd.DataFrame(iucn_names).dropna()\n",
    "\n",
    "jann_names = pd.DataFrame(jann_names).dropna()\n",
    "\n",
    "gap_names = pd.DataFrame(gap_names).dropna()"
   ]
  },
  {
   "cell_type": "code",
   "execution_count": null,
   "metadata": {},
   "outputs": [],
   "source": [
    "# combine dataframes into single list of names and find unique values\n",
    "\n",
    "names = pd.concat([gap_names, iucn_names])\n",
    "\n",
    "names = names.drop_duplicates()\n",
    "\n",
    "names = names[0].tolist()"
   ]
  },
  {
   "cell_type": "code",
   "execution_count": null,
   "metadata": {},
   "outputs": [],
   "source": [
    "# 70% overlap between little and jann\n",
    "# 4% overlap between little and iucn\n",
    "# 70% overlap between jann and iucn\n",
    "# 72% overlap between gap and iucn (checked mammals only)"
   ]
  },
  {
   "cell_type": "code",
   "execution_count": null,
   "metadata": {},
   "outputs": [],
   "source": []
  }
 ],
 "metadata": {
  "kernelspec": {
   "display_name": "eco",
   "language": "python",
   "name": "python3"
  },
  "language_info": {
   "codemirror_mode": {
    "name": "ipython",
    "version": 3
   },
   "file_extension": ".py",
   "mimetype": "text/x-python",
   "name": "python",
   "nbconvert_exporter": "python",
   "pygments_lexer": "ipython3",
   "version": "3.9.7"
  }
 },
 "nbformat": 4,
 "nbformat_minor": 2
}
