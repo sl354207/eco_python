{
 "cells": [
  {
   "cell_type": "code",
   "execution_count": 1,
   "metadata": {},
   "outputs": [],
   "source": [
    "# compare species lists from different sources to see overlap and which ones to use where.\n",
    "\n",
    "import geopandas as gpd\n",
    "\n",
    "import rioxarray\n",
    "import xarray as xr\n",
    "\n",
    "import pandas as pd"
   ]
  },
  {
   "cell_type": "code",
   "execution_count": 2,
   "metadata": {},
   "outputs": [],
   "source": [
    "# read csv to variable little\n",
    "\n",
    "little = pd.read_csv(\n",
    "    \"/media/muskrat/T7 Shield/eco_data/v3/native/little/7445016/wpetry/USTreeAtlas-v1.0/wpetry-USTreeAtlas-4999258/Little_datatable.csv\"\n",
    ")"
   ]
  },
  {
   "cell_type": "code",
   "execution_count": null,
   "metadata": {},
   "outputs": [],
   "source": [
    "little.head()"
   ]
  },
  {
   "cell_type": "code",
   "execution_count": 3,
   "metadata": {},
   "outputs": [],
   "source": [
    "jann = pd.read_csv(\n",
    "    \"/media/muskrat/T7 Shield/eco_data/v3/native/Jann/basic-extract/metadata_default.csv\"\n",
    ")"
   ]
  },
  {
   "cell_type": "code",
   "execution_count": null,
   "metadata": {},
   "outputs": [],
   "source": [
    "jann.head()"
   ]
  },
  {
   "cell_type": "code",
   "execution_count": 5,
   "metadata": {},
   "outputs": [],
   "source": [
    "zip = \"/media/muskrat/T7 Shield/eco_data/v3/native/IUCN/MAMMALS.zip\"\n",
    "\n",
    "iucn = gpd.read_file(zip)"
   ]
  },
  {
   "cell_type": "code",
   "execution_count": null,
   "metadata": {},
   "outputs": [],
   "source": [
    "iucn.head()"
   ]
  },
  {
   "cell_type": "code",
   "execution_count": 4,
   "metadata": {},
   "outputs": [],
   "source": [
    "gap = pd.read_csv(\n",
    "    \"/media/muskrat/T7 Shield/eco_data/v3/native/GAP/U_S_GeologicalS (1)/ScienceBaseHabMapCSV_20190410.csv\"\n",
    ")"
   ]
  },
  {
   "cell_type": "code",
   "execution_count": null,
   "metadata": {},
   "outputs": [],
   "source": [
    "gap.head()"
   ]
  },
  {
   "cell_type": "code",
   "execution_count": 6,
   "metadata": {},
   "outputs": [
    {
     "data": {
      "text/html": [
       "<div>\n",
       "<style scoped>\n",
       "    .dataframe tbody tr th:only-of-type {\n",
       "        vertical-align: middle;\n",
       "    }\n",
       "\n",
       "    .dataframe tbody tr th {\n",
       "        vertical-align: top;\n",
       "    }\n",
       "\n",
       "    .dataframe thead th {\n",
       "        text-align: right;\n",
       "    }\n",
       "</style>\n",
       "<table border=\"1\" class=\"dataframe\">\n",
       "  <thead>\n",
       "    <tr style=\"text-align: right;\">\n",
       "      <th></th>\n",
       "      <th>iucn</th>\n",
       "      <th>little</th>\n",
       "      <th>jann</th>\n",
       "      <th>gap</th>\n",
       "    </tr>\n",
       "  </thead>\n",
       "  <tbody>\n",
       "    <tr>\n",
       "      <th>0</th>\n",
       "      <td>Sphaerias blanfordi</td>\n",
       "      <td>Abies amabilis</td>\n",
       "      <td>Aa calceata</td>\n",
       "      <td>Eurycea waterlooensis</td>\n",
       "    </tr>\n",
       "    <tr>\n",
       "      <th>1</th>\n",
       "      <td>Ochotona turuchanensis</td>\n",
       "      <td>Abies balsamea</td>\n",
       "      <td>Aa mandonii</td>\n",
       "      <td>Plethodon chlorobryonis</td>\n",
       "    </tr>\n",
       "    <tr>\n",
       "      <th>2</th>\n",
       "      <td>Dasypus novemcinctus</td>\n",
       "      <td>Abies bracteata</td>\n",
       "      <td>Aa matthewsii</td>\n",
       "      <td>Desmognathus apalachicolae</td>\n",
       "    </tr>\n",
       "    <tr>\n",
       "      <th>3</th>\n",
       "      <td>Dasypus novemcinctus</td>\n",
       "      <td>Abies concolor</td>\n",
       "      <td>Abarema abbottii</td>\n",
       "      <td>Anaxyrus nelsoni</td>\n",
       "    </tr>\n",
       "    <tr>\n",
       "      <th>4</th>\n",
       "      <td>Dasypus novemcinctus</td>\n",
       "      <td>Abies fraseri</td>\n",
       "      <td>Abarema adenophora</td>\n",
       "      <td>Lithobates catesbeianus</td>\n",
       "    </tr>\n",
       "  </tbody>\n",
       "</table>\n",
       "</div>"
      ],
      "text/plain": [
       "                     iucn           little                jann  \\\n",
       "0     Sphaerias blanfordi   Abies amabilis         Aa calceata   \n",
       "1  Ochotona turuchanensis   Abies balsamea         Aa mandonii   \n",
       "2    Dasypus novemcinctus  Abies bracteata       Aa matthewsii   \n",
       "3    Dasypus novemcinctus   Abies concolor    Abarema abbottii   \n",
       "4    Dasypus novemcinctus    Abies fraseri  Abarema adenophora   \n",
       "\n",
       "                          gap  \n",
       "0       Eurycea waterlooensis  \n",
       "1     Plethodon chlorobryonis  \n",
       "2  Desmognathus apalachicolae  \n",
       "3            Anaxyrus nelsoni  \n",
       "4     Lithobates catesbeianus  "
      ]
     },
     "execution_count": 6,
     "metadata": {},
     "output_type": "execute_result"
    }
   ],
   "source": [
    "# create new dataframe with a column for sci_name from iucn, a Latin Name from little, and scientificname from jann\n",
    "\n",
    "df = pd.DataFrame(\n",
    "    {\n",
    "        \"iucn\": iucn[\"sci_name\"],\n",
    "        \"little\": little[\"Latin Name\"],\n",
    "        \"jann\": jann[\"scientificname\"],\n",
    "        \"gap\": gap[\"scientific_name\"],\n",
    "    }\n",
    ")\n",
    "df.head()"
   ]
  },
  {
   "cell_type": "code",
   "execution_count": 7,
   "metadata": {},
   "outputs": [],
   "source": [
    "# create a list of distinct latin names\n",
    "\n",
    "little_names = df[\"little\"].unique()\n",
    "\n",
    "iucn_names = df[\"iucn\"].unique()\n",
    "\n",
    "jann_names = df[\"jann\"].unique()\n",
    "\n",
    "gap_names = df[\"gap\"].unique()"
   ]
  },
  {
   "cell_type": "code",
   "execution_count": 8,
   "metadata": {},
   "outputs": [],
   "source": [
    "# drop missing values from latin_names\n",
    "\n",
    "little_names = pd.DataFrame(little_names).dropna()\n",
    "\n",
    "iucn_names = pd.DataFrame(iucn_names).dropna()\n",
    "\n",
    "jann_names = pd.DataFrame(jann_names).dropna()\n",
    "\n",
    "gap_names = pd.DataFrame(gap_names).dropna()"
   ]
  },
  {
   "cell_type": "code",
   "execution_count": 10,
   "metadata": {},
   "outputs": [],
   "source": [
    "# combine dataframes into single list of names and find unique values\n",
    "\n",
    "names = pd.concat([gap_names, iucn_names])\n",
    "\n",
    "names = names.drop_duplicates()\n",
    "\n",
    "names = names[0].tolist()"
   ]
  },
  {
   "cell_type": "code",
   "execution_count": null,
   "metadata": {},
   "outputs": [],
   "source": [
    "# 70% overlap between little and jann\n",
    "# 4% overlap between little and iucn\n",
    "# 70% overlap between jann and iucn\n",
    "# 72% overlap between gap and iucn (checked mammals only)"
   ]
  },
  {
   "cell_type": "code",
   "execution_count": null,
   "metadata": {},
   "outputs": [],
   "source": []
  }
 ],
 "metadata": {
  "kernelspec": {
   "display_name": "eco",
   "language": "python",
   "name": "python3"
  },
  "language_info": {
   "codemirror_mode": {
    "name": "ipython",
    "version": 3
   },
   "file_extension": ".py",
   "mimetype": "text/x-python",
   "name": "python",
   "nbconvert_exporter": "python",
   "pygments_lexer": "ipython3",
   "version": "3.9.7"
  }
 },
 "nbformat": 4,
 "nbformat_minor": 2
}
