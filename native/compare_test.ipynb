{
 "cells": [
  {
   "cell_type": "code",
   "execution_count": null,
   "metadata": {},
   "outputs": [],
   "source": [
    "# compare species lists from different sources to see overlap and which ones to use where.\n",
    "\n",
    "import geopandas as gpd\n",
    "\n",
    "import rioxarray\n",
    "import xarray as xr\n",
    "\n",
    "import pandas as pd"
   ]
  },
  {
   "cell_type": "code",
   "execution_count": null,
   "metadata": {},
   "outputs": [],
   "source": [
    "# read csv to variable little\n",
    "\n",
    "little = pd.read_csv(\n",
    "    \"/media/muskrat/T7 Shield/eco_data/v3/native/little/7445016/wpetry/USTreeAtlas-v1.0/wpetry-USTreeAtlas-4999258/Little_datatable.csv\"\n",
    ")"
   ]
  },
  {
   "cell_type": "code",
   "execution_count": null,
   "metadata": {},
   "outputs": [],
   "source": [
    "little.head()"
   ]
  },
  {
   "cell_type": "code",
   "execution_count": null,
   "metadata": {},
   "outputs": [],
   "source": [
    "jann = pd.read_csv(\n",
    "    \"/media/muskrat/T7 Shield/eco_data/v3/native/Jann/basic-extract/metadata_default.csv\"\n",
    ")"
   ]
  },
  {
   "cell_type": "code",
   "execution_count": null,
   "metadata": {},
   "outputs": [],
   "source": [
    "jann.head()"
   ]
  },
  {
   "cell_type": "code",
   "execution_count": null,
   "metadata": {},
   "outputs": [],
   "source": [
    "zip = \"/media/muskrat/T7 Shield/eco_data/v3/native/IUCN/MAMMALS.zip\"\n",
    "\n",
    "iucn = gpd.read_file(zip)"
   ]
  },
  {
   "cell_type": "code",
   "execution_count": null,
   "metadata": {},
   "outputs": [],
   "source": [
    "iucn.head()"
   ]
  },
  {
   "cell_type": "code",
   "execution_count": null,
   "metadata": {},
   "outputs": [],
   "source": [
    "gap = pd.read_csv(\n",
    "    \"/media/muskrat/T7 Shield/eco_data/v3/native/GAP/U_S_GeologicalS (1)/ScienceBaseHabMapCSV_20190410.csv\"\n",
    ")"
   ]
  },
  {
   "cell_type": "code",
   "execution_count": null,
   "metadata": {},
   "outputs": [],
   "source": [
    "gap.head()"
   ]
  },
  {
   "cell_type": "code",
   "execution_count": null,
   "metadata": {},
   "outputs": [],
   "source": [
    "fhwa_excel = pd.read_excel(\n",
    "    \"/media/muskrat/T7 Shield/eco_data/v3/native/FHWA_ERA/ERAtool_AllEcoregionPlantExport.xlsx\",\n",
    "    sheet_name=None,\n",
    ")"
   ]
  },
  {
   "cell_type": "code",
   "execution_count": null,
   "metadata": {},
   "outputs": [],
   "source": [
    "# create list of keys of fhwa\n",
    "\n",
    "keys = list(fhwa_excel.keys())\n",
    "\n",
    "keys"
   ]
  },
  {
   "cell_type": "code",
   "execution_count": null,
   "metadata": {},
   "outputs": [],
   "source": [
    "# remove first item from list of keys\n",
    "\n",
    "keys.pop(0)\n",
    "\n",
    "keys"
   ]
  },
  {
   "cell_type": "code",
   "execution_count": null,
   "metadata": {},
   "outputs": [],
   "source": [
    "# for each key in keys, create new dataframe with columns Scientific Name and Common Namefrom fhwa[key]\n",
    "fhwa = pd.DataFrame()\n",
    "\n",
    "for key in keys:\n",
    "    fhwa = pd.concat([fhwa, fhwa_excel[key][[\"Scientific Name\", \"Common Name\"]]])\n",
    "\n",
    "\n",
    "# print(fhwa[keys[1]].keys()[2])"
   ]
  },
  {
   "cell_type": "code",
   "execution_count": null,
   "metadata": {},
   "outputs": [],
   "source": [
    "fhwa = fhwa.drop_duplicates()"
   ]
  },
  {
   "cell_type": "code",
   "execution_count": null,
   "metadata": {},
   "outputs": [],
   "source": [
    "fhwa"
   ]
  },
  {
   "cell_type": "code",
   "execution_count": null,
   "metadata": {},
   "outputs": [],
   "source": [
    "fhwa = fhwa.rename(\n",
    "    columns={\"Scientific Name\": \"scientific_name\", \"Common Name\": \"common_name\"}\n",
    ")"
   ]
  },
  {
   "cell_type": "code",
   "execution_count": null,
   "metadata": {},
   "outputs": [],
   "source": [
    "fhwa"
   ]
  },
  {
   "cell_type": "code",
   "execution_count": null,
   "metadata": {},
   "outputs": [],
   "source": [
    "# create new dataframe with a column for sci_name from iucn, a Latin Name from little, and scientificname from jann\n",
    "\n",
    "df = pd.DataFrame(\n",
    "    {\n",
    "        \"iucn\": iucn[\"sci_name\"],\n",
    "        \"little\": little[\"Latin Name\"],\n",
    "        \"jann\": jann[\"scientificname\"],\n",
    "        \"gap\": gap[\"scientific_name\"],\n",
    "    }\n",
    ")\n",
    "df.head()"
   ]
  },
  {
   "cell_type": "code",
   "execution_count": null,
   "metadata": {},
   "outputs": [],
   "source": [
    "# create a list of distinct latin names\n",
    "\n",
    "little_names = df[\"little\"].unique()\n",
    "\n",
    "iucn_names = df[\"iucn\"].unique()\n",
    "\n",
    "jann_names = df[\"jann\"].unique()\n",
    "\n",
    "gap_names = df[\"gap\"].unique()"
   ]
  },
  {
   "cell_type": "code",
   "execution_count": null,
   "metadata": {},
   "outputs": [],
   "source": [
    "fhwa_names = fhwa[\"scientific_name\"].unique()"
   ]
  },
  {
   "cell_type": "code",
   "execution_count": null,
   "metadata": {},
   "outputs": [],
   "source": [
    "jann_names = jann[\"scientificname\"].unique()"
   ]
  },
  {
   "cell_type": "code",
   "execution_count": null,
   "metadata": {},
   "outputs": [],
   "source": [
    "little_names = little[\"Latin Name\"].unique()"
   ]
  },
  {
   "cell_type": "code",
   "execution_count": null,
   "metadata": {},
   "outputs": [],
   "source": [
    "# drop missing values from latin_names\n",
    "\n",
    "little_names = pd.DataFrame(little_names).dropna()\n",
    "\n",
    "# iucn_names = pd.DataFrame(iucn_names).dropna()\n",
    "\n",
    "jann_names = pd.DataFrame(jann_names).dropna()\n",
    "\n",
    "# gap_names = pd.DataFrame(gap_names).dropna()"
   ]
  },
  {
   "cell_type": "code",
   "execution_count": null,
   "metadata": {},
   "outputs": [],
   "source": [
    "fhwa_names = pd.DataFrame(fhwa_names).dropna()"
   ]
  },
  {
   "cell_type": "code",
   "execution_count": null,
   "metadata": {},
   "outputs": [],
   "source": [
    "# combine dataframes into single list of names and find unique values\n",
    "\n",
    "names = pd.concat([little_names, jann_names])\n",
    "\n",
    "names = names.drop_duplicates()\n",
    "\n",
    "names = names[0].tolist()"
   ]
  },
  {
   "cell_type": "code",
   "execution_count": null,
   "metadata": {},
   "outputs": [],
   "source": [
    "# MIGHT ALL BE WRONG SHOULD RECHECK\n",
    "# 7% overlap between fhwa and little\n",
    "# 2% overlap between fhwa and jann\n",
    "# 70% overlap between little and jann\n",
    "# 4% overlap between little and iucn\n",
    "# 70% overlap between jann and iucn\n",
    "# 72% overlap between gap and iucn (checked mammals only)"
   ]
  },
  {
   "cell_type": "code",
   "execution_count": null,
   "metadata": {},
   "outputs": [],
   "source": []
  }
 ],
 "metadata": {
  "kernelspec": {
   "display_name": "eco",
   "language": "python",
   "name": "python3"
  },
  "language_info": {
   "codemirror_mode": {
    "name": "ipython",
    "version": 3
   },
   "file_extension": ".py",
   "mimetype": "text/x-python",
   "name": "python",
   "nbconvert_exporter": "python",
   "pygments_lexer": "ipython3",
   "version": "3.9.7"
  }
 },
 "nbformat": 4,
 "nbformat_minor": 2
}
